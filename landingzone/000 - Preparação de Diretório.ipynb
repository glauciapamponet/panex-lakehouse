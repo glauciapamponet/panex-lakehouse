{
 "cells": [
  {
   "cell_type": "markdown",
   "metadata": {
    "application/vnd.databricks.v1+cell": {
     "cellMetadata": {},
     "inputWidgets": {},
     "nuid": "5282de11-f68c-4beb-99fd-6c278dd43ef7",
     "showTitle": false,
     "tableResultSettingsMap": {},
     "title": ""
    }
   },
   "source": [
    "## Desafio DWE2025 - Preparação de Diretório LakeHouse\n",
    "- **Criação de todas as divisões de pastas para todas as camadas:** uma vez que já possuimos a estrutura do LakeHouse estabelecida, manter o diretório criado auxilia no cumprimento do modelo conceitual adotado, sem erros de nomes ou de estrutura."
   ]
  },
  {
   "cell_type": "code",
   "execution_count": 0,
   "metadata": {
    "application/vnd.databricks.v1+cell": {
     "cellMetadata": {
      "byteLimit": 2048000,
      "rowLimit": 10000
     },
     "inputWidgets": {},
     "nuid": "84c0e3c0-8d85-4c06-afb2-412a74b9b601",
     "showTitle": false,
     "tableResultSettingsMap": {},
     "title": ""
    }
   },
   "outputs": [],
   "source": [
    "# Caminho raiz do LakeHouse\n",
    "root_path = '/mnt/desafio-dwe-25/lhdw'"
   ]
  },
  {
   "cell_type": "markdown",
   "metadata": {
    "application/vnd.databricks.v1+cell": {
     "cellMetadata": {},
     "inputWidgets": {},
     "nuid": "b20945cd-1c4b-4add-8aa5-3083ab4fdd7a",
     "showTitle": false,
     "tableResultSettingsMap": {},
     "title": ""
    }
   },
   "source": [
    "### Diretório LandingZone"
   ]
  },
  {
   "cell_type": "code",
   "execution_count": 0,
   "metadata": {
    "application/vnd.databricks.v1+cell": {
     "cellMetadata": {
      "byteLimit": 2048000,
      "rowLimit": 10000
     },
     "inputWidgets": {},
     "nuid": "44242c99-a7c5-4a98-9505-e7ccb6a4203c",
     "showTitle": false,
     "tableResultSettingsMap": {},
     "title": ""
    }
   },
   "outputs": [
    {
     "output_type": "stream",
     "name": "stdout",
     "output_type": "stream",
     "text": [
      "Out[3]: True"
     ]
    }
   ],
   "source": [
    "#Caminhos do LakeHouse no DBFS para LandingZone\n",
    "lz_path = f'{root_path}/landingzone'\n",
    "lz_fato = f'{lz_path}/fato'\n",
    "lz_dim = f'{lz_path}/dim/'\n",
    "\n",
    "lz_fato_in = f'{lz_fato}/processar/'\n",
    "lz_fato_out = f'{lz_fato}/processado/'\n",
    "\n",
    "lz_dim_in = f'{lz_dim}/processar/'\n",
    "lz_dim_out = f'{lz_dim}/processado/'\n",
    "\n",
    "# Criação dos Diretórios LandingZone no DBFS\n",
    "dbutils.fs.mkdirs(lz_path)\n",
    "dbutils.fs.mkdirs(lz_fato)\n",
    "dbutils.fs.mkdirs(lz_dim)\n",
    "\n",
    "dbutils.fs.mkdirs(lz_fato_in)\n",
    "dbutils.fs.mkdirs(lz_fato_out)\n",
    "dbutils.fs.mkdirs(lz_dim_in)\n",
    "dbutils.fs.mkdirs(lz_dim_out)"
   ]
  },
  {
   "cell_type": "code",
   "execution_count": 0,
   "metadata": {
    "application/vnd.databricks.v1+cell": {
     "cellMetadata": {
      "byteLimit": 2048000,
      "rowLimit": 10000
     },
     "inputWidgets": {},
     "nuid": "e7a56430-54c5-42e0-8ab2-5e6b5f73595e",
     "showTitle": false,
     "tableResultSettingsMap": {},
     "title": ""
    }
   },
   "outputs": [
    {
     "output_type": "display_data",
     "data": {
      "text/html": [
       "<style scoped>\n",
       "  .table-result-container {\n",
       "    max-height: 300px;\n",
       "    overflow: auto;\n",
       "  }\n",
       "  table, th, td {\n",
       "    border: 1px solid black;\n",
       "    border-collapse: collapse;\n",
       "  }\n",
       "  th, td {\n",
       "    padding: 5px;\n",
       "  }\n",
       "  th {\n",
       "    text-align: left;\n",
       "  }\n",
       "</style><div class='table-result-container'><table class='table-result'><thead style='background-color: white'><tr><th>path</th><th>name</th><th>size</th><th>modificationTime</th></tr></thead><tbody><tr><td>dbfs:/mnt/desafio-dwe-25/lhdw/landingzone/fato/processar/vendas_1.csv</td><td>vendas_1.csv</td><td>24693678</td><td>1739912011000</td></tr><tr><td>dbfs:/mnt/desafio-dwe-25/lhdw/landingzone/fato/processar/vendas_2.csv</td><td>vendas_2.csv</td><td>24693663</td><td>1739912014000</td></tr><tr><td>dbfs:/mnt/desafio-dwe-25/lhdw/landingzone/fato/processar/vendas_3.csv</td><td>vendas_3.csv</td><td>24693601</td><td>1739912016000</td></tr></tbody></table></div>"
      ]
     },
     "metadata": {
      "application/vnd.databricks.v1+output": {
       "addedWidgets": {},
       "aggData": [],
       "aggError": "",
       "aggOverflow": false,
       "aggSchema": [],
       "aggSeriesLimitReached": false,
       "aggType": "",
       "arguments": {},
       "columnCustomDisplayInfos": {},
       "data": [
        [
         "dbfs:/mnt/desafio-dwe-25/lhdw/landingzone/fato/processar/vendas_1.csv",
         "vendas_1.csv",
         24693678,
         1739912011000
        ],
        [
         "dbfs:/mnt/desafio-dwe-25/lhdw/landingzone/fato/processar/vendas_2.csv",
         "vendas_2.csv",
         24693663,
         1739912014000
        ],
        [
         "dbfs:/mnt/desafio-dwe-25/lhdw/landingzone/fato/processar/vendas_3.csv",
         "vendas_3.csv",
         24693601,
         1739912016000
        ]
       ],
       "datasetInfos": [],
       "dbfsResultPath": null,
       "isJsonSchema": true,
       "metadata": {
        "isDbfsCommandResult": false
       },
       "overflow": false,
       "plotOptions": {
        "customPlotOptions": {},
        "displayType": "table",
        "pivotAggregation": null,
        "pivotColumns": null,
        "xColumns": null,
        "yColumns": null
       },
       "removedWidgets": [],
       "schema": [
        {
         "metadata": "{}",
         "name": "path",
         "type": "\"string\""
        },
        {
         "metadata": "{}",
         "name": "name",
         "type": "\"string\""
        },
        {
         "metadata": "{}",
         "name": "size",
         "type": "\"long\""
        },
        {
         "metadata": "{}",
         "name": "modificationTime",
         "type": "\"long\""
        }
       ],
       "type": "table"
      }
     },
     "output_type": "display_data"
    }
   ],
   "source": [
    "%fs ls /mnt/desafio-dwe-25/lhdw/landingzone/fato/processar/"
   ]
  },
  {
   "cell_type": "code",
   "execution_count": 0,
   "metadata": {
    "application/vnd.databricks.v1+cell": {
     "cellMetadata": {
      "byteLimit": 2048000,
      "rowLimit": 10000
     },
     "inputWidgets": {},
     "nuid": "903be465-8399-4fa1-8c73-568fc6ad3a8e",
     "showTitle": false,
     "tableResultSettingsMap": {},
     "title": ""
    }
   },
   "outputs": [
    {
     "output_type": "display_data",
     "data": {
      "text/html": [
       "<style scoped>\n",
       "  .table-result-container {\n",
       "    max-height: 300px;\n",
       "    overflow: auto;\n",
       "  }\n",
       "  table, th, td {\n",
       "    border: 1px solid black;\n",
       "    border-collapse: collapse;\n",
       "  }\n",
       "  th, td {\n",
       "    padding: 5px;\n",
       "  }\n",
       "  th {\n",
       "    text-align: left;\n",
       "  }\n",
       "</style><div class='table-result-container'><table class='table-result'><thead style='background-color: white'><tr><th>path</th><th>name</th><th>size</th><th>modificationTime</th></tr></thead><tbody><tr><td>dbfs:/mnt/desafio-dwe-25/lhdw/landingzone/dim/processar/categorias.csv</td><td>categorias.csv</td><td>139</td><td>1739911948000</td></tr><tr><td>dbfs:/mnt/desafio-dwe-25/lhdw/landingzone/dim/processar/cidades.csv</td><td>cidades.csv</td><td>2167</td><td>1739911949000</td></tr><tr><td>dbfs:/mnt/desafio-dwe-25/lhdw/landingzone/dim/processar/clientes.csv</td><td>clientes.csv</td><td>4436742</td><td>1739911950000</td></tr><tr><td>dbfs:/mnt/desafio-dwe-25/lhdw/landingzone/dim/processar/paises.csv</td><td>paises.csv</td><td>3171</td><td>1739911950000</td></tr><tr><td>dbfs:/mnt/desafio-dwe-25/lhdw/landingzone/dim/processar/produtos.csv</td><td>produtos.csv</td><td>36851</td><td>1739911951000</td></tr><tr><td>dbfs:/mnt/desafio-dwe-25/lhdw/landingzone/dim/processar/vendedores.csv</td><td>vendedores.csv</td><td>1728</td><td>1739911951000</td></tr></tbody></table></div>"
      ]
     },
     "metadata": {
      "application/vnd.databricks.v1+output": {
       "addedWidgets": {},
       "aggData": [],
       "aggError": "",
       "aggOverflow": false,
       "aggSchema": [],
       "aggSeriesLimitReached": false,
       "aggType": "",
       "arguments": {},
       "columnCustomDisplayInfos": {},
       "data": [
        [
         "dbfs:/mnt/desafio-dwe-25/lhdw/landingzone/dim/processar/categorias.csv",
         "categorias.csv",
         139,
         1739911948000
        ],
        [
         "dbfs:/mnt/desafio-dwe-25/lhdw/landingzone/dim/processar/cidades.csv",
         "cidades.csv",
         2167,
         1739911949000
        ],
        [
         "dbfs:/mnt/desafio-dwe-25/lhdw/landingzone/dim/processar/clientes.csv",
         "clientes.csv",
         4436742,
         1739911950000
        ],
        [
         "dbfs:/mnt/desafio-dwe-25/lhdw/landingzone/dim/processar/paises.csv",
         "paises.csv",
         3171,
         1739911950000
        ],
        [
         "dbfs:/mnt/desafio-dwe-25/lhdw/landingzone/dim/processar/produtos.csv",
         "produtos.csv",
         36851,
         1739911951000
        ],
        [
         "dbfs:/mnt/desafio-dwe-25/lhdw/landingzone/dim/processar/vendedores.csv",
         "vendedores.csv",
         1728,
         1739911951000
        ]
       ],
       "datasetInfos": [],
       "dbfsResultPath": null,
       "isJsonSchema": true,
       "metadata": {
        "isDbfsCommandResult": false
       },
       "overflow": false,
       "plotOptions": {
        "customPlotOptions": {},
        "displayType": "table",
        "pivotAggregation": null,
        "pivotColumns": null,
        "xColumns": null,
        "yColumns": null
       },
       "removedWidgets": [],
       "schema": [
        {
         "metadata": "{}",
         "name": "path",
         "type": "\"string\""
        },
        {
         "metadata": "{}",
         "name": "name",
         "type": "\"string\""
        },
        {
         "metadata": "{}",
         "name": "size",
         "type": "\"long\""
        },
        {
         "metadata": "{}",
         "name": "modificationTime",
         "type": "\"long\""
        }
       ],
       "type": "table"
      }
     },
     "output_type": "display_data"
    }
   ],
   "source": [
    "%fs ls /mnt/desafio-dwe-25/lhdw/landingzone/dim/processar/"
   ]
  },
  {
   "cell_type": "markdown",
   "metadata": {
    "application/vnd.databricks.v1+cell": {
     "cellMetadata": {},
     "inputWidgets": {},
     "nuid": "0455a32b-c93b-4255-b568-6f1ab0b776ac",
     "showTitle": false,
     "tableResultSettingsMap": {},
     "title": ""
    }
   },
   "source": [
    "### Diretorio Bronze"
   ]
  },
  {
   "cell_type": "code",
   "execution_count": 0,
   "metadata": {
    "application/vnd.databricks.v1+cell": {
     "cellMetadata": {
      "byteLimit": 2048000,
      "rowLimit": 10000
     },
     "inputWidgets": {},
     "nuid": "4586bc2d-ebae-4189-9107-34a7b0beabaa",
     "showTitle": false,
     "tableResultSettingsMap": {},
     "title": ""
    }
   },
   "outputs": [
    {
     "output_type": "stream",
     "name": "stdout",
     "output_type": "stream",
     "text": [
      "Out[14]: True"
     ]
    }
   ],
   "source": [
    "#Caminhos do LakeHouse no DBFS para Bronze\n",
    "br_path = f'{root_path}/bronze'\n",
    "br_fato = f'{br_path}/fato'\n",
    "br_dim = f'{br_path}/dim'\n",
    "\n",
    "# Diretorio Fato Vendas \n",
    "vendas_path = f'{br_fato}/VENDAS/'\n",
    "\n",
    "# Diretorios Dimensão\n",
    "categorias_path = f'{br_dim}/CATEGORIA/'\n",
    "cidades_path = f'{br_dim}/CIDADE/'\n",
    "produtos_path = f'{br_dim}/PRODUTO/'\n",
    "clientes_path = f'{br_dim}/CLIENTE/'\n",
    "paises_path = f'{br_dim}/PAIS/'\n",
    "vendedores_path = f'{br_dim}/VENDEDOR/'\n",
    "\n",
    "# Criação dos Diretórios Bronze no DBFS\n",
    "dbutils.fs.mkdirs(br_path)\n",
    "dbutils.fs.mkdirs(br_fato)\n",
    "dbutils.fs.mkdirs(br_dim)\n",
    "\n",
    "dbutils.fs.mkdirs(vendas_path)\n",
    "\n",
    "dbutils.fs.mkdirs(categorias_path)\n",
    "dbutils.fs.mkdirs(cidades_path)\n",
    "dbutils.fs.mkdirs(produtos_path)\n",
    "dbutils.fs.mkdirs(clientes_path)\n",
    "dbutils.fs.mkdirs(paises_path)\n",
    "dbutils.fs.mkdirs(vendedores_path)\n"
   ]
  },
  {
   "cell_type": "code",
   "execution_count": 0,
   "metadata": {
    "application/vnd.databricks.v1+cell": {
     "cellMetadata": {
      "byteLimit": 2048000,
      "rowLimit": 10000
     },
     "inputWidgets": {},
     "nuid": "7a047e6d-c2e7-4fe0-8c18-5e98eb015f6b",
     "showTitle": false,
     "tableResultSettingsMap": {},
     "title": ""
    }
   },
   "outputs": [
    {
     "output_type": "display_data",
     "data": {
      "text/html": [
       "<style scoped>\n",
       "  .table-result-container {\n",
       "    max-height: 300px;\n",
       "    overflow: auto;\n",
       "  }\n",
       "  table, th, td {\n",
       "    border: 1px solid black;\n",
       "    border-collapse: collapse;\n",
       "  }\n",
       "  th, td {\n",
       "    padding: 5px;\n",
       "  }\n",
       "  th {\n",
       "    text-align: left;\n",
       "  }\n",
       "</style><div class='table-result-container'><table class='table-result'><thead style='background-color: white'><tr><th>path</th><th>name</th><th>size</th><th>modificationTime</th></tr></thead><tbody><tr><td>dbfs:/mnt/desafio-dwe-25/lhdw/bronze/dim/</td><td>dim/</td><td>0</td><td>0</td></tr><tr><td>dbfs:/mnt/desafio-dwe-25/lhdw/bronze/fato/</td><td>fato/</td><td>0</td><td>0</td></tr></tbody></table></div>"
      ]
     },
     "metadata": {
      "application/vnd.databricks.v1+output": {
       "addedWidgets": {},
       "aggData": [],
       "aggError": "",
       "aggOverflow": false,
       "aggSchema": [],
       "aggSeriesLimitReached": false,
       "aggType": "",
       "arguments": {},
       "columnCustomDisplayInfos": {},
       "data": [
        [
         "dbfs:/mnt/desafio-dwe-25/lhdw/bronze/dim/",
         "dim/",
         0,
         0
        ],
        [
         "dbfs:/mnt/desafio-dwe-25/lhdw/bronze/fato/",
         "fato/",
         0,
         0
        ]
       ],
       "datasetInfos": [],
       "dbfsResultPath": null,
       "isJsonSchema": true,
       "metadata": {
        "isDbfsCommandResult": false
       },
       "overflow": false,
       "plotOptions": {
        "customPlotOptions": {},
        "displayType": "table",
        "pivotAggregation": null,
        "pivotColumns": null,
        "xColumns": null,
        "yColumns": null
       },
       "removedWidgets": [],
       "schema": [
        {
         "metadata": "{}",
         "name": "path",
         "type": "\"string\""
        },
        {
         "metadata": "{}",
         "name": "name",
         "type": "\"string\""
        },
        {
         "metadata": "{}",
         "name": "size",
         "type": "\"long\""
        },
        {
         "metadata": "{}",
         "name": "modificationTime",
         "type": "\"long\""
        }
       ],
       "type": "table"
      }
     },
     "output_type": "display_data"
    }
   ],
   "source": [
    "%fs ls /mnt/desafio-dwe-25/lhdw/bronze/"
   ]
  },
  {
   "cell_type": "code",
   "execution_count": 0,
   "metadata": {
    "application/vnd.databricks.v1+cell": {
     "cellMetadata": {
      "byteLimit": 2048000,
      "rowLimit": 10000
     },
     "inputWidgets": {},
     "nuid": "124c7729-3d02-4784-8418-bc1264dbda6f",
     "showTitle": false,
     "tableResultSettingsMap": {},
     "title": ""
    }
   },
   "outputs": [
    {
     "output_type": "display_data",
     "data": {
      "text/html": [
       "<style scoped>\n",
       "  .table-result-container {\n",
       "    max-height: 300px;\n",
       "    overflow: auto;\n",
       "  }\n",
       "  table, th, td {\n",
       "    border: 1px solid black;\n",
       "    border-collapse: collapse;\n",
       "  }\n",
       "  th, td {\n",
       "    padding: 5px;\n",
       "  }\n",
       "  th {\n",
       "    text-align: left;\n",
       "  }\n",
       "</style><div class='table-result-container'><table class='table-result'><thead style='background-color: white'><tr><th>path</th><th>name</th><th>size</th><th>modificationTime</th></tr></thead><tbody><tr><td>dbfs:/mnt/desafio-dwe-25/lhdw/bronze/fato/VENDAS/</td><td>VENDAS/</td><td>0</td><td>0</td></tr></tbody></table></div>"
      ]
     },
     "metadata": {
      "application/vnd.databricks.v1+output": {
       "addedWidgets": {},
       "aggData": [],
       "aggError": "",
       "aggOverflow": false,
       "aggSchema": [],
       "aggSeriesLimitReached": false,
       "aggType": "",
       "arguments": {},
       "columnCustomDisplayInfos": {},
       "data": [
        [
         "dbfs:/mnt/desafio-dwe-25/lhdw/bronze/fato/VENDAS/",
         "VENDAS/",
         0,
         0
        ]
       ],
       "datasetInfos": [],
       "dbfsResultPath": null,
       "isJsonSchema": true,
       "metadata": {
        "isDbfsCommandResult": false
       },
       "overflow": false,
       "plotOptions": {
        "customPlotOptions": {},
        "displayType": "table",
        "pivotAggregation": null,
        "pivotColumns": null,
        "xColumns": null,
        "yColumns": null
       },
       "removedWidgets": [],
       "schema": [
        {
         "metadata": "{}",
         "name": "path",
         "type": "\"string\""
        },
        {
         "metadata": "{}",
         "name": "name",
         "type": "\"string\""
        },
        {
         "metadata": "{}",
         "name": "size",
         "type": "\"long\""
        },
        {
         "metadata": "{}",
         "name": "modificationTime",
         "type": "\"long\""
        }
       ],
       "type": "table"
      }
     },
     "output_type": "display_data"
    }
   ],
   "source": [
    "%fs ls /mnt/desafio-dwe-25/lhdw/bronze/fato/"
   ]
  },
  {
   "cell_type": "code",
   "execution_count": 0,
   "metadata": {
    "application/vnd.databricks.v1+cell": {
     "cellMetadata": {
      "byteLimit": 2048000,
      "rowLimit": 10000
     },
     "inputWidgets": {},
     "nuid": "b3342b05-b16b-41de-abb1-b580598b40ca",
     "showTitle": false,
     "tableResultSettingsMap": {},
     "title": ""
    }
   },
   "outputs": [
    {
     "output_type": "display_data",
     "data": {
      "text/html": [
       "<style scoped>\n",
       "  .table-result-container {\n",
       "    max-height: 300px;\n",
       "    overflow: auto;\n",
       "  }\n",
       "  table, th, td {\n",
       "    border: 1px solid black;\n",
       "    border-collapse: collapse;\n",
       "  }\n",
       "  th, td {\n",
       "    padding: 5px;\n",
       "  }\n",
       "  th {\n",
       "    text-align: left;\n",
       "  }\n",
       "</style><div class='table-result-container'><table class='table-result'><thead style='background-color: white'><tr><th>path</th><th>name</th><th>size</th><th>modificationTime</th></tr></thead><tbody><tr><td>dbfs:/mnt/desafio-dwe-25/lhdw/bronze/dim/CATEGORIA/</td><td>CATEGORIA/</td><td>0</td><td>0</td></tr><tr><td>dbfs:/mnt/desafio-dwe-25/lhdw/bronze/dim/CIDADE/</td><td>CIDADE/</td><td>0</td><td>0</td></tr><tr><td>dbfs:/mnt/desafio-dwe-25/lhdw/bronze/dim/CLIENTE/</td><td>CLIENTE/</td><td>0</td><td>0</td></tr><tr><td>dbfs:/mnt/desafio-dwe-25/lhdw/bronze/dim/PAIS/</td><td>PAIS/</td><td>0</td><td>0</td></tr><tr><td>dbfs:/mnt/desafio-dwe-25/lhdw/bronze/dim/PRODUTO/</td><td>PRODUTO/</td><td>0</td><td>0</td></tr><tr><td>dbfs:/mnt/desafio-dwe-25/lhdw/bronze/dim/VENDEDOR/</td><td>VENDEDOR/</td><td>0</td><td>0</td></tr></tbody></table></div>"
      ]
     },
     "metadata": {
      "application/vnd.databricks.v1+output": {
       "addedWidgets": {},
       "aggData": [],
       "aggError": "",
       "aggOverflow": false,
       "aggSchema": [],
       "aggSeriesLimitReached": false,
       "aggType": "",
       "arguments": {},
       "columnCustomDisplayInfos": {},
       "data": [
        [
         "dbfs:/mnt/desafio-dwe-25/lhdw/bronze/dim/CATEGORIA/",
         "CATEGORIA/",
         0,
         0
        ],
        [
         "dbfs:/mnt/desafio-dwe-25/lhdw/bronze/dim/CIDADE/",
         "CIDADE/",
         0,
         0
        ],
        [
         "dbfs:/mnt/desafio-dwe-25/lhdw/bronze/dim/CLIENTE/",
         "CLIENTE/",
         0,
         0
        ],
        [
         "dbfs:/mnt/desafio-dwe-25/lhdw/bronze/dim/PAIS/",
         "PAIS/",
         0,
         0
        ],
        [
         "dbfs:/mnt/desafio-dwe-25/lhdw/bronze/dim/PRODUTO/",
         "PRODUTO/",
         0,
         0
        ],
        [
         "dbfs:/mnt/desafio-dwe-25/lhdw/bronze/dim/VENDEDOR/",
         "VENDEDOR/",
         0,
         0
        ]
       ],
       "datasetInfos": [],
       "dbfsResultPath": null,
       "isJsonSchema": true,
       "metadata": {
        "isDbfsCommandResult": false
       },
       "overflow": false,
       "plotOptions": {
        "customPlotOptions": {},
        "displayType": "table",
        "pivotAggregation": null,
        "pivotColumns": null,
        "xColumns": null,
        "yColumns": null
       },
       "removedWidgets": [],
       "schema": [
        {
         "metadata": "{}",
         "name": "path",
         "type": "\"string\""
        },
        {
         "metadata": "{}",
         "name": "name",
         "type": "\"string\""
        },
        {
         "metadata": "{}",
         "name": "size",
         "type": "\"long\""
        },
        {
         "metadata": "{}",
         "name": "modificationTime",
         "type": "\"long\""
        }
       ],
       "type": "table"
      }
     },
     "output_type": "display_data"
    }
   ],
   "source": [
    "%fs ls /mnt/desafio-dwe-25/lhdw/bronze/dim/"
   ]
  },
  {
   "cell_type": "markdown",
   "metadata": {
    "application/vnd.databricks.v1+cell": {
     "cellMetadata": {},
     "inputWidgets": {},
     "nuid": "347f4d29-f803-4861-8881-42f60339874c",
     "showTitle": false,
     "tableResultSettingsMap": {},
     "title": ""
    }
   },
   "source": [
    "### Diretorio Silver"
   ]
  },
  {
   "cell_type": "code",
   "execution_count": 0,
   "metadata": {
    "application/vnd.databricks.v1+cell": {
     "cellMetadata": {
      "byteLimit": 2048000,
      "rowLimit": 10000
     },
     "inputWidgets": {},
     "nuid": "6ec351e0-e406-4c16-898f-782490f49597",
     "showTitle": false,
     "tableResultSettingsMap": {},
     "title": ""
    }
   },
   "outputs": [
    {
     "output_type": "stream",
     "name": "stdout",
     "output_type": "stream",
     "text": [
      "Out[12]: True"
     ]
    }
   ],
   "source": [
    "#Caminhos do LakeHouse no DBFS para Silver\n",
    "sv_path = f'{root_path}/silver'\n",
    "sv_fato = f'{sv_path}/fato'\n",
    "sv_dim = f'{sv_path}/dim'\n",
    "\n",
    "# Diretorio Fato Vendas \n",
    "vendas_path = f'{sv_fato}/VENDAS/'\n",
    "\n",
    "# Diretorios Dimensão\n",
    "categorias_path = f'{sv_dim}/CATEGORIA/'\n",
    "cidades_path = f'{sv_dim}/CIDADE/'\n",
    "produtos_path = f'{sv_dim}/PRODUTO/'\n",
    "clientes_path = f'{sv_dim}/CLIENTE/'\n",
    "paises_path = f'{sv_dim}/PAIS/'\n",
    "vendedores_path = f'{sv_dim}/VENDEDOR/'\n",
    "\n",
    "# Criação dos Diretórios Silver no DBFS\n",
    "dbutils.fs.mkdirs(sv_path)\n",
    "dbutils.fs.mkdirs(sv_fato)\n",
    "dbutils.fs.mkdirs(sv_dim)\n",
    "\n",
    "dbutils.fs.mkdirs(vendas_path)\n",
    "\n",
    "dbutils.fs.mkdirs(categorias_path)\n",
    "dbutils.fs.mkdirs(cidades_path)\n",
    "dbutils.fs.mkdirs(produtos_path)\n",
    "dbutils.fs.mkdirs(clientes_path)\n",
    "dbutils.fs.mkdirs(paises_path)\n",
    "dbutils.fs.mkdirs(vendedores_path)"
   ]
  },
  {
   "cell_type": "code",
   "execution_count": 0,
   "metadata": {
    "application/vnd.databricks.v1+cell": {
     "cellMetadata": {
      "byteLimit": 2048000,
      "rowLimit": 10000
     },
     "inputWidgets": {},
     "nuid": "ffd190cb-2d78-4cf0-912d-ae5c02cecbe6",
     "showTitle": false,
     "tableResultSettingsMap": {},
     "title": ""
    }
   },
   "outputs": [
    {
     "output_type": "display_data",
     "data": {
      "text/html": [
       "<style scoped>\n",
       "  .table-result-container {\n",
       "    max-height: 300px;\n",
       "    overflow: auto;\n",
       "  }\n",
       "  table, th, td {\n",
       "    border: 1px solid black;\n",
       "    border-collapse: collapse;\n",
       "  }\n",
       "  th, td {\n",
       "    padding: 5px;\n",
       "  }\n",
       "  th {\n",
       "    text-align: left;\n",
       "  }\n",
       "</style><div class='table-result-container'><table class='table-result'><thead style='background-color: white'><tr><th>path</th><th>name</th><th>size</th><th>modificationTime</th></tr></thead><tbody><tr><td>dbfs:/mnt/desafio-dwe-25/lhdw/silver/dim/</td><td>dim/</td><td>0</td><td>0</td></tr><tr><td>dbfs:/mnt/desafio-dwe-25/lhdw/silver/fato/</td><td>fato/</td><td>0</td><td>0</td></tr></tbody></table></div>"
      ]
     },
     "metadata": {
      "application/vnd.databricks.v1+output": {
       "addedWidgets": {},
       "aggData": [],
       "aggError": "",
       "aggOverflow": false,
       "aggSchema": [],
       "aggSeriesLimitReached": false,
       "aggType": "",
       "arguments": {},
       "columnCustomDisplayInfos": {},
       "data": [
        [
         "dbfs:/mnt/desafio-dwe-25/lhdw/silver/dim/",
         "dim/",
         0,
         0
        ],
        [
         "dbfs:/mnt/desafio-dwe-25/lhdw/silver/fato/",
         "fato/",
         0,
         0
        ]
       ],
       "datasetInfos": [],
       "dbfsResultPath": null,
       "isJsonSchema": true,
       "metadata": {
        "isDbfsCommandResult": false
       },
       "overflow": false,
       "plotOptions": {
        "customPlotOptions": {},
        "displayType": "table",
        "pivotAggregation": null,
        "pivotColumns": null,
        "xColumns": null,
        "yColumns": null
       },
       "removedWidgets": [],
       "schema": [
        {
         "metadata": "{}",
         "name": "path",
         "type": "\"string\""
        },
        {
         "metadata": "{}",
         "name": "name",
         "type": "\"string\""
        },
        {
         "metadata": "{}",
         "name": "size",
         "type": "\"long\""
        },
        {
         "metadata": "{}",
         "name": "modificationTime",
         "type": "\"long\""
        }
       ],
       "type": "table"
      }
     },
     "output_type": "display_data"
    }
   ],
   "source": [
    "%fs ls /mnt/desafio-dwe-25/lhdw/silver/"
   ]
  },
  {
   "cell_type": "code",
   "execution_count": 0,
   "metadata": {
    "application/vnd.databricks.v1+cell": {
     "cellMetadata": {
      "byteLimit": 2048000,
      "rowLimit": 10000
     },
     "inputWidgets": {},
     "nuid": "4dc89af1-433b-4ad8-8a1b-dfb1a4af57d2",
     "showTitle": false,
     "tableResultSettingsMap": {},
     "title": ""
    }
   },
   "outputs": [
    {
     "output_type": "display_data",
     "data": {
      "text/html": [
       "<style scoped>\n",
       "  .table-result-container {\n",
       "    max-height: 300px;\n",
       "    overflow: auto;\n",
       "  }\n",
       "  table, th, td {\n",
       "    border: 1px solid black;\n",
       "    border-collapse: collapse;\n",
       "  }\n",
       "  th, td {\n",
       "    padding: 5px;\n",
       "  }\n",
       "  th {\n",
       "    text-align: left;\n",
       "  }\n",
       "</style><div class='table-result-container'><table class='table-result'><thead style='background-color: white'><tr><th>path</th><th>name</th><th>size</th><th>modificationTime</th></tr></thead><tbody><tr><td>dbfs:/mnt/desafio-dwe-25/lhdw/silver/fato/VENDAS/</td><td>VENDAS/</td><td>0</td><td>0</td></tr></tbody></table></div>"
      ]
     },
     "metadata": {
      "application/vnd.databricks.v1+output": {
       "addedWidgets": {},
       "aggData": [],
       "aggError": "",
       "aggOverflow": false,
       "aggSchema": [],
       "aggSeriesLimitReached": false,
       "aggType": "",
       "arguments": {},
       "columnCustomDisplayInfos": {},
       "data": [
        [
         "dbfs:/mnt/desafio-dwe-25/lhdw/silver/fato/VENDAS/",
         "VENDAS/",
         0,
         0
        ]
       ],
       "datasetInfos": [],
       "dbfsResultPath": null,
       "isJsonSchema": true,
       "metadata": {
        "isDbfsCommandResult": false
       },
       "overflow": false,
       "plotOptions": {
        "customPlotOptions": {},
        "displayType": "table",
        "pivotAggregation": null,
        "pivotColumns": null,
        "xColumns": null,
        "yColumns": null
       },
       "removedWidgets": [],
       "schema": [
        {
         "metadata": "{}",
         "name": "path",
         "type": "\"string\""
        },
        {
         "metadata": "{}",
         "name": "name",
         "type": "\"string\""
        },
        {
         "metadata": "{}",
         "name": "size",
         "type": "\"long\""
        },
        {
         "metadata": "{}",
         "name": "modificationTime",
         "type": "\"long\""
        }
       ],
       "type": "table"
      }
     },
     "output_type": "display_data"
    }
   ],
   "source": [
    "%fs ls /mnt/desafio-dwe-25/lhdw/silver/fato/"
   ]
  },
  {
   "cell_type": "code",
   "execution_count": 0,
   "metadata": {
    "application/vnd.databricks.v1+cell": {
     "cellMetadata": {
      "byteLimit": 2048000,
      "rowLimit": 10000
     },
     "inputWidgets": {},
     "nuid": "ab486467-dfe5-47e4-af20-1286f970baee",
     "showTitle": false,
     "tableResultSettingsMap": {},
     "title": ""
    }
   },
   "outputs": [
    {
     "output_type": "display_data",
     "data": {
      "text/html": [
       "<style scoped>\n",
       "  .table-result-container {\n",
       "    max-height: 300px;\n",
       "    overflow: auto;\n",
       "  }\n",
       "  table, th, td {\n",
       "    border: 1px solid black;\n",
       "    border-collapse: collapse;\n",
       "  }\n",
       "  th, td {\n",
       "    padding: 5px;\n",
       "  }\n",
       "  th {\n",
       "    text-align: left;\n",
       "  }\n",
       "</style><div class='table-result-container'><table class='table-result'><thead style='background-color: white'><tr><th>path</th><th>name</th><th>size</th><th>modificationTime</th></tr></thead><tbody><tr><td>dbfs:/mnt/desafio-dwe-25/lhdw/silver/dim/CATEGORIA/</td><td>CATEGORIA/</td><td>0</td><td>0</td></tr><tr><td>dbfs:/mnt/desafio-dwe-25/lhdw/silver/dim/CIDADE/</td><td>CIDADE/</td><td>0</td><td>0</td></tr><tr><td>dbfs:/mnt/desafio-dwe-25/lhdw/silver/dim/CLIENTE/</td><td>CLIENTE/</td><td>0</td><td>0</td></tr><tr><td>dbfs:/mnt/desafio-dwe-25/lhdw/silver/dim/PAIS/</td><td>PAIS/</td><td>0</td><td>0</td></tr><tr><td>dbfs:/mnt/desafio-dwe-25/lhdw/silver/dim/PRODUTO/</td><td>PRODUTO/</td><td>0</td><td>0</td></tr><tr><td>dbfs:/mnt/desafio-dwe-25/lhdw/silver/dim/VENDEDOR/</td><td>VENDEDOR/</td><td>0</td><td>0</td></tr></tbody></table></div>"
      ]
     },
     "metadata": {
      "application/vnd.databricks.v1+output": {
       "addedWidgets": {},
       "aggData": [],
       "aggError": "",
       "aggOverflow": false,
       "aggSchema": [],
       "aggSeriesLimitReached": false,
       "aggType": "",
       "arguments": {},
       "columnCustomDisplayInfos": {},
       "data": [
        [
         "dbfs:/mnt/desafio-dwe-25/lhdw/silver/dim/CATEGORIA/",
         "CATEGORIA/",
         0,
         0
        ],
        [
         "dbfs:/mnt/desafio-dwe-25/lhdw/silver/dim/CIDADE/",
         "CIDADE/",
         0,
         0
        ],
        [
         "dbfs:/mnt/desafio-dwe-25/lhdw/silver/dim/CLIENTE/",
         "CLIENTE/",
         0,
         0
        ],
        [
         "dbfs:/mnt/desafio-dwe-25/lhdw/silver/dim/PAIS/",
         "PAIS/",
         0,
         0
        ],
        [
         "dbfs:/mnt/desafio-dwe-25/lhdw/silver/dim/PRODUTO/",
         "PRODUTO/",
         0,
         0
        ],
        [
         "dbfs:/mnt/desafio-dwe-25/lhdw/silver/dim/VENDEDOR/",
         "VENDEDOR/",
         0,
         0
        ]
       ],
       "datasetInfos": [],
       "dbfsResultPath": null,
       "isJsonSchema": true,
       "metadata": {
        "isDbfsCommandResult": false
       },
       "overflow": false,
       "plotOptions": {
        "customPlotOptions": {},
        "displayType": "table",
        "pivotAggregation": null,
        "pivotColumns": null,
        "xColumns": null,
        "yColumns": null
       },
       "removedWidgets": [],
       "schema": [
        {
         "metadata": "{}",
         "name": "path",
         "type": "\"string\""
        },
        {
         "metadata": "{}",
         "name": "name",
         "type": "\"string\""
        },
        {
         "metadata": "{}",
         "name": "size",
         "type": "\"long\""
        },
        {
         "metadata": "{}",
         "name": "modificationTime",
         "type": "\"long\""
        }
       ],
       "type": "table"
      }
     },
     "output_type": "display_data"
    }
   ],
   "source": [
    "%fs ls /mnt/desafio-dwe-25/lhdw/silver/dim/"
   ]
  },
  {
   "cell_type": "markdown",
   "metadata": {
    "application/vnd.databricks.v1+cell": {
     "cellMetadata": {},
     "inputWidgets": {},
     "nuid": "69f1d57b-d23a-4d52-a62d-64e4082a33d1",
     "showTitle": false,
     "tableResultSettingsMap": {},
     "title": ""
    }
   },
   "source": [
    "### Diretório Gold"
   ]
  },
  {
   "cell_type": "code",
   "execution_count": 0,
   "metadata": {
    "application/vnd.databricks.v1+cell": {
     "cellMetadata": {
      "byteLimit": 2048000,
      "rowLimit": 10000
     },
     "inputWidgets": {},
     "nuid": "c1aa1dcf-b9af-4290-9fba-fa0d167d62af",
     "showTitle": false,
     "tableResultSettingsMap": {},
     "title": ""
    }
   },
   "outputs": [
    {
     "output_type": "stream",
     "name": "stdout",
     "output_type": "stream",
     "text": [
      "Out[5]: True"
     ]
    }
   ],
   "source": [
    "#Caminhos do LakeHouse no DBFS para Gold\n",
    "gd_path = f'{root_path}/gold'\n",
    "gd_fato = f'{gd_path}/fato'\n",
    "gd_dim = f'{gd_path}/dim'\n",
    "\n",
    "# Diretorio Fato Vendas \n",
    "vendas_path = f'{gd_fato}/VENDAS/'\n",
    "\n",
    "# Diretorios Dimensão\n",
    "categorias_path = f'{gd_dim}/CATEGORIA/'\n",
    "cidades_path = f'{gd_dim}/CIDADE/'\n",
    "produtos_path = f'{gd_dim}/PRODUTO/'\n",
    "clientes_path = f'{gd_dim}/CLIENTE/'\n",
    "paises_path = f'{gd_dim}/PAIS/'\n",
    "vendedores_path = f'{gd_dim}/VENDEDOR/'\n",
    "\n",
    "# Criação dos Diretórios Silver no DBFS\n",
    "dbutils.fs.mkdirs(gd_path)\n",
    "dbutils.fs.mkdirs(gd_fato)\n",
    "dbutils.fs.mkdirs(gd_dim)\n",
    "\n",
    "dbutils.fs.mkdirs(vendas_path)\n",
    "\n",
    "dbutils.fs.mkdirs(categorias_path)\n",
    "dbutils.fs.mkdirs(cidades_path)\n",
    "dbutils.fs.mkdirs(produtos_path)\n",
    "dbutils.fs.mkdirs(clientes_path)\n",
    "dbutils.fs.mkdirs(paises_path)\n",
    "dbutils.fs.mkdirs(vendedores_path)"
   ]
  },
  {
   "cell_type": "code",
   "execution_count": 0,
   "metadata": {
    "application/vnd.databricks.v1+cell": {
     "cellMetadata": {
      "byteLimit": 2048000,
      "rowLimit": 10000
     },
     "inputWidgets": {},
     "nuid": "8c985b28-8a6b-4311-a3bd-7e2a8c41b3ca",
     "showTitle": false,
     "tableResultSettingsMap": {},
     "title": ""
    }
   },
   "outputs": [
    {
     "output_type": "display_data",
     "data": {
      "text/html": [
       "<style scoped>\n",
       "  .table-result-container {\n",
       "    max-height: 300px;\n",
       "    overflow: auto;\n",
       "  }\n",
       "  table, th, td {\n",
       "    border: 1px solid black;\n",
       "    border-collapse: collapse;\n",
       "  }\n",
       "  th, td {\n",
       "    padding: 5px;\n",
       "  }\n",
       "  th {\n",
       "    text-align: left;\n",
       "  }\n",
       "</style><div class='table-result-container'><table class='table-result'><thead style='background-color: white'><tr><th>path</th><th>name</th><th>size</th><th>modificationTime</th></tr></thead><tbody><tr><td>dbfs:/mnt/desafio-dwe-25/lhdw/gold/dim/</td><td>dim/</td><td>0</td><td>0</td></tr><tr><td>dbfs:/mnt/desafio-dwe-25/lhdw/gold/fato/</td><td>fato/</td><td>0</td><td>0</td></tr></tbody></table></div>"
      ]
     },
     "metadata": {
      "application/vnd.databricks.v1+output": {
       "addedWidgets": {},
       "aggData": [],
       "aggError": "",
       "aggOverflow": false,
       "aggSchema": [],
       "aggSeriesLimitReached": false,
       "aggType": "",
       "arguments": {},
       "columnCustomDisplayInfos": {},
       "data": [
        [
         "dbfs:/mnt/desafio-dwe-25/lhdw/gold/dim/",
         "dim/",
         0,
         0
        ],
        [
         "dbfs:/mnt/desafio-dwe-25/lhdw/gold/fato/",
         "fato/",
         0,
         0
        ]
       ],
       "datasetInfos": [],
       "dbfsResultPath": null,
       "isJsonSchema": true,
       "metadata": {
        "isDbfsCommandResult": false
       },
       "overflow": false,
       "plotOptions": {
        "customPlotOptions": {},
        "displayType": "table",
        "pivotAggregation": null,
        "pivotColumns": null,
        "xColumns": null,
        "yColumns": null
       },
       "removedWidgets": [],
       "schema": [
        {
         "metadata": "{}",
         "name": "path",
         "type": "\"string\""
        },
        {
         "metadata": "{}",
         "name": "name",
         "type": "\"string\""
        },
        {
         "metadata": "{}",
         "name": "size",
         "type": "\"long\""
        },
        {
         "metadata": "{}",
         "name": "modificationTime",
         "type": "\"long\""
        }
       ],
       "type": "table"
      }
     },
     "output_type": "display_data"
    }
   ],
   "source": [
    "%fs ls /mnt/desafio-dwe-25/lhdw/gold/"
   ]
  },
  {
   "cell_type": "code",
   "execution_count": 0,
   "metadata": {
    "application/vnd.databricks.v1+cell": {
     "cellMetadata": {
      "byteLimit": 2048000,
      "rowLimit": 10000
     },
     "inputWidgets": {},
     "nuid": "dec43194-446d-4014-a588-fe03a53d61e5",
     "showTitle": false,
     "tableResultSettingsMap": {},
     "title": ""
    }
   },
   "outputs": [
    {
     "output_type": "display_data",
     "data": {
      "text/html": [
       "<style scoped>\n",
       "  .table-result-container {\n",
       "    max-height: 300px;\n",
       "    overflow: auto;\n",
       "  }\n",
       "  table, th, td {\n",
       "    border: 1px solid black;\n",
       "    border-collapse: collapse;\n",
       "  }\n",
       "  th, td {\n",
       "    padding: 5px;\n",
       "  }\n",
       "  th {\n",
       "    text-align: left;\n",
       "  }\n",
       "</style><div class='table-result-container'><table class='table-result'><thead style='background-color: white'><tr><th>path</th><th>name</th><th>size</th><th>modificationTime</th></tr></thead><tbody><tr><td>dbfs:/mnt/desafio-dwe-25/lhdw/gold/fato/VENDAS/</td><td>VENDAS/</td><td>0</td><td>0</td></tr></tbody></table></div>"
      ]
     },
     "metadata": {
      "application/vnd.databricks.v1+output": {
       "addedWidgets": {},
       "aggData": [],
       "aggError": "",
       "aggOverflow": false,
       "aggSchema": [],
       "aggSeriesLimitReached": false,
       "aggType": "",
       "arguments": {},
       "columnCustomDisplayInfos": {},
       "data": [
        [
         "dbfs:/mnt/desafio-dwe-25/lhdw/gold/fato/VENDAS/",
         "VENDAS/",
         0,
         0
        ]
       ],
       "datasetInfos": [],
       "dbfsResultPath": null,
       "isJsonSchema": true,
       "metadata": {
        "isDbfsCommandResult": false
       },
       "overflow": false,
       "plotOptions": {
        "customPlotOptions": {},
        "displayType": "table",
        "pivotAggregation": null,
        "pivotColumns": null,
        "xColumns": null,
        "yColumns": null
       },
       "removedWidgets": [],
       "schema": [
        {
         "metadata": "{}",
         "name": "path",
         "type": "\"string\""
        },
        {
         "metadata": "{}",
         "name": "name",
         "type": "\"string\""
        },
        {
         "metadata": "{}",
         "name": "size",
         "type": "\"long\""
        },
        {
         "metadata": "{}",
         "name": "modificationTime",
         "type": "\"long\""
        }
       ],
       "type": "table"
      }
     },
     "output_type": "display_data"
    }
   ],
   "source": [
    "%fs ls /mnt/desafio-dwe-25/lhdw/gold/fato/"
   ]
  },
  {
   "cell_type": "code",
   "execution_count": 0,
   "metadata": {
    "application/vnd.databricks.v1+cell": {
     "cellMetadata": {
      "byteLimit": 2048000,
      "rowLimit": 10000
     },
     "inputWidgets": {},
     "nuid": "87ff2a53-7ff6-42cc-a31f-8b7b0d4dca59",
     "showTitle": false,
     "tableResultSettingsMap": {},
     "title": ""
    }
   },
   "outputs": [
    {
     "output_type": "display_data",
     "data": {
      "text/html": [
       "<style scoped>\n",
       "  .table-result-container {\n",
       "    max-height: 300px;\n",
       "    overflow: auto;\n",
       "  }\n",
       "  table, th, td {\n",
       "    border: 1px solid black;\n",
       "    border-collapse: collapse;\n",
       "  }\n",
       "  th, td {\n",
       "    padding: 5px;\n",
       "  }\n",
       "  th {\n",
       "    text-align: left;\n",
       "  }\n",
       "</style><div class='table-result-container'><table class='table-result'><thead style='background-color: white'><tr><th>path</th><th>name</th><th>size</th><th>modificationTime</th></tr></thead><tbody><tr><td>dbfs:/mnt/desafio-dwe-25/lhdw/gold/dim/CATEGORIA/</td><td>CATEGORIA/</td><td>0</td><td>0</td></tr><tr><td>dbfs:/mnt/desafio-dwe-25/lhdw/gold/dim/CIDADE/</td><td>CIDADE/</td><td>0</td><td>0</td></tr><tr><td>dbfs:/mnt/desafio-dwe-25/lhdw/gold/dim/CLIENTE/</td><td>CLIENTE/</td><td>0</td><td>0</td></tr><tr><td>dbfs:/mnt/desafio-dwe-25/lhdw/gold/dim/PAIS/</td><td>PAIS/</td><td>0</td><td>0</td></tr><tr><td>dbfs:/mnt/desafio-dwe-25/lhdw/gold/dim/PRODUTO/</td><td>PRODUTO/</td><td>0</td><td>0</td></tr><tr><td>dbfs:/mnt/desafio-dwe-25/lhdw/gold/dim/VENDEDOR/</td><td>VENDEDOR/</td><td>0</td><td>0</td></tr></tbody></table></div>"
      ]
     },
     "metadata": {
      "application/vnd.databricks.v1+output": {
       "addedWidgets": {},
       "aggData": [],
       "aggError": "",
       "aggOverflow": false,
       "aggSchema": [],
       "aggSeriesLimitReached": false,
       "aggType": "",
       "arguments": {},
       "columnCustomDisplayInfos": {},
       "data": [
        [
         "dbfs:/mnt/desafio-dwe-25/lhdw/gold/dim/CATEGORIA/",
         "CATEGORIA/",
         0,
         0
        ],
        [
         "dbfs:/mnt/desafio-dwe-25/lhdw/gold/dim/CIDADE/",
         "CIDADE/",
         0,
         0
        ],
        [
         "dbfs:/mnt/desafio-dwe-25/lhdw/gold/dim/CLIENTE/",
         "CLIENTE/",
         0,
         0
        ],
        [
         "dbfs:/mnt/desafio-dwe-25/lhdw/gold/dim/PAIS/",
         "PAIS/",
         0,
         0
        ],
        [
         "dbfs:/mnt/desafio-dwe-25/lhdw/gold/dim/PRODUTO/",
         "PRODUTO/",
         0,
         0
        ],
        [
         "dbfs:/mnt/desafio-dwe-25/lhdw/gold/dim/VENDEDOR/",
         "VENDEDOR/",
         0,
         0
        ]
       ],
       "datasetInfos": [],
       "dbfsResultPath": null,
       "isJsonSchema": true,
       "metadata": {
        "isDbfsCommandResult": false
       },
       "overflow": false,
       "plotOptions": {
        "customPlotOptions": {},
        "displayType": "table",
        "pivotAggregation": null,
        "pivotColumns": null,
        "xColumns": null,
        "yColumns": null
       },
       "removedWidgets": [],
       "schema": [
        {
         "metadata": "{}",
         "name": "path",
         "type": "\"string\""
        },
        {
         "metadata": "{}",
         "name": "name",
         "type": "\"string\""
        },
        {
         "metadata": "{}",
         "name": "size",
         "type": "\"long\""
        },
        {
         "metadata": "{}",
         "name": "modificationTime",
         "type": "\"long\""
        }
       ],
       "type": "table"
      }
     },
     "output_type": "display_data"
    }
   ],
   "source": [
    "%fs ls /mnt/desafio-dwe-25/lhdw/gold/dim/"
   ]
  },
  {
   "cell_type": "code",
   "execution_count": 0,
   "metadata": {
    "application/vnd.databricks.v1+cell": {
     "cellMetadata": {
      "byteLimit": 2048000,
      "rowLimit": 10000
     },
     "inputWidgets": {},
     "nuid": "0c4dc9f4-d381-4461-a2c9-6aab5d1d626a",
     "showTitle": false,
     "tableResultSettingsMap": {},
     "title": ""
    }
   },
   "outputs": [
    {
     "output_type": "stream",
     "name": "stdout",
     "output_type": "stream",
     "text": [
      "Out[8]: [FileInfo(path='dbfs:/mnt/desafio-dwe-25/lhdw/silver/dim/CATEGORIA/', name='CATEGORIA/', size=0, modificationTime=0),\n FileInfo(path='dbfs:/mnt/desafio-dwe-25/lhdw/silver/dim/CIDADE/', name='CIDADE/', size=0, modificationTime=0),\n FileInfo(path='dbfs:/mnt/desafio-dwe-25/lhdw/silver/dim/PAIS/', name='PAIS/', size=0, modificationTime=0),\n FileInfo(path='dbfs:/mnt/desafio-dwe-25/lhdw/silver/dim/PRODUTO/', name='PRODUTO/', size=0, modificationTime=0),\n FileInfo(path='dbfs:/mnt/desafio-dwe-25/lhdw/silver/dim/VENDEDOR/', name='VENDEDOR/', size=0, modificationTime=0)]"
     ]
    }
   ],
   "source": [
    "dbutils.fs.ls('dbfs:/mnt/desafio-dwe-25/lhdw/silver/dim')"
   ]
  }
 ],
 "metadata": {
  "application/vnd.databricks.v1+notebook": {
   "computePreferences": null,
   "dashboards": [],
   "environmentMetadata": {
    "base_environment": "",
    "client": "1"
   },
   "language": "python",
   "notebookMetadata": {
    "mostRecentlyExecutedCommandWithImplicitDF": {
     "commandId": 219614540072828,
     "dataframes": [
      "_sqldf"
     ]
    },
    "pythonIndentUnit": 4
   },
   "notebookName": "000 - Preparação de Diretório",
   "widgets": {}
  }
 },
 "nbformat": 4,
 "nbformat_minor": 0
}
