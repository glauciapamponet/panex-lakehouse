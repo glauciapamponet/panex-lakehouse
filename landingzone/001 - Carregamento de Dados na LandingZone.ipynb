{
 "cells": [
  {
   "cell_type": "markdown",
   "metadata": {
    "application/vnd.databricks.v1+cell": {
     "cellMetadata": {},
     "inputWidgets": {},
     "nuid": "dcbca1fa-5e12-4ea2-b3cb-6be38d53b462",
     "showTitle": false,
     "tableResultSettingsMap": {},
     "title": ""
    }
   },
   "source": [
    "## Desafio DWE 2025 - Carregamento de Dados Para Landing Zone\n",
    "- **Cópia dos arquivos .csv no github do desafio para os diretórios já criados no LakeHouse do DBFS**"
   ]
  },
  {
   "cell_type": "code",
   "execution_count": 0,
   "metadata": {
    "application/vnd.databricks.v1+cell": {
     "cellMetadata": {
      "byteLimit": 2048000,
      "rowLimit": 10000
     },
     "inputWidgets": {},
     "nuid": "5fee1c90-872c-407a-b555-f7b06ec56160",
     "showTitle": false,
     "tableResultSettingsMap": {},
     "title": ""
    }
   },
   "outputs": [],
   "source": [
    "import urllib.request\n",
    "\n",
    "# Caminhos dos arquivos no DBFS\n",
    "lz_path = '/mnt/desafio-dwe-25/lhdw/landingzone/'\n",
    "lz_fato = f'{lz_path}fato/'\n",
    "lz_dim = f'{lz_path}dim/'\n",
    "\n",
    "# Lista de URL dos Dados\n",
    "raw_data = [\n",
    "    'https://raw.githubusercontent.com/andrerosa77/trn-dwe-2025/main/categorias.csv',\n",
    "    'https://raw.githubusercontent.com/andrerosa77/trn-dwe-2025/main/cidades.csv',\n",
    "    'https://raw.githubusercontent.com/andrerosa77/trn-dwe-2025/main/clientes.csv',\n",
    "    'https://raw.githubusercontent.com/andrerosa77/trn-dwe-2025/main/paises.csv',\n",
    "    'https://raw.githubusercontent.com/andrerosa77/trn-dwe-2025/main/produtos.csv',\n",
    "    'https://raw.githubusercontent.com/andrerosa77/trn-dwe-2025/main/vendedores.csv',\n",
    "    'https://raw.githubusercontent.com/andrerosa77/trn-dwe-2025/main/vendas_1.csv',\n",
    "    'https://raw.githubusercontent.com/andrerosa77/trn-dwe-2025/main/vendas_2.csv',\n",
    "    'https://raw.githubusercontent.com/andrerosa77/trn-dwe-2025/main/vendas_3.csv'\n",
    "]\n",
    "\n",
    "# Função de Download e Cópia dos Dados Para o DBFS\n",
    "def copy_to(data, path):\n",
    "    temp_path = f'/tmp/{data.split(\"/\")[-1]}'\n",
    "    \n",
    "    urllib.request.urlretrieve(data, temp_path)\n",
    "    dbutils.fs.cp(f'file:{temp_path}', f'dbfs:{path}')\n",
    "\n",
    "# Correndo a lista de URLs e chamando a função. Separando por fatos e dimensão de acordo com o nome\n",
    "for item in raw_data:\n",
    "    copy_to(item, lz_fato) if 'vendas' in item else copy_to(item, lz_dim)\n",
    "\n",
    "    "
   ]
  },
  {
   "cell_type": "code",
   "execution_count": 0,
   "metadata": {
    "application/vnd.databricks.v1+cell": {
     "cellMetadata": {
      "byteLimit": 2048000,
      "rowLimit": 10000
     },
     "inputWidgets": {},
     "nuid": "da1f9d49-0c7c-431f-84bd-90bc4ceca368",
     "showTitle": false,
     "tableResultSettingsMap": {},
     "title": ""
    }
   },
   "outputs": [
    {
     "output_type": "display_data",
     "data": {
      "text/html": [
       "<style scoped>\n",
       "  .table-result-container {\n",
       "    max-height: 300px;\n",
       "    overflow: auto;\n",
       "  }\n",
       "  table, th, td {\n",
       "    border: 1px solid black;\n",
       "    border-collapse: collapse;\n",
       "  }\n",
       "  th, td {\n",
       "    padding: 5px;\n",
       "  }\n",
       "  th {\n",
       "    text-align: left;\n",
       "  }\n",
       "</style><div class='table-result-container'><table class='table-result'><thead style='background-color: white'><tr><th>path</th><th>name</th><th>size</th><th>modificationTime</th></tr></thead><tbody><tr><td>dbfs:/mnt/desafio-dwe-25/lhdw/landingzone/dim/categorias.csv</td><td>categorias.csv</td><td>139</td><td>1739823027000</td></tr><tr><td>dbfs:/mnt/desafio-dwe-25/lhdw/landingzone/dim/cidades.csv</td><td>cidades.csv</td><td>2167</td><td>1739823027000</td></tr><tr><td>dbfs:/mnt/desafio-dwe-25/lhdw/landingzone/dim/clientes.csv</td><td>clientes.csv</td><td>4436742</td><td>1739823028000</td></tr><tr><td>dbfs:/mnt/desafio-dwe-25/lhdw/landingzone/dim/paises.csv</td><td>paises.csv</td><td>3171</td><td>1739823028000</td></tr><tr><td>dbfs:/mnt/desafio-dwe-25/lhdw/landingzone/dim/produtos.csv</td><td>produtos.csv</td><td>36851</td><td>1739823028000</td></tr><tr><td>dbfs:/mnt/desafio-dwe-25/lhdw/landingzone/dim/vendedores.csv</td><td>vendedores.csv</td><td>1728</td><td>1739823029000</td></tr></tbody></table></div>"
      ]
     },
     "metadata": {
      "application/vnd.databricks.v1+output": {
       "addedWidgets": {},
       "aggData": [],
       "aggError": "",
       "aggOverflow": false,
       "aggSchema": [],
       "aggSeriesLimitReached": false,
       "aggType": "",
       "arguments": {},
       "columnCustomDisplayInfos": {},
       "data": [
        [
         "dbfs:/mnt/desafio-dwe-25/lhdw/landingzone/dim/categorias.csv",
         "categorias.csv",
         139,
         1739823027000
        ],
        [
         "dbfs:/mnt/desafio-dwe-25/lhdw/landingzone/dim/cidades.csv",
         "cidades.csv",
         2167,
         1739823027000
        ],
        [
         "dbfs:/mnt/desafio-dwe-25/lhdw/landingzone/dim/clientes.csv",
         "clientes.csv",
         4436742,
         1739823028000
        ],
        [
         "dbfs:/mnt/desafio-dwe-25/lhdw/landingzone/dim/paises.csv",
         "paises.csv",
         3171,
         1739823028000
        ],
        [
         "dbfs:/mnt/desafio-dwe-25/lhdw/landingzone/dim/produtos.csv",
         "produtos.csv",
         36851,
         1739823028000
        ],
        [
         "dbfs:/mnt/desafio-dwe-25/lhdw/landingzone/dim/vendedores.csv",
         "vendedores.csv",
         1728,
         1739823029000
        ]
       ],
       "datasetInfos": [],
       "dbfsResultPath": null,
       "isJsonSchema": true,
       "metadata": {
        "isDbfsCommandResult": false
       },
       "overflow": false,
       "plotOptions": {
        "customPlotOptions": {},
        "displayType": "table",
        "pivotAggregation": null,
        "pivotColumns": null,
        "xColumns": null,
        "yColumns": null
       },
       "removedWidgets": [],
       "schema": [
        {
         "metadata": "{}",
         "name": "path",
         "type": "\"string\""
        },
        {
         "metadata": "{}",
         "name": "name",
         "type": "\"string\""
        },
        {
         "metadata": "{}",
         "name": "size",
         "type": "\"long\""
        },
        {
         "metadata": "{}",
         "name": "modificationTime",
         "type": "\"long\""
        }
       ],
       "type": "table"
      }
     },
     "output_type": "display_data"
    }
   ],
   "source": [
    "%fs ls /mnt/desafio-dwe-25/lhdw/landingzone/dim/"
   ]
  },
  {
   "cell_type": "code",
   "execution_count": 0,
   "metadata": {
    "application/vnd.databricks.v1+cell": {
     "cellMetadata": {
      "byteLimit": 2048000,
      "rowLimit": 10000
     },
     "inputWidgets": {},
     "nuid": "ac18f356-0332-4177-9476-d76e6f281001",
     "showTitle": false,
     "tableResultSettingsMap": {},
     "title": ""
    }
   },
   "outputs": [
    {
     "output_type": "display_data",
     "data": {
      "text/html": [
       "<style scoped>\n",
       "  .table-result-container {\n",
       "    max-height: 300px;\n",
       "    overflow: auto;\n",
       "  }\n",
       "  table, th, td {\n",
       "    border: 1px solid black;\n",
       "    border-collapse: collapse;\n",
       "  }\n",
       "  th, td {\n",
       "    padding: 5px;\n",
       "  }\n",
       "  th {\n",
       "    text-align: left;\n",
       "  }\n",
       "</style><div class='table-result-container'><table class='table-result'><thead style='background-color: white'><tr><th>path</th><th>name</th><th>size</th><th>modificationTime</th></tr></thead><tbody><tr><td>dbfs:/mnt/desafio-dwe-25/lhdw/landingzone/fato/vendas_1.csv</td><td>vendas_1.csv</td><td>24693678</td><td>1739823031000</td></tr><tr><td>dbfs:/mnt/desafio-dwe-25/lhdw/landingzone/fato/vendas_2.csv</td><td>vendas_2.csv</td><td>24693663</td><td>1739823033000</td></tr><tr><td>dbfs:/mnt/desafio-dwe-25/lhdw/landingzone/fato/vendas_3.csv</td><td>vendas_3.csv</td><td>24693601</td><td>1739823036000</td></tr></tbody></table></div>"
      ]
     },
     "metadata": {
      "application/vnd.databricks.v1+output": {
       "addedWidgets": {},
       "aggData": [],
       "aggError": "",
       "aggOverflow": false,
       "aggSchema": [],
       "aggSeriesLimitReached": false,
       "aggType": "",
       "arguments": {},
       "columnCustomDisplayInfos": {},
       "data": [
        [
         "dbfs:/mnt/desafio-dwe-25/lhdw/landingzone/fato/vendas_1.csv",
         "vendas_1.csv",
         24693678,
         1739823031000
        ],
        [
         "dbfs:/mnt/desafio-dwe-25/lhdw/landingzone/fato/vendas_2.csv",
         "vendas_2.csv",
         24693663,
         1739823033000
        ],
        [
         "dbfs:/mnt/desafio-dwe-25/lhdw/landingzone/fato/vendas_3.csv",
         "vendas_3.csv",
         24693601,
         1739823036000
        ]
       ],
       "datasetInfos": [],
       "dbfsResultPath": null,
       "isJsonSchema": true,
       "metadata": {
        "isDbfsCommandResult": false
       },
       "overflow": false,
       "plotOptions": {
        "customPlotOptions": {},
        "displayType": "table",
        "pivotAggregation": null,
        "pivotColumns": null,
        "xColumns": null,
        "yColumns": null
       },
       "removedWidgets": [],
       "schema": [
        {
         "metadata": "{}",
         "name": "path",
         "type": "\"string\""
        },
        {
         "metadata": "{}",
         "name": "name",
         "type": "\"string\""
        },
        {
         "metadata": "{}",
         "name": "size",
         "type": "\"long\""
        },
        {
         "metadata": "{}",
         "name": "modificationTime",
         "type": "\"long\""
        }
       ],
       "type": "table"
      }
     },
     "output_type": "display_data"
    }
   ],
   "source": [
    "%fs ls /mnt/desafio-dwe-25/lhdw/landingzone/fato/"
   ]
  }
 ],
 "metadata": {
  "application/vnd.databricks.v1+notebook": {
   "computePreferences": null,
   "dashboards": [],
   "environmentMetadata": {
    "base_environment": "",
    "client": "1"
   },
   "language": "python",
   "notebookMetadata": {
    "mostRecentlyExecutedCommandWithImplicitDF": {
     "commandId": 132839914240094,
     "dataframes": [
      "_sqldf"
     ]
    },
    "pythonIndentUnit": 4
   },
   "notebookName": "001 - Carregamento de Dados na LandingZone",
   "widgets": {}
  }
 },
 "nbformat": 4,
 "nbformat_minor": 0
}
