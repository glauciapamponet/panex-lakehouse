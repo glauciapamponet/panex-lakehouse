{
 "cells": [
  {
   "cell_type": "markdown",
   "metadata": {
    "application/vnd.databricks.v1+cell": {
     "cellMetadata": {},
     "inputWidgets": {},
     "nuid": "910ff315-23bd-42f8-a6f3-bdbfd1baf92a",
     "showTitle": false,
     "tableResultSettingsMap": {},
     "title": ""
    }
   },
   "source": [
    "## Desafio DWE 2025 - Carregamento e Transformação Camada Bronze\n",
    "- Conversão dos arquivos da LandingZone que ainda estão em formato original para Delta Parquet"
   ]
  },
  {
   "cell_type": "code",
   "execution_count": 0,
   "metadata": {
    "application/vnd.databricks.v1+cell": {
     "cellMetadata": {
      "byteLimit": 2048000,
      "rowLimit": 10000
     },
     "inputWidgets": {},
     "nuid": "d2cb6e6a-d8cb-4fdd-bc1b-2398463317ad",
     "showTitle": false,
     "tableResultSettingsMap": {},
     "title": ""
    }
   },
   "outputs": [],
   "source": [
    "from pyspark.sql import SparkSession\n",
    "from pyspark.sql.functions import *\n",
    "from pyspark.sql.types import *\n",
    "\n",
    "spark = SparkSession.builder \\\n",
    "    .appName(\"Carga e Transformação Bronze\") \\\n",
    "    .config(\"spark.sql.shuffle.partitions\", \"200\")  \\\n",
    "    .config(\"spark.sql.files.maxPartitionBytes\", \"128MB\") \\\n",
    "    .config(\"spark.sql.parquet.compression.codec\", \"snappy\") \\\n",
    "    .config(\"spark.sql.adaptive.enabled\", \"true\") \\\n",
    "    .getOrCreate()\n",
    "\n",
    "\n",
    "# Diretórios de trabalho \n",
    "lz_dim_path = '/mnt/desafio-dwe-25/lhdw/landingzone/dim'\n",
    "lz_fato_path = '/mnt/desafio-dwe-25/lhdw/landingzone/fato'\n",
    "\n",
    "lz_fato_in = f'{fato_path}/processar'\n",
    "lz_fato_out = f'{fato_path}/processado'\n",
    "\n",
    "lz_dim_in = f'{dim_path}/processar'\n",
    "lz_dim_out = f'{dim_path}/processado'\n",
    "\n",
    "br_dim_path = '/mnt/desafio-dwe-25/lhdw/bronze/dim'\n",
    "br_fato_path = '/mnt/desafio-dwe-25/lhdw/bronze/fato'"
   ]
  },
  {
   "cell_type": "markdown",
   "metadata": {
    "application/vnd.databricks.v1+cell": {
     "cellMetadata": {},
     "inputWidgets": {},
     "nuid": "7d44d9b9-4ab3-4006-b336-41dd8097cc51",
     "showTitle": false,
     "tableResultSettingsMap": {},
     "title": ""
    }
   },
   "source": [
    "### Dimensão - Categoria"
   ]
  },
  {
   "cell_type": "code",
   "execution_count": 0,
   "metadata": {
    "application/vnd.databricks.v1+cell": {
     "cellMetadata": {
      "byteLimit": 2048000,
      "rowLimit": 10000
     },
     "inputWidgets": {},
     "nuid": "1b9cd313-83a0-4c33-ba6c-a3bc4d61efbb",
     "showTitle": false,
     "tableResultSettingsMap": {},
     "title": ""
    }
   },
   "outputs": [
    {
     "output_type": "stream",
     "name": "stdout",
     "output_type": "stream",
     "text": [
      "+-----------+-------------+\n|CategoriaID|NomeCategoria|\n+-----------+-------------+\n|          1|  Confections|\n|          2|   Shell fish|\n|          3|      Cereals|\n|          4|        Dairy|\n|          5|    Beverages|\n+-----------+-------------+\nonly showing top 5 rows\n\n"
     ]
    }
   ],
   "source": [
    "lz_file = f'{lz_dim_in}/categorias.csv'\n",
    "\n",
    "# Tipagem das Colunas\n",
    "schema = StructType([\n",
    "    StructField(\"CategoriaID\", IntegerType(), True),\n",
    "    StructField(\"NomeCategoria\", StringType(), True)\n",
    "])\n",
    "\n",
    "df_categoria = spark.read \\\n",
    "    .format(\"csv\") \\\n",
    "    .option(\"header\", \"true\") \\\n",
    "    .schema(schema) \\\n",
    "    .load(lz_file)\n",
    "\n",
    "df_categoria.show(5)"
   ]
  },
  {
   "cell_type": "code",
   "execution_count": 0,
   "metadata": {
    "application/vnd.databricks.v1+cell": {
     "cellMetadata": {
      "byteLimit": 2048000,
      "rowLimit": 10000
     },
     "inputWidgets": {},
     "nuid": "edfae45c-f334-499c-b7cd-fd73b757a42b",
     "showTitle": false,
     "tableResultSettingsMap": {},
     "title": ""
    }
   },
   "outputs": [
    {
     "output_type": "stream",
     "name": "stdout",
     "output_type": "stream",
     "text": [
      "+-----------+-------------+\n|CategoriaID|NomeCategoria|\n+-----------+-------------+\n|          1|  Confections|\n|          2|   Shell fish|\n|          3|      Cereals|\n|          4|        Dairy|\n|          5|    Beverages|\n+-----------+-------------+\nonly showing top 5 rows\n\n"
     ]
    }
   ],
   "source": [
    "bronze_path = f'{br_dim_path}/CATEGORIA/'\n",
    "\n",
    "# Conversão Delta Parquet\n",
    "df_categoria.write \\\n",
    "    .format(\"delta\") \\\n",
    "    .mode(\"overwrite\") \\\n",
    "    .option(\"overwriteSchema\", \"true\") \\\n",
    "    .save(categoria_path)\n",
    "\n",
    "spark.read.format(\"delta\").load(categoria_path).show(5)\n"
   ]
  },
  {
   "cell_type": "code",
   "execution_count": 0,
   "metadata": {
    "application/vnd.databricks.v1+cell": {
     "cellMetadata": {
      "byteLimit": 2048000,
      "rowLimit": 10000
     },
     "inputWidgets": {},
     "nuid": "df8151bc-f918-4ff0-9aae-7cf56e9feb10",
     "showTitle": false,
     "tableResultSettingsMap": {},
     "title": ""
    }
   },
   "outputs": [
    {
     "output_type": "stream",
     "name": "stdout",
     "output_type": "stream",
     "text": [
      "Out[27]: DataFrame[CategoriaID: int, NomeCategoria: string]"
     ]
    }
   ],
   "source": [
    "# Limpeza de cache e transferencia dos arquivos processados\n",
    "dbutils.fs.mv(lz_file, lz_dim_out)\n",
    "df_categoria.unpersist()"
   ]
  },
  {
   "cell_type": "markdown",
   "metadata": {
    "application/vnd.databricks.v1+cell": {
     "cellMetadata": {},
     "inputWidgets": {},
     "nuid": "fcaea75b-f9e8-4ac0-8fd7-b780372f6f29",
     "showTitle": false,
     "tableResultSettingsMap": {},
     "title": ""
    }
   },
   "source": [
    "### Dimensão - Produto"
   ]
  },
  {
   "cell_type": "code",
   "execution_count": 0,
   "metadata": {
    "application/vnd.databricks.v1+cell": {
     "cellMetadata": {
      "byteLimit": 2048000,
      "rowLimit": 10000
     },
     "inputWidgets": {},
     "nuid": "fd5fbdc5-12bb-4424-9b67-231017d27421",
     "showTitle": false,
     "tableResultSettingsMap": {},
     "title": ""
    }
   },
   "outputs": [
    {
     "output_type": "stream",
     "name": "stdout",
     "output_type": "stream",
     "text": [
      "+---------+--------------------+-------+-----------+------+--------------------+-----------+---------+------------+\n|ProdutoID|         ProdutoNome|  Preco|CategoriaID|Classe|        DataCadastro|Resistencia|EAlergico|ValidadeDias|\n+---------+--------------------+-------+-----------+------+--------------------+-----------+---------+------------+\n|        1| Flour - Whole Wheat|74.2988|          3|Medium|2018-02-16 08:21:...|    Durable|  Unknown|         0.0|\n|        2|Cookie Chocolate ...|91.2329|          3|Medium|2017-02-12 11:39:...|    Unknown|  Unknown|         0.0|\n|        3|  Onions - Cippolini| 9.1379|          9|Medium|2018-03-15 08:11:...|       Weak|    False|       111.0|\n|        4|Sauce - Gravy, Au...|54.3055|          9|Medium|2017-07-16 00:46:...|    Durable|  Unknown|         0.0|\n|        5|Artichokes - Jeru...|65.4771|          2|   Low|2017-08-16 14:13:...|    Durable|     True|        27.0|\n+---------+--------------------+-------+-----------+------+--------------------+-----------+---------+------------+\nonly showing top 5 rows\n\n"
     ]
    }
   ],
   "source": [
    "lz_file = f'{lz_dim_in}/produtos.csv'\n",
    "\n",
    "# Tipagem das Colunas\n",
    "schema = StructType([\n",
    "    StructField(\"ProdutoID\", IntegerType(), True),\n",
    "    StructField(\"ProdutoNome\", StringType(), True),\n",
    "    StructField(\"Preco\", DoubleType(), True),\n",
    "    StructField(\"CategoriaID\", IntegerType(), True),\n",
    "    StructField(\"Classe\", StringType(), True),\n",
    "    StructField(\"DataCadastro\", StringType(), True),\n",
    "    StructField(\"Resistencia\", StringType(), True),\n",
    "    StructField(\"EAlergico\", StringType(), True),\n",
    "    StructField(\"ValidadeDias\", DoubleType(), True)\n",
    "])\n",
    "\n",
    "df_produto = spark.read \\\n",
    "    .format(\"csv\") \\\n",
    "    .option(\"header\", \"true\") \\\n",
    "    .schema(schema) \\\n",
    "    .load(lz_file)\n",
    "\n",
    "df_produto.show(5)"
   ]
  },
  {
   "cell_type": "code",
   "execution_count": 0,
   "metadata": {
    "application/vnd.databricks.v1+cell": {
     "cellMetadata": {
      "byteLimit": 2048000,
      "rowLimit": 10000
     },
     "inputWidgets": {},
     "nuid": "610a88bb-a6b8-42f6-8fb5-612649f6b182",
     "showTitle": false,
     "tableResultSettingsMap": {},
     "title": ""
    }
   },
   "outputs": [
    {
     "output_type": "stream",
     "name": "stdout",
     "output_type": "stream",
     "text": [
      "+---------+--------------------+-------+-----------+------+--------------------+-----------+---------+------------+\n|ProdutoID|         ProdutoNome|  Preco|CategoriaID|Classe|        DataCadastro|Resistencia|EAlergico|ValidadeDias|\n+---------+--------------------+-------+-----------+------+--------------------+-----------+---------+------------+\n|        1| Flour - Whole Wheat|74.2988|          3|Medium|2018-02-16 08:21:...|    Durable|  Unknown|         0.0|\n|        2|Cookie Chocolate ...|91.2329|          3|Medium|2017-02-12 11:39:...|    Unknown|  Unknown|         0.0|\n|        3|  Onions - Cippolini| 9.1379|          9|Medium|2018-03-15 08:11:...|       Weak|    False|       111.0|\n|        4|Sauce - Gravy, Au...|54.3055|          9|Medium|2017-07-16 00:46:...|    Durable|  Unknown|         0.0|\n|        5|Artichokes - Jeru...|65.4771|          2|   Low|2017-08-16 14:13:...|    Durable|     True|        27.0|\n+---------+--------------------+-------+-----------+------+--------------------+-----------+---------+------------+\nonly showing top 5 rows\n\n"
     ]
    }
   ],
   "source": [
    "bronze_path = f'{br_dim_path}/PRODUTO/'\n",
    "\n",
    "# Conversão Delta Parquet\n",
    "df_produto.write \\\n",
    "    .format(\"delta\") \\\n",
    "    .mode(\"overwrite\") \\\n",
    "    .option(\"overwriteSchema\", \"true\") \\\n",
    "    .save(bronze_path)\n",
    "\n",
    "spark.read.format(\"delta\").load(bronze_path).show(5)"
   ]
  },
  {
   "cell_type": "code",
   "execution_count": 0,
   "metadata": {
    "application/vnd.databricks.v1+cell": {
     "cellMetadata": {
      "byteLimit": 2048000,
      "rowLimit": 10000
     },
     "inputWidgets": {},
     "nuid": "335ba1e7-481a-4646-8bf9-5da8fa7887ce",
     "showTitle": false,
     "tableResultSettingsMap": {},
     "title": ""
    }
   },
   "outputs": [
    {
     "output_type": "stream",
     "name": "stdout",
     "output_type": "stream",
     "text": [
      "Out[41]: DataFrame[ProdutoID: int, ProdutoNome: string, Preco: double, CategoriaID: int, Classe: string, DataCadastro: string, Resistencia: string, EAlergico: string, ValidadeDias: double]"
     ]
    }
   ],
   "source": [
    "# Limpeza de cache e transferencia dos arquivos processados\n",
    "dbutils.fs.mv(lz_file, lz_dim_out)\n",
    "df_produto.unpersist()"
   ]
  },
  {
   "cell_type": "markdown",
   "metadata": {
    "application/vnd.databricks.v1+cell": {
     "cellMetadata": {},
     "inputWidgets": {},
     "nuid": "e92e825b-e8c4-43aa-8a68-83a6a68b92fb",
     "showTitle": false,
     "tableResultSettingsMap": {},
     "title": ""
    }
   },
   "source": [
    "### Dimensão - Vendedor"
   ]
  },
  {
   "cell_type": "code",
   "execution_count": 0,
   "metadata": {
    "application/vnd.databricks.v1+cell": {
     "cellMetadata": {
      "byteLimit": 2048000,
      "rowLimit": 10000
     },
     "inputWidgets": {},
     "nuid": "4684e21b-791e-4ced-bfc8-5fc825aa9853",
     "showTitle": false,
     "tableResultSettingsMap": {},
     "title": ""
    }
   },
   "outputs": [
    {
     "output_type": "stream",
     "name": "stdout",
     "output_type": "stream",
     "text": [
      "+----------+------------+----------+----------+--------------+------+--------+------------+\n|VendedorID|PrimeiroNome|NomeDoMeio|UltimoNome|DataNascimento|Genero|CidadeID|DataAdmissao|\n+----------+------------+----------+----------+--------------+------+--------+------------+\n|         1|      Nicole|         T|    Fuller|    1981-03-07|     F|      80|  2011-06-20|\n|         2|   Christine|         W|    Palmer|    1968-01-25|     F|       4|  2011-04-27|\n|         3|       Pablo|         Y|     Cline|    1963-02-09|     M|      70|  2012-03-30|\n|         4|     Darnell|         O|   Nielsen|    1989-02-06|     M|      39|  2014-03-06|\n|         5|     Desiree|         L|    Stuart|    1963-05-03|     F|      23|  2014-11-16|\n+----------+------------+----------+----------+--------------+------+--------+------------+\nonly showing top 5 rows\n\n"
     ]
    }
   ],
   "source": [
    "lz_file = f'{lz_dim_in}/vendedores.csv'\n",
    "\n",
    "# Tipagem das Colunas\n",
    "schema = StructType([\n",
    "    StructField(\"VendedorID\", IntegerType(), True),\n",
    "    StructField(\"PrimeiroNome\", StringType(), True),\n",
    "    StructField(\"NomeDoMeio\", StringType(), True),\n",
    "    StructField(\"UltimoNome\", StringType(), True),\n",
    "    StructField(\"DataNascimento\", DateType(), True),\n",
    "    StructField(\"Genero\", StringType(), True),\n",
    "    StructField(\"CidadeID\", IntegerType(), True),\n",
    "    StructField(\"DataAdmissao\", DateType(), True)\n",
    "])\n",
    "\n",
    "df_vendedor = spark.read \\\n",
    "    .format(\"csv\") \\\n",
    "    .option(\"header\", \"true\") \\\n",
    "    .schema(schema) \\\n",
    "    .load(lz_file)\n",
    "\n",
    "df_vendedor.show(5)"
   ]
  },
  {
   "cell_type": "code",
   "execution_count": 0,
   "metadata": {
    "application/vnd.databricks.v1+cell": {
     "cellMetadata": {
      "byteLimit": 2048000,
      "rowLimit": 10000
     },
     "inputWidgets": {},
     "nuid": "2309e293-d912-496e-aa8a-4e4d8fc746e0",
     "showTitle": false,
     "tableResultSettingsMap": {},
     "title": ""
    }
   },
   "outputs": [
    {
     "output_type": "stream",
     "name": "stdout",
     "output_type": "stream",
     "text": [
      "+----------+------------+----------+----------+--------------+------+--------+------------+\n|VendedorID|PrimeiroNome|NomeDoMeio|UltimoNome|DataNascimento|Genero|CidadeID|DataAdmissao|\n+----------+------------+----------+----------+--------------+------+--------+------------+\n|         1|      Nicole|         T|    Fuller|    1981-03-07|     F|      80|  2011-06-20|\n|         2|   Christine|         W|    Palmer|    1968-01-25|     F|       4|  2011-04-27|\n|         3|       Pablo|         Y|     Cline|    1963-02-09|     M|      70|  2012-03-30|\n|         4|     Darnell|         O|   Nielsen|    1989-02-06|     M|      39|  2014-03-06|\n|         5|     Desiree|         L|    Stuart|    1963-05-03|     F|      23|  2014-11-16|\n+----------+------------+----------+----------+--------------+------+--------+------------+\nonly showing top 5 rows\n\n"
     ]
    }
   ],
   "source": [
    "bronze_path = f'{br_dim_path}/VENDEDOR/'\n",
    "\n",
    "# Conversão Delta Parquet\n",
    "df_vendedor.write \\\n",
    "    .format(\"delta\") \\\n",
    "    .mode(\"overwrite\") \\\n",
    "    .option(\"overwriteSchema\", \"true\") \\\n",
    "    .save(bronze_path)\n",
    "\n",
    "spark.read.format(\"delta\").load(bronze_path).show(5)"
   ]
  },
  {
   "cell_type": "code",
   "execution_count": 0,
   "metadata": {
    "application/vnd.databricks.v1+cell": {
     "cellMetadata": {
      "byteLimit": 2048000,
      "rowLimit": 10000
     },
     "inputWidgets": {},
     "nuid": "cce747dc-ff27-4ee7-a49a-b20b664da3ad",
     "showTitle": false,
     "tableResultSettingsMap": {},
     "title": ""
    }
   },
   "outputs": [
    {
     "output_type": "stream",
     "name": "stdout",
     "output_type": "stream",
     "text": [
      "Out[40]: DataFrame[VendedorID: int, PrimeiroNome: string, NomeDoMeio: string, UltimoNome: string, DataNascimento: date, Genero: string, CidadeID: int, DataAdmissao: date]"
     ]
    }
   ],
   "source": [
    "# Limpeza de cache e transferencia dos arquivos processados\n",
    "dbutils.fs.mv(lz_file, lz_dim_out)\n",
    "df_vendedor.unpersist()"
   ]
  },
  {
   "cell_type": "markdown",
   "metadata": {
    "application/vnd.databricks.v1+cell": {
     "cellMetadata": {},
     "inputWidgets": {},
     "nuid": "8f38c719-e76b-4337-b8c9-56e078262b31",
     "showTitle": false,
     "tableResultSettingsMap": {},
     "title": ""
    }
   },
   "source": [
    "### Dimensão - País"
   ]
  },
  {
   "cell_type": "code",
   "execution_count": 0,
   "metadata": {
    "application/vnd.databricks.v1+cell": {
     "cellMetadata": {
      "byteLimit": 2048000,
      "rowLimit": 10000
     },
     "inputWidgets": {},
     "nuid": "76d6e259-c2cd-4298-a189-c1db718ed580",
     "showTitle": false,
     "tableResultSettingsMap": {},
     "title": ""
    }
   },
   "outputs": [
    {
     "output_type": "stream",
     "name": "stdout",
     "output_type": "stream",
     "text": [
      "+------+--------+---------+\n|PaisID|PaisNome|SiglaPais|\n+------+--------+---------+\n|     1| Armenia|       AN|\n|     2|  Canada|       FO|\n|     3|  Belize|       MK|\n|     4|  Uganda|       LV|\n|     5|Thailand|       VI|\n+------+--------+---------+\nonly showing top 5 rows\n\n"
     ]
    }
   ],
   "source": [
    "lz_file = f'{lz_dim_in}/paises.csv'\n",
    "\n",
    "# Tipagem das Colunas\n",
    "schema = StructType([\n",
    "    StructField(\"PaisID\", IntegerType(), True),\n",
    "    StructField(\"PaisNome\", StringType(), True),\n",
    "    StructField(\"SiglaPais\", StringType(), True)\n",
    "])\n",
    "\n",
    "df_pais = spark.read \\\n",
    "    .format(\"csv\") \\\n",
    "    .option(\"header\", \"true\") \\\n",
    "    .schema(schema) \\\n",
    "    .load(lz_file)\n",
    "\n",
    "df_pais.show(5)"
   ]
  },
  {
   "cell_type": "code",
   "execution_count": 0,
   "metadata": {
    "application/vnd.databricks.v1+cell": {
     "cellMetadata": {
      "byteLimit": 2048000,
      "rowLimit": 10000
     },
     "inputWidgets": {},
     "nuid": "6fb1da7d-54a3-44af-979f-e9ccffa39d26",
     "showTitle": false,
     "tableResultSettingsMap": {},
     "title": ""
    }
   },
   "outputs": [
    {
     "output_type": "stream",
     "name": "stdout",
     "output_type": "stream",
     "text": [
      "+------+--------+---------+\n|PaisID|PaisNome|SiglaPais|\n+------+--------+---------+\n|     1| Armenia|       AN|\n|     2|  Canada|       FO|\n|     3|  Belize|       MK|\n|     4|  Uganda|       LV|\n|     5|Thailand|       VI|\n+------+--------+---------+\nonly showing top 5 rows\n\n"
     ]
    }
   ],
   "source": [
    "bronze_path = f'{br_dim_path}/PAIS/'\n",
    "\n",
    "# Conversão Delta Parquet\n",
    "df_pais.write \\\n",
    "    .format(\"delta\") \\\n",
    "    .mode(\"overwrite\") \\\n",
    "    .option(\"overwriteSchema\", \"true\") \\\n",
    "    .save(bronze_path)\n",
    "\n",
    "spark.read.format(\"delta\").load(bronze_path).show(5)"
   ]
  },
  {
   "cell_type": "code",
   "execution_count": 0,
   "metadata": {
    "application/vnd.databricks.v1+cell": {
     "cellMetadata": {
      "byteLimit": 2048000,
      "rowLimit": 10000
     },
     "inputWidgets": {},
     "nuid": "e48b80e5-ed4f-41f8-a4c2-e33b3d7663e3",
     "showTitle": false,
     "tableResultSettingsMap": {},
     "title": ""
    }
   },
   "outputs": [
    {
     "output_type": "stream",
     "name": "stdout",
     "output_type": "stream",
     "text": [
      "Out[39]: DataFrame[PaisID: int, PaisNome: string, SiglaPais: string]"
     ]
    }
   ],
   "source": [
    "# Limpeza de cache e transferencia dos arquivos processados\n",
    "dbutils.fs.mv(lz_file, lz_dim_out)\n",
    "df_pais.unpersist()"
   ]
  },
  {
   "cell_type": "markdown",
   "metadata": {
    "application/vnd.databricks.v1+cell": {
     "cellMetadata": {},
     "inputWidgets": {},
     "nuid": "82ee6bfb-d07b-40d2-9b10-afebb3ae17cc",
     "showTitle": false,
     "tableResultSettingsMap": {},
     "title": ""
    }
   },
   "source": [
    "### Dimensão - Cidade"
   ]
  },
  {
   "cell_type": "code",
   "execution_count": 0,
   "metadata": {
    "application/vnd.databricks.v1+cell": {
     "cellMetadata": {
      "byteLimit": 2048000,
      "rowLimit": 10000
     },
     "inputWidgets": {},
     "nuid": "71ef132b-8418-4993-af6f-e83f1061fed3",
     "showTitle": false,
     "tableResultSettingsMap": {},
     "title": ""
    }
   },
   "outputs": [
    {
     "output_type": "stream",
     "name": "stdout",
     "output_type": "stream",
     "text": [
      "+--------+--------------+-----+------+\n|CidadeID|    NomeCidade|  Cep|PaisID|\n+--------+--------------+-----+------+\n|       1|        Dayton|80563|    32|\n|       2|       Buffalo|17420|    32|\n|       3|       Chicago|44751|    32|\n|       4|       Fremont|20641|    32|\n|       5|Virginia Beach|62389|    32|\n+--------+--------------+-----+------+\nonly showing top 5 rows\n\n"
     ]
    }
   ],
   "source": [
    "lz_file = f'{lz_dim_in}/cidades.csv'\n",
    "\n",
    "# Tipagem das Colunas\n",
    "schema = StructType([\n",
    "    StructField(\"CidadeID\", IntegerType(), True),\n",
    "    StructField(\"NomeCidade\", StringType(), True),\n",
    "    StructField(\"Cep\", StringType(), True),\n",
    "    StructField(\"PaisID\", StringType(), True)\n",
    "])\n",
    "\n",
    "df_cidade = spark.read \\\n",
    "    .format(\"csv\") \\\n",
    "    .option(\"header\", \"true\") \\\n",
    "    .schema(schema) \\\n",
    "    .load(lz_file)\n",
    "\n",
    "df_cidade.show(5)"
   ]
  },
  {
   "cell_type": "code",
   "execution_count": 0,
   "metadata": {
    "application/vnd.databricks.v1+cell": {
     "cellMetadata": {
      "byteLimit": 2048000,
      "rowLimit": 10000
     },
     "inputWidgets": {},
     "nuid": "f1e33c02-6174-489d-ac67-7a75262a6e05",
     "showTitle": false,
     "tableResultSettingsMap": {},
     "title": ""
    }
   },
   "outputs": [
    {
     "output_type": "stream",
     "name": "stdout",
     "output_type": "stream",
     "text": [
      "+--------+--------------+-----+------+\n|CidadeID|    NomeCidade|  Cep|PaisID|\n+--------+--------------+-----+------+\n|       1|        Dayton|80563|    32|\n|       2|       Buffalo|17420|    32|\n|       3|       Chicago|44751|    32|\n|       4|       Fremont|20641|    32|\n|       5|Virginia Beach|62389|    32|\n+--------+--------------+-----+------+\nonly showing top 5 rows\n\n"
     ]
    }
   ],
   "source": [
    "bronze_path = f'{br_dim_path}/CIDADE/'\n",
    "\n",
    "# Conversão Delta Parquet\n",
    "df_cidade.write \\\n",
    "    .format(\"delta\") \\\n",
    "    .mode(\"overwrite\") \\\n",
    "    .option(\"overwriteSchema\", \"true\") \\\n",
    "    .save(bronze_path)\n",
    "\n",
    "spark.read.format(\"delta\").load(bronze_path).show(5)"
   ]
  },
  {
   "cell_type": "code",
   "execution_count": 0,
   "metadata": {
    "application/vnd.databricks.v1+cell": {
     "cellMetadata": {
      "byteLimit": 2048000,
      "rowLimit": 10000
     },
     "inputWidgets": {},
     "nuid": "fe2391f6-08c5-4017-abb0-be9ac13fa17c",
     "showTitle": false,
     "tableResultSettingsMap": {},
     "title": ""
    }
   },
   "outputs": [
    {
     "output_type": "stream",
     "name": "stdout",
     "output_type": "stream",
     "text": [
      "Out[44]: DataFrame[CidadeID: int, NomeCidade: string, Cep: string, PaisID: string]"
     ]
    }
   ],
   "source": [
    "# Limpeza de cache e transferencia dos arquivos processados\n",
    "dbutils.fs.mv(lz_file, lz_dim_out)\n",
    "df_cidade.unpersist()"
   ]
  },
  {
   "cell_type": "markdown",
   "metadata": {
    "application/vnd.databricks.v1+cell": {
     "cellMetadata": {},
     "inputWidgets": {},
     "nuid": "ba12ec96-a6bd-4f5f-a591-862246b929c3",
     "showTitle": false,
     "tableResultSettingsMap": {},
     "title": ""
    }
   },
   "source": [
    "### Dimensão - Cliente"
   ]
  },
  {
   "cell_type": "code",
   "execution_count": 0,
   "metadata": {
    "application/vnd.databricks.v1+cell": {
     "cellMetadata": {
      "byteLimit": 2048000,
      "rowLimit": 10000
     },
     "inputWidgets": {},
     "nuid": "8a9e2ca3-7f61-41d8-847e-d84a5b94920e",
     "showTitle": false,
     "tableResultSettingsMap": {},
     "title": ""
    }
   },
   "outputs": [
    {
     "output_type": "stream",
     "name": "stdout",
     "output_type": "stream",
     "text": [
      "+---------+------------+----------+----------+--------+--------------------+\n|ClienteID|PrimeiroNome|NomeDoMeio|UltimoNome|CidadeID|            Endereco|\n+---------+------------+----------+----------+--------+--------------------+\n|        1|    Stefanie|         Y|      Frye|      79|       97 Oak Avenue|\n|        2|       Sandy|         T|     Kirby|      96|52 White First Fr...|\n|        3|         Lee|         T|     Zhang|      55|921 White Fabien ...|\n|        4|      Regina|         S|     Avery|      40|       75 Old Avenue|\n|        5|      Daniel|         S|    Mccann|       2|283 South Green H...|\n+---------+------------+----------+----------+--------+--------------------+\nonly showing top 5 rows\n\n"
     ]
    }
   ],
   "source": [
    "lz_file = f'{lz_dim_in}/clientes.csv'\n",
    "\n",
    "# Tipagem das Colunas\n",
    "schema = StructType([\n",
    "    StructField(\"ClienteID\", IntegerType(), True),\n",
    "    StructField(\"PrimeiroNome\", StringType(), True),\n",
    "    StructField(\"NomeDoMeio\", StringType(), True),\n",
    "    StructField(\"UltimoNome\", StringType(), True),\n",
    "    StructField(\"CidadeID\", IntegerType(), True),\n",
    "    StructField(\"Endereco\", StringType(), True)\n",
    "])\n",
    "\n",
    "df_cliente = spark.read \\\n",
    "    .format(\"csv\") \\\n",
    "    .option(\"header\", \"true\") \\\n",
    "    .schema(schema) \\\n",
    "    .load(lz_file)\n",
    "\n",
    "df_cliente.show(5)"
   ]
  },
  {
   "cell_type": "code",
   "execution_count": 0,
   "metadata": {
    "application/vnd.databricks.v1+cell": {
     "cellMetadata": {
      "byteLimit": 2048000,
      "rowLimit": 10000
     },
     "inputWidgets": {},
     "nuid": "406b1719-0a15-4868-a29d-f9656028f8c3",
     "showTitle": false,
     "tableResultSettingsMap": {},
     "title": ""
    }
   },
   "outputs": [
    {
     "output_type": "stream",
     "name": "stdout",
     "output_type": "stream",
     "text": [
      "+---------+------------+----------+----------+--------+--------------------+\n|ClienteID|PrimeiroNome|NomeDoMeio|UltimoNome|CidadeID|            Endereco|\n+---------+------------+----------+----------+--------+--------------------+\n|        1|    Stefanie|         Y|      Frye|      79|       97 Oak Avenue|\n|        2|       Sandy|         T|     Kirby|      96|52 White First Fr...|\n|        3|         Lee|         T|     Zhang|      55|921 White Fabien ...|\n|        4|      Regina|         S|     Avery|      40|       75 Old Avenue|\n|        5|      Daniel|         S|    Mccann|       2|283 South Green H...|\n+---------+------------+----------+----------+--------+--------------------+\nonly showing top 5 rows\n\n"
     ]
    }
   ],
   "source": [
    "bronze_path = f'{br_dim_path}/CLIENTE/'\n",
    "\n",
    "# Conversão Delta Parquet\n",
    "df_cliente.write \\\n",
    "    .format(\"delta\") \\\n",
    "    .mode(\"overwrite\") \\\n",
    "    .option(\"overwriteSchema\", \"true\") \\\n",
    "    .save(bronze_path)\n",
    "\n",
    "spark.read.format(\"delta\").load(bronze_path).show(5)"
   ]
  },
  {
   "cell_type": "code",
   "execution_count": 0,
   "metadata": {
    "application/vnd.databricks.v1+cell": {
     "cellMetadata": {
      "byteLimit": 2048000,
      "rowLimit": 10000
     },
     "inputWidgets": {},
     "nuid": "6874c5b1-b52e-49a4-8024-729dcdfa9401",
     "showTitle": false,
     "tableResultSettingsMap": {},
     "title": ""
    }
   },
   "outputs": [
    {
     "output_type": "stream",
     "name": "stdout",
     "output_type": "stream",
     "text": [
      "Out[47]: DataFrame[ClienteID: int, PrimeiroNome: string, NomeDoMeio: string, UltimoNome: string, CidadeID: int, Endereco: string]"
     ]
    }
   ],
   "source": [
    "# Limpeza de cache e transferencia dos arquivos processados\n",
    "dbutils.fs.mv(lz_file, lz_dim_out)\n",
    "df_cliente.unpersist()"
   ]
  },
  {
   "cell_type": "markdown",
   "metadata": {
    "application/vnd.databricks.v1+cell": {
     "cellMetadata": {},
     "inputWidgets": {},
     "nuid": "00cb17fe-d6a9-4cc0-a0d8-fda784ca16e1",
     "showTitle": false,
     "tableResultSettingsMap": {},
     "title": ""
    }
   },
   "source": [
    "### Fato - Vendas"
   ]
  },
  {
   "cell_type": "code",
   "execution_count": 0,
   "metadata": {
    "application/vnd.databricks.v1+cell": {
     "cellMetadata": {
      "byteLimit": 2048000,
      "rowLimit": 10000
     },
     "inputWidgets": {},
     "nuid": "700f7500-9741-4c03-8b30-d766409cd796",
     "showTitle": false,
     "tableResultSettingsMap": {},
     "title": ""
    }
   },
   "outputs": [
    {
     "output_type": "stream",
     "name": "stdout",
     "output_type": "stream",
     "text": [
      "+--------+----------+---------+---------+----------+--------+----------+----------+--------------------+------------+\n|VendasID|VendedorID|ClienteID|ProdutoID|Quantidade|Desconto|PrecoTotal| DataVenda|     NumeroTransacao|    filename|\n+--------+----------+---------+---------+----------+--------+----------+----------+--------------------+------------+\n| 6207624|        16|     1401|        7|         1|     0.1|       0.0|2018-01-01|JMAICVALK5QLQPFJZMPQ|vendas_1.csv|\n| 2266176|         1|    28628|       79|         8|     0.1|       0.0|2018-01-01|XJ2AASIGXZFUOKQ1HMLJ|vendas_1.csv|\n| 6510351|        12|    64721|      411|        17|     0.0|       0.0|2018-01-01|AISH11C7JF8C4YRZ7PLQ|vendas_1.csv|\n| 1972817|         3|    84022|      425|        22|     0.0|       0.0|2018-01-01|SQQ4UEB0ML0QPNLTNLG9|vendas_1.csv|\n| 5564470|        17|    10737|      101|         3|     0.0|       0.0|2018-01-01|1AVUBWY1L2JL8ZXG5KE2|vendas_1.csv|\n+--------+----------+---------+---------+----------+--------+----------+----------+--------------------+------------+\nonly showing top 5 rows\n\n"
     ]
    }
   ],
   "source": [
    "lz_file = f'{lz_fato_in}/'\n",
    "\n",
    "# Tipagem das Colunas\n",
    "schema = StructType([\n",
    "    StructField(\"VendasID\", IntegerType(), True),\n",
    "    StructField(\"VendedorID\", IntegerType(), True),\n",
    "    StructField(\"ClienteID\", IntegerType(), True),\n",
    "    StructField(\"ProdutoID\", IntegerType(), True),\n",
    "    StructField(\"Quantidade\", IntegerType(), True),\n",
    "    StructField(\"Desconto\", DoubleType(), True),\n",
    "    StructField(\"PrecoTotal\", DoubleType(), True),\n",
    "    StructField(\"DataVenda\", DateType(), True),\n",
    "    StructField(\"NumeroTransacao\", StringType(), True)\n",
    "])\n",
    "\n",
    "df_vendas = spark.read \\\n",
    "    .format(\"csv\") \\\n",
    "    .option(\"header\", \"true\") \\\n",
    "    .schema(schema) \\\n",
    "    .load(lz_file) \\\n",
    "    .withColumn(\n",
    "        \"filename\", \n",
    "        regexp_extract(input_file_name(), \"([^/]+)$\", 0)\n",
    "    )    \n",
    "\n",
    "df_vendas.show(5)"
   ]
  },
  {
   "cell_type": "code",
   "execution_count": 0,
   "metadata": {
    "application/vnd.databricks.v1+cell": {
     "cellMetadata": {
      "byteLimit": 2048000,
      "rowLimit": 10000
     },
     "inputWidgets": {},
     "nuid": "b15da6c0-1e77-49e4-90a3-6d6a6f4284b9",
     "showTitle": false,
     "tableResultSettingsMap": {},
     "title": ""
    }
   },
   "outputs": [
    {
     "output_type": "stream",
     "name": "stdout",
     "output_type": "stream",
     "text": [
      "+------------+------+\n|    filename| count|\n+------------+------+\n|vendas_1.csv|321815|\n|vendas_2.csv|321815|\n|vendas_3.csv|321816|\n+------------+------+\n\n"
     ]
    }
   ],
   "source": [
    "df_vendas.groupBy(\"filename\").count().show()"
   ]
  },
  {
   "cell_type": "code",
   "execution_count": 0,
   "metadata": {
    "application/vnd.databricks.v1+cell": {
     "cellMetadata": {
      "byteLimit": 2048000,
      "rowLimit": 10000
     },
     "inputWidgets": {},
     "nuid": "809e30b2-e8f8-42bb-83a3-8f39bb6bb8cb",
     "showTitle": false,
     "tableResultSettingsMap": {},
     "title": ""
    }
   },
   "outputs": [
    {
     "output_type": "stream",
     "name": "stdout",
     "output_type": "stream",
     "text": [
      "+--------+----------+---------+---------+----------+--------+----------+----------+--------------------+\n|VendasID|VendedorID|ClienteID|ProdutoID|Quantidade|Desconto|PrecoTotal| DataVenda|     NumeroTransacao|\n+--------+----------+---------+---------+----------+--------+----------+----------+--------------------+\n| 6207624|        16|     1401|        7|         1|     0.1|       0.0|2018-01-01|JMAICVALK5QLQPFJZMPQ|\n| 2266176|         1|    28628|       79|         8|     0.1|       0.0|2018-01-01|XJ2AASIGXZFUOKQ1HMLJ|\n| 6510351|        12|    64721|      411|        17|     0.0|       0.0|2018-01-01|AISH11C7JF8C4YRZ7PLQ|\n| 1972817|         3|    84022|      425|        22|     0.0|       0.0|2018-01-01|SQQ4UEB0ML0QPNLTNLG9|\n| 5564470|        17|    10737|      101|         3|     0.0|       0.0|2018-01-01|1AVUBWY1L2JL8ZXG5KE2|\n+--------+----------+---------+---------+----------+--------+----------+----------+--------------------+\nonly showing top 5 rows\n\n"
     ]
    }
   ],
   "source": [
    "bronze_path = f'{br_fato_path}/VENDAS/'\n",
    "\n",
    "# Limpeza da coluna de verificação\n",
    "df_vendas = df_vendas.drop(\"filename\")\n",
    "\n",
    "# Conversão Delta Parquet\n",
    "df_vendas.write \\\n",
    "    .format(\"delta\") \\\n",
    "    .mode(\"overwrite\") \\\n",
    "    .option(\"overwriteSchema\", \"true\") \\\n",
    "    .save(bronze_path)\n",
    "\n",
    "spark.read.format(\"delta\").load(bronze_path).show(5)"
   ]
  },
  {
   "cell_type": "code",
   "execution_count": 0,
   "metadata": {
    "application/vnd.databricks.v1+cell": {
     "cellMetadata": {
      "byteLimit": 2048000,
      "rowLimit": 10000
     },
     "inputWidgets": {},
     "nuid": "c403f70f-dead-4cab-acf6-d021e242de12",
     "showTitle": false,
     "tableResultSettingsMap": {},
     "title": ""
    }
   },
   "outputs": [
    {
     "output_type": "stream",
     "name": "stdout",
     "output_type": "stream",
     "text": [
      "Out[59]: DataFrame[VendasID: int, VendedorID: int, ClienteID: int, ProdutoID: int, Quantidade: int, Desconto: double, PrecoTotal: double, DataVenda: date, NumeroTransacao: string]"
     ]
    }
   ],
   "source": [
    "# Limpeza de cache e transferencia dos arquivos processados\n",
    "dbutils.fs.mv(lz_file, lz_fato_out, recurse=True)\n",
    "df_vendas.unpersist()"
   ]
  },
  {
   "cell_type": "markdown",
   "metadata": {
    "application/vnd.databricks.v1+cell": {
     "cellMetadata": {},
     "inputWidgets": {},
     "nuid": "df2c080e-732b-487c-ba44-2ea45196049e",
     "showTitle": false,
     "tableResultSettingsMap": {},
     "title": ""
    }
   },
   "source": [
    "### Analise da Carga - Fato"
   ]
  },
  {
   "cell_type": "code",
   "execution_count": 0,
   "metadata": {
    "application/vnd.databricks.v1+cell": {
     "cellMetadata": {
      "byteLimit": 2048000,
      "rowLimit": 10000
     },
     "inputWidgets": {},
     "nuid": "677dc324-33c5-431c-84d1-271871a1666b",
     "showTitle": false,
     "tableResultSettingsMap": {},
     "title": ""
    }
   },
   "outputs": [
    {
     "output_type": "stream",
     "name": "stdout",
     "output_type": "stream",
     "text": [
      "Linhas: 965446\nColunas: ['VendasID', 'VendedorID', 'ClienteID', 'ProdutoID', 'Quantidade', 'Desconto', 'PrecoTotal', 'DataVenda', 'NumeroTransacao']\n+-------+------------------+------------------+------------------+------------------+------------------+--------------------+----------+--------------------+\n|summary|          VendasID|        VendedorID|         ClienteID|         ProdutoID|        Quantidade|            Desconto|PrecoTotal|     NumeroTransacao|\n+-------+------------------+------------------+------------------+------------------+------------------+--------------------+----------+--------------------+\n|  count|            965446|            965446|            965446|            965446|            965446|              965446|    965446|              965446|\n|   mean|3378612.8861583145|11.993800792587052|  49402.5070589137|226.58830737296546|13.005468974960795|0.029894370063150925|       0.0|                null|\n| stddev|1951396.9390423202| 6.629074016941077|28525.088568652263|130.48345255221508| 7.215215408362496| 0.06393979791058846|       0.0|                null|\n|    min|                 8|                 1|                 1|                 1|                 1|                 0.0|       0.0|0000DI3LR46YCCO1YASB|\n|    25%|           1686800|                 6|             24670|               113|                 7|                 0.0|       0.0|                null|\n|    50%|           3378490|                12|             49440|               227|                13|                 0.0|       0.0|                null|\n|    75%|           5068876|                18|             74118|               340|                19|                 0.0|       0.0|                null|\n|    max|           6758123|                23|             98759|               452|                25|                 0.2|       0.0|ZZZUYTHPSI5S0U0QIPEZ|\n+-------+------------------+------------------+------------------+------------------+------------------+--------------------+----------+--------------------+\n\n"
     ]
    }
   ],
   "source": [
    "bronze_path = f'{br_fato_path}/VENDAS'\n",
    "\n",
    "df_fato = spark.read.format(\"delta\").load(bronze_path)\n",
    "\n",
    "# Exibindo sumário\n",
    "print(f\"Linhas: {df_fato.count()}\")\n",
    "print(f\"Colunas: {df_fato.columns}\")\n",
    "df_fato.summary().show(10)"
   ]
  }
 ],
 "metadata": {
  "application/vnd.databricks.v1+notebook": {
   "computePreferences": null,
   "dashboards": [],
   "environmentMetadata": {
    "base_environment": "",
    "client": "1"
   },
   "language": "python",
   "notebookMetadata": {
    "pythonIndentUnit": 4
   },
   "notebookName": "002 - Transformação Camada Bronze",
   "widgets": {}
  }
 },
 "nbformat": 4,
 "nbformat_minor": 0
}
