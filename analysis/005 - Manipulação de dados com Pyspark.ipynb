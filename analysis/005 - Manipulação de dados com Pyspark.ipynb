{
 "cells": [
  {
   "cell_type": "markdown",
   "metadata": {
    "application/vnd.databricks.v1+cell": {
     "cellMetadata": {},
     "inputWidgets": {},
     "nuid": "2a558a4e-de95-4ef6-88ba-687e62831527",
     "showTitle": false,
     "tableResultSettingsMap": {},
     "title": ""
    }
   },
   "source": [
    "## Desafio DWE 2025 - Habilidades de manipulação de dados com Pyspark\n",
    "- Análises propostas pelo desafio sobre o conjunto de dados contido no LakeHouse desenvolvido neste projeto."
   ]
  },
  {
   "cell_type": "code",
   "execution_count": 0,
   "metadata": {
    "application/vnd.databricks.v1+cell": {
     "cellMetadata": {
      "byteLimit": 2048000,
      "rowLimit": 10000
     },
     "inputWidgets": {},
     "nuid": "21268a1f-9f9a-4e51-b283-acad38185ced",
     "showTitle": false,
     "tableResultSettingsMap": {},
     "title": ""
    }
   },
   "outputs": [],
   "source": [
    "import gc\n",
    "from pyspark.sql import SparkSession\n",
    "from delta.tables import DeltaTable\n",
    "from pyspark.sql.functions import *\n",
    "from pyspark.sql.types import *\n",
    "\n",
    "spark = SparkSession.builder \\\n",
    "    .appName(\"Habilidades de manipulação de dados com Pyspark\") \\\n",
    "    .config(\"spark.sql.extensions\", \"io.delta.sql.DeltaSparkSessionExtension\") \\\n",
    "    .config(\"spark.sql.catalog.spark_catalog\", \"org.apache.spark.sql.delta.catalog.DeltaCatalog\") \\\n",
    "    .config(\"spark.sql.shuffle.partitions\", \"200\")  \\\n",
    "    .config(\"spark.sql.files.maxPartitionBytes\", \"128MB\") \\\n",
    "    .config(\"spark.sql.parquet.compression.codec\", \"snappy\") \\\n",
    "    .config(\"spark.sql.adaptive.enabled\", \"true\") \\\n",
    "    .getOrCreate()\n",
    "\n",
    "\n",
    "# Diretórios de trabalho \n",
    "gd_dim_path = '/mnt/desafio-dwe-25/lhdw/gold/dim'\n",
    "gd_fato_path = '/mnt/desafio-dwe-25/lhdw/gold/fato/VENDAS'\n",
    "\n",
    "categoria_path = f'{gd_dim_path}/CATEGORIA'\n",
    "produto_path = f'{gd_dim_path}/PRODUTO'\n",
    "vendedor_path = f'{gd_dim_path}/VENDEDOR'\n",
    "cidade_path = f'{gd_dim_path}/CIDADE'\n",
    "pais_path = f'{gd_dim_path}/PAIS'\n",
    "cliente_path = f'{gd_dim_path}/CLIENTE'\n"
   ]
  },
  {
   "cell_type": "code",
   "execution_count": 0,
   "metadata": {
    "application/vnd.databricks.v1+cell": {
     "cellMetadata": {
      "byteLimit": 2048000,
      "rowLimit": 10000
     },
     "inputWidgets": {},
     "nuid": "49c4913f-8cbc-4fe8-b173-8f3b95abdd39",
     "showTitle": false,
     "tableResultSettingsMap": {},
     "title": ""
    }
   },
   "outputs": [
    {
     "output_type": "stream",
     "name": "stdout",
     "output_type": "stream",
     "text": [
      "Out[11]: DataFrame[CategoriaSK: bigint, ProdutoSK: bigint, VendasID: int, Quantidade: int, Desconto: double, PrecoTotal: double, DataVenda: date, DATA_ATUALIZACAO: timestamp, ANO: int, MES: int, ClienteSK: bigint, VendedorSK: bigint, ProdutoID: int, ProdutoNome: string, Preco: double, Classe: string, DataCadastro: string, Resistencia: string, EAlergico: string, ValidadeDias: double, DATA_ATUALIZACAO: timestamp, DataINI: timestamp, DataFIM: timestamp, Ativo: boolean, CategoriaID: int, NomeCategoria: string, DATA_ATUALIZACAO: timestamp, DataINI: timestamp, DataFIM: timestamp, ATIVO: boolean]"
     ]
    }
   ],
   "source": [
    "# Aplicação de distribuição broadcast nas dimensões que serão usadas\n",
    "dim_categoria = broadcast(spark.read.format(\"delta\").load(categoria_path))\n",
    "dim_produto = broadcast(spark.read.format(\"delta\").load(produto_path))\n",
    "dim_vendedor = broadcast(spark.read.format(\"delta\").load(vendedor_path))\n",
    "dim_cidade = broadcast(spark.read.format(\"delta\").load(cidade_path))\n",
    "dim_pais = broadcast(spark.read.format(\"delta\").load(pais_path))\n",
    "dim_cliente = broadcast(spark.read.format(\"delta\").load(cliente_path))\n",
    "\n",
    "# Carregando Fato Vendas\n",
    "fato_vendas = spark.read.format(\"delta\").load(gd_fato_path)\n",
    "\n",
    "# Carregando na cache o volume de dados de maior uso na análise\n",
    "vendas_2018 = fato_vendas.filter(\"ANO = 2018\")\\\n",
    "  .join(dim_produto, \"ProdutoSK\", \"inner\")\\\n",
    "  .join(dim_categoria, \"CategoriaSK\", \"inner\")\n",
    "\n",
    "vendas_2018.cache()"
   ]
  },
  {
   "cell_type": "markdown",
   "metadata": {
    "application/vnd.databricks.v1+cell": {
     "cellMetadata": {},
     "inputWidgets": {},
     "nuid": "9126f2be-5424-45ef-8a24-225dfc9a5ae8",
     "showTitle": false,
     "tableResultSettingsMap": {},
     "title": ""
    }
   },
   "source": [
    "### 1 - Qual o número total de linhas carregado na tabela fato?"
   ]
  },
  {
   "cell_type": "code",
   "execution_count": 0,
   "metadata": {
    "application/vnd.databricks.v1+cell": {
     "cellMetadata": {
      "byteLimit": 2048000,
      "rowLimit": 10000
     },
     "inputWidgets": {},
     "nuid": "5dce0268-2541-47fc-abc6-2b29ef3269a0",
     "showTitle": false,
     "tableResultSettingsMap": {},
     "title": ""
    }
   },
   "outputs": [
    {
     "output_type": "stream",
     "name": "stdout",
     "output_type": "stream",
     "text": [
      "+--------+----------+--------+------------------+----------+--------------------+----+---+---------+----------+---------+\n|VendasID|Quantidade|Desconto|        PrecoTotal| DataVenda|    DATA_ATUALIZACAO| ANO|MES|ClienteSK|VendedorSK|ProdutoSK|\n+--------+----------+--------+------------------+----------+--------------------+----+---+---------+----------+---------+\n| 1447191|        13|     0.0|          826.1812|2018-02-07|2025-02-21 18:48:...|2018|  2|    48640|        21|      155|\n|  233900|         1|     0.2|49.759440000000005|2018-02-07|2025-02-21 18:48:...|2018|  2|     2782|        19|       96|\n|  930189|         4|     0.0|          275.5156|2018-02-07|2025-02-21 18:48:...|2018|  2|    15286|        23|      105|\n| 4792802|         7|     0.0|          132.8299|2018-02-07|2025-02-21 18:48:...|2018|  2|    26268|        10|      205|\n| 6576409|        17|     0.0|492.82829999999996|2018-02-07|2025-02-21 18:48:...|2018|  2|    65099|        17|      338|\n+--------+----------+--------+------------------+----------+--------------------+----+---+---------+----------+---------+\nonly showing top 5 rows\n\nTotal de registros contidos no diretório Fato Vendas: 965446\nOut[16]: 243"
     ]
    }
   ],
   "source": [
    "# Mostrando cabeçalho e contagem de registros Fato Vendas\n",
    "fato_vendas.show(5)\n",
    "print(f\"Total de registros contidos no diretório Fato Vendas: {fato_vendas.count()}\")\n",
    "\n",
    "# Limpando o cache do Dataframe total no cluster e na referência\n",
    "fato_vendas.unpersist()\n",
    "del fato_vendas\n",
    "gc.collect()"
   ]
  },
  {
   "cell_type": "markdown",
   "metadata": {
    "application/vnd.databricks.v1+cell": {
     "cellMetadata": {},
     "inputWidgets": {},
     "nuid": "16895a68-787f-41dd-b1fe-7c7e3d7cfbbf",
     "showTitle": false,
     "tableResultSettingsMap": {},
     "title": ""
    }
   },
   "source": [
    "### 2 - Qual o total de Vendas em Fev/2018 para cada Categoria?"
   ]
  },
  {
   "cell_type": "code",
   "execution_count": 0,
   "metadata": {
    "application/vnd.databricks.v1+cell": {
     "cellMetadata": {
      "byteLimit": 2048000,
      "rowLimit": 10000
     },
     "inputWidgets": {},
     "nuid": "1eb5f196-366b-448b-b355-a460df2ce408",
     "showTitle": false,
     "tableResultSettingsMap": {},
     "title": ""
    }
   },
   "outputs": [
    {
     "output_type": "stream",
     "name": "stdout",
     "output_type": "stream",
     "text": [
      "Total de Vendas em Fev/2018 por Categoria:\n+-------------+-------------+----+---+\n|NomeCategoria|  TotalVendas| Ano|Mes|\n+-------------+-------------+----+---+\n|    Beverages|17.559.163,88|2018|  2|\n|      Cereals|20.080.823,41|2018|  2|\n|  Confections|26.624.685,47|2018|  2|\n|        Dairy|16.870.060,99|2018|  2|\n|        Grain|15.543.903,02|2018|  2|\n|         Meat|23.509.827,64|2018|  2|\n|      Poultry|21.095.595,21|2018|  2|\n|      Produce|17.419.229,59|2018|  2|\n|      Seafood|15.741.556,97|2018|  2|\n|   Shell fish|14.254.486,92|2018|  2|\n|       Snails|17.908.210,32|2018|  2|\n+-------------+-------------+----+---+\n\nOut[64]: DataFrame[CategoriaSK: bigint, ProdutoSK: bigint, VendasID: int, Quantidade: int, Desconto: double, PrecoTotal: double, DataVenda: date, DATA_ATUALIZACAO: timestamp, ANO: int, MES: int, ClienteSK: bigint, VendedorSK: bigint, ProdutoID: int, ProdutoNome: string, Preco: double, Classe: string, DataCadastro: string, Resistencia: string, EAlergico: string, ValidadeDias: double, DATA_ATUALIZACAO: timestamp, DataINI: timestamp, DataFIM: timestamp, Ativo: boolean, CategoriaID: int, NomeCategoria: string, DATA_ATUALIZACAO: timestamp, DataINI: timestamp, DataFIM: timestamp, ATIVO: boolean]"
     ]
    }
   ],
   "source": [
    "# Carregando vendas de Fev/18\n",
    "fev18_vendas = vendas_2018.filter(\"MES = 02\")\n",
    "\n",
    "# Agrupando por categoria e exibindo em formato monetário Brasileiro\n",
    "print(\"Total de Vendas em Fev/2018 por Categoria:\")\n",
    "fev18_vendas.groupBy(\"NomeCategoria\", \"Ano\", \"Mes\")\\\n",
    "   .agg(sum(\"PrecoTotal\").alias(\"TotalVendas\"))\\\n",
    "   .orderBy(asc(\"NomeCategoria\"))\\\n",
    "   .withColumn(\"TotalVendas\", format_number(col(\"TotalVendas\"), 2))\\\n",
    "   .withColumn(\"TotalVendas\", regexp_replace(col(\"TotalVendas\"), \",\", \"X\"))\\\n",
    "   .withColumn(\"TotalVendas\", regexp_replace(col(\"TotalVendas\"), \"\\\\.\", \",\"))\\\n",
    "   .withColumn(\"TotalVendas\", regexp_replace(col(\"TotalVendas\"), \"X\", \".\"))\\\n",
    "   .select(\"NomeCategoria\", \"TotalVendas\", \"Ano\", \"Mes\").show()\n",
    "\n",
    "fev18_vendas.cache()"
   ]
  },
  {
   "cell_type": "markdown",
   "metadata": {
    "application/vnd.databricks.v1+cell": {
     "cellMetadata": {},
     "inputWidgets": {},
     "nuid": "0f35c36d-1fc4-4f19-9b9a-fc5421c5f1be",
     "showTitle": false,
     "tableResultSettingsMap": {},
     "title": ""
    }
   },
   "source": [
    "### 3 - Qual o total de vendas em quantidade em Mar/2018 por Vendedor?"
   ]
  },
  {
   "cell_type": "code",
   "execution_count": 0,
   "metadata": {
    "application/vnd.databricks.v1+cell": {
     "cellMetadata": {
      "byteLimit": 2048000,
      "rowLimit": 10000
     },
     "inputWidgets": {},
     "nuid": "1eab8ff5-f067-496c-a936-03c8c2a5dd80",
     "showTitle": false,
     "tableResultSettingsMap": {},
     "title": ""
    }
   },
   "outputs": [
    {
     "output_type": "stream",
     "name": "stdout",
     "output_type": "stream",
     "text": [
      "Total de Vendas em quantidade em Mar/2018 por Vendedor:\n+------------------+---+----+----------------+\n|      NomeVendedor|Mes| Ano|QuantidadeVendas|\n+------------------+---+----+----------------+\n|   Bernard L Moody|  3|2018|           14099|\n|   Chadwick P Cook|  3|2018|           13993|\n| Chadwick U Walton|  3|2018|           13921|\n|Christine W Palmer|  3|2018|           14050|\n|     Daphne X King|  3|2018|           13991|\n| Darnell O Nielsen|  3|2018|           13995|\n|  Desiree L Stuart|  3|2018|           14250|\n|    Devon D Brewer|  3|2018|           13835|\n|   Holly E Collins|  3|2018|           13871|\n|   Janet K Flowers|  3|2018|           14077|\n|       Jean P Vang|  3|2018|           13897|\n|      Julie E Dyer|  3|2018|           14027|\n|     Kari D Finley|  3|2018|           14208|\n|    Katina Y Marks|  3|2018|           13837|\n|    Lindsay M Chen|  3|2018|           14091|\n|   Nicole T Fuller|  3|2018|           14025|\n|     Pablo Y Cline|  3|2018|           13995|\n|     Seth D Franco|  3|2018|           13931|\n|   Shelby P Riddle|  3|2018|           13977|\n|   Sonya E Dickson|  3|2018|           14024|\n+------------------+---+----+----------------+\nonly showing top 20 rows\n\nOut[63]: DataFrame[CategoriaSK: bigint, ProdutoSK: bigint, VendasID: int, Quantidade: int, Desconto: double, PrecoTotal: double, DataVenda: date, DATA_ATUALIZACAO: timestamp, ANO: int, MES: int, ClienteSK: bigint, VendedorSK: bigint, ProdutoID: int, ProdutoNome: string, Preco: double, Classe: string, DataCadastro: string, Resistencia: string, EAlergico: string, ValidadeDias: double, DATA_ATUALIZACAO: timestamp, DataINI: timestamp, DataFIM: timestamp, Ativo: boolean, CategoriaID: int, NomeCategoria: string, DATA_ATUALIZACAO: timestamp, DataINI: timestamp, DataFIM: timestamp, ATIVO: boolean]"
     ]
    }
   ],
   "source": [
    "# Carregando vendas de Mar/18 \n",
    "mar18_vendas= vendas_2018.filter(\"MES = 03\")\n",
    "\n",
    "# Join vendedores e consulta agrupada de quantidades por Vendedor\n",
    "print(\"Total de Vendas em quantidade em Mar/2018 por Vendedor:\")\n",
    "mar18_vendas.join(dim_vendedor, \"VendedorSK\", \"inner\")\\\n",
    "  .groupBy(\"NomeVendedor\",  \"Mes\", \"Ano\")\\\n",
    "  .agg(count(\"VendasID\").alias(\"QuantidadeVendas\"))\\\n",
    "  .orderBy(asc(\"NomeVendedor\"))\\\n",
    "  .show()\n",
    "\n",
    "mar18_vendas.cache()"
   ]
  },
  {
   "cell_type": "markdown",
   "metadata": {
    "application/vnd.databricks.v1+cell": {
     "cellMetadata": {},
     "inputWidgets": {},
     "nuid": "f5d66736-88a7-47f7-9994-5750c97023c4",
     "showTitle": false,
     "tableResultSettingsMap": {},
     "title": ""
    }
   },
   "source": [
    "### 4 - Qual o total de vendas em (R$) em Fev/2018 por país?"
   ]
  },
  {
   "cell_type": "code",
   "execution_count": 0,
   "metadata": {
    "application/vnd.databricks.v1+cell": {
     "cellMetadata": {
      "byteLimit": 2048000,
      "rowLimit": 10000
     },
     "inputWidgets": {},
     "nuid": "d5fa5063-8fd0-4116-8a0a-5240087d239a",
     "showTitle": false,
     "tableResultSettingsMap": {},
     "title": ""
    }
   },
   "outputs": [
    {
     "output_type": "stream",
     "name": "stdout",
     "output_type": "stream",
     "text": [
      "+-------------+---+----+--------------+\n|     PaisNome|Mes| Ano|   TotalVendas|\n+-------------+---+----+--------------+\n|United States|  2|2018|206.607.543,40|\n+-------------+---+----+--------------+\n\nOut[62]: 6119"
     ]
    }
   ],
   "source": [
    "# Junção de referência do país\n",
    "fev18_pais = fev18_vendas\\\n",
    "    .join(dim_cliente, \"ClienteSK\", \"inner\")\\\n",
    "    .join(dim_cidade, \"CidadeSK\", \"inner\")\\\n",
    "    .join(dim_pais, \"PaisSK\", \"inner\")\n",
    "\n",
    "# Agrupando por País e exibindo em formato monetário Brasileiro\n",
    "fev18_pais.groupBy(\"PaisNome\", \"Mes\", \"Ano\")\\\n",
    "    .agg(sum(\"PrecoTotal\").alias(\"TotalVendas\"))\\\n",
    "    .orderBy(asc(\"PaisNome\"))\\\n",
    "    .withColumn(\"TotalVendas\", format_number(col(\"TotalVendas\"), 2))\\\n",
    "    .withColumn(\"TotalVendas\", regexp_replace(col(\"TotalVendas\"), \",\", \"x\"))\\\n",
    "    .withColumn(\"TotalVendas\", regexp_replace(col(\"TotalVendas\"), \"\\\\.\", \",\"))\\\n",
    "    .withColumn(\"TotalVendas\", regexp_replace(col(\"TotalVendas\"), \"x\", \".\"))\\\n",
    "    .show()\n",
    "\n",
    "fev18_pais.unpersist()\n",
    "del fev18_pais\n",
    "gc.collect()"
   ]
  },
  {
   "cell_type": "markdown",
   "metadata": {
    "application/vnd.databricks.v1+cell": {
     "cellMetadata": {},
     "inputWidgets": {},
     "nuid": "dbf30a2f-3198-4b82-85ff-a7ae0484982e",
     "showTitle": false,
     "tableResultSettingsMap": {},
     "title": ""
    }
   },
   "source": [
    "### 5 - Qual o Total de Vendas(R$) mês a mês em 2018?"
   ]
  },
  {
   "cell_type": "code",
   "execution_count": 0,
   "metadata": {
    "application/vnd.databricks.v1+cell": {
     "cellMetadata": {
      "byteLimit": 2048000,
      "rowLimit": 10000
     },
     "inputWidgets": {},
     "nuid": "2086df61-244b-45b1-8ab4-583fc53cfe87",
     "showTitle": false,
     "tableResultSettingsMap": {},
     "title": ""
    }
   },
   "outputs": [
    {
     "output_type": "stream",
     "name": "stdout",
     "output_type": "stream",
     "text": [
      "Total de Vendas(R$) por Mês em 2018:\n+---+----+--------------+\n|Mes| Ano|   TotalVendas|\n+---+----+--------------+\n|  1|2018|206.542.923,58|\n|  2|2018|206.607.543,40|\n|  3|2018|206.253.273,59|\n+---+----+--------------+\n\n"
     ]
    }
   ],
   "source": [
    "# Agrupamento por mês de vendas e exibição em formato monetário Brasileiro\n",
    "print(\"Total de Vendas(R$) por Mês em 2018:\")\n",
    "vendas_2018.groupBy(\"Mes\", \"Ano\")\\\n",
    "    .agg(sum(\"PrecoTotal\").alias(\"TotalVendas\"))\\\n",
    "    .orderBy(asc(\"Mes\"))\\\n",
    "    .withColumn(\"TotalVendas\", format_number(col(\"TotalVendas\"), 2))\\\n",
    "    .withColumn(\"TotalVendas\", regexp_replace(col(\"TotalVendas\"), \",\", \"x\"))\\\n",
    "    .withColumn(\"TotalVendas\", regexp_replace(col(\"TotalVendas\"), \"\\\\.\", \",\"))\\\n",
    "    .withColumn(\"TotalVendas\", regexp_replace(col(\"TotalVendas\"), \"x\", \".\"))\\\n",
    "    .show()\n",
    "\n"
   ]
  },
  {
   "cell_type": "markdown",
   "metadata": {
    "application/vnd.databricks.v1+cell": {
     "cellMetadata": {},
     "inputWidgets": {},
     "nuid": "03098e34-0984-4344-932f-9843099b23e8",
     "showTitle": false,
     "tableResultSettingsMap": {},
     "title": ""
    }
   },
   "source": [
    "### 6 - Qual o total de desconto mês a mês em 2018?"
   ]
  },
  {
   "cell_type": "code",
   "execution_count": 0,
   "metadata": {
    "application/vnd.databricks.v1+cell": {
     "cellMetadata": {
      "byteLimit": 2048000,
      "rowLimit": 10000
     },
     "inputWidgets": {},
     "nuid": "61ecc7f4-c0c2-46f2-9cca-bd2d77659db9",
     "showTitle": false,
     "tableResultSettingsMap": {},
     "title": ""
    }
   },
   "outputs": [
    {
     "output_type": "stream",
     "name": "stdout",
     "output_type": "stream",
     "text": [
      "Total de desconto(R$) por Mês em 2018:\n+---+----+-------------+\n|Mes| Ano|TotalDesconto|\n+---+----+-------------+\n|  1|2018| 6.315.273,39|\n|  2|2018| 6.389.943,53|\n|  3|2018| 6.324.096,74|\n+---+----+-------------+\n\nOut[69]: 21227"
     ]
    }
   ],
   "source": [
    "# Aplicando o valor de desconto no Dataset\n",
    "vendas_2018_desconto = vendas_2018.withColumn(\n",
    "    \"DescontoAplicado\", \n",
    "    col(\"Preco\") * col(\"Quantidade\") * col(\"Desconto\")\n",
    ")\n",
    "\n",
    "# Agrupamento por mês de desconto aplicado e exibição em formato monetário Brasileiro\n",
    "print(\"Total de desconto(R$) por Mês em 2018:\")\n",
    "vendas_2018_desconto.groupBy(\"Mes\", \"Ano\")\\\n",
    "    .agg(sum(\"DescontoAplicado\").alias(\"TotalDesconto\"))\\\n",
    "    .orderBy(asc(\"Mes\"))\\\n",
    "    .withColumn(\"TotalDesconto\", format_number(col(\"TotalDesconto\"), 2))\\\n",
    "    .withColumn(\"TotalDesconto\", regexp_replace(col(\"TotalDesconto\"), \",\", \"x\"))\\\n",
    "    .withColumn(\"TotalDesconto\", regexp_replace(col(\"TotalDesconto\"), \"\\\\.\", \",\"))\\\n",
    "    .withColumn(\"TotalDesconto\", regexp_replace(col(\"TotalDesconto\"), \"x\", \".\"))\\\n",
    "    .show()\n",
    "\n",
    "vendas_2018_desconto.unpersist()\n",
    "del vendas_2018_desconto\n",
    "gc.collect()"
   ]
  },
  {
   "cell_type": "markdown",
   "metadata": {
    "application/vnd.databricks.v1+cell": {
     "cellMetadata": {},
     "inputWidgets": {},
     "nuid": "5e621211-f6a2-4d8d-a829-9e231acb7cd9",
     "showTitle": false,
     "tableResultSettingsMap": {},
     "title": ""
    }
   },
   "source": [
    "### 7 - Qual a variação %(MoM) de Total de vendas (R$) de Mar/2018 para Fev/2018?"
   ]
  },
  {
   "cell_type": "code",
   "execution_count": 0,
   "metadata": {
    "application/vnd.databricks.v1+cell": {
     "cellMetadata": {
      "byteLimit": 2048000,
      "rowLimit": 10000
     },
     "inputWidgets": {},
     "nuid": "6b3282e2-a4e9-428e-b714-c5360e1e1f70",
     "showTitle": false,
     "tableResultSettingsMap": {},
     "title": ""
    }
   },
   "outputs": [
    {
     "output_type": "stream",
     "name": "stdout",
     "output_type": "stream",
     "text": [
      "Variação %(MoM) de Total de vendas (R$) de Mar/2018 para Fev/2018:\n+--------------+--------------+-----------+\n|     VendasMAR|     VendasFEV|Variacao(%)|\n+--------------+--------------+-----------+\n|206.253.273,59|206.607.543,40|      -0.17|\n+--------------+--------------+-----------+\n\nOut[96]: 13177"
     ]
    }
   ],
   "source": [
    "# Coletando total de vendas em Fevereiro e Março de 2018\n",
    "vendas_fev = fev18_vendas.agg(sum(\"PrecoTotal\").alias(\"VendasFEV\"))\n",
    "vendas_mar = mar18_vendas.agg(sum(\"PrecoTotal\").alias(\"VendasMAR\"))\n",
    "\n",
    "# Calculando a variação em % nas vendas em Fev e Mar\n",
    "vendas_var = vendas_fev.withColumn(\"VendasMAR\", lit(vendas_mar.collect()[0][0]))\\\n",
    "    .withColumn(\"Variacao(%)\", (((col(\"VendasMAR\")) / col(\"VendasFEV\")) - 1) * 100)\\\n",
    "    .withColumn(\"Variacao(%)\", format_string(\"%.2f\", col(\"Variacao(%)\")))\n",
    "\n",
    "# Exibindo os valores monetários de Fev em formato BR\n",
    "vendas_var = vendas_var.withColumn(\"VendasFEV\", format_number(col(\"VendasFEV\"), 2))\\\n",
    "    .withColumn(\"VendasFEV\", regexp_replace(col(\"VendasFEV\"), \",\", \"x\"))\\\n",
    "    .withColumn(\"VendasFEV\", regexp_replace(col(\"VendasFEV\"), \"\\\\.\", \",\"))\\\n",
    "    .withColumn(\"VendasFEV\", regexp_replace(col(\"VendasFEV\"), \"x\", \".\"))\n",
    "\n",
    "# Exibindo os valores monetários de Mar em formato BR\n",
    "vendas_var = vendas_var.withColumn(\"VendasMAR\", format_number(col(\"VendasMAR\"), 2))\\\n",
    "    .withColumn(\"VendasMAR\", regexp_replace(col(\"VendasMAR\"), \",\", \"x\"))\\\n",
    "    .withColumn(\"VendasMAR\", regexp_replace(col(\"VendasMAR\"), \"\\\\.\", \",\"))\\\n",
    "    .withColumn(\"VendasMAR\", regexp_replace(col(\"VendasMAR\"), \"x\", \".\"))\n",
    "\n",
    "# Exibindo resultado (Trocando ordem das colunas para fazer sentido)\n",
    "print(\"Variação %(MoM) de Total de vendas (R$) de Mar/2018 para Fev/2018:\")\n",
    "vendas_var.select(\"VendasMAR\", \"VendasFEV\", \"Variacao(%)\").show()\n",
    "\n",
    "vendas_fev.unpersist()\n",
    "vendas_mar.unpersist()\n",
    "vendas_var.unpersist()\n",
    "del vendas_fev, vendas_mar,  vendas_var\n",
    "gc.collect()"
   ]
  },
  {
   "cell_type": "markdown",
   "metadata": {
    "application/vnd.databricks.v1+cell": {
     "cellMetadata": {},
     "inputWidgets": {},
     "nuid": "a2a7805e-de25-4af0-b7a7-c5f2463b6c1a",
     "showTitle": false,
     "tableResultSettingsMap": {},
     "title": ""
    }
   },
   "source": [
    "### 8 - Qual o Top 10 produtos com maior Valor de vendas (R$) em Fev/2018?"
   ]
  },
  {
   "cell_type": "code",
   "execution_count": 0,
   "metadata": {
    "application/vnd.databricks.v1+cell": {
     "cellMetadata": {
      "byteLimit": 2048000,
      "rowLimit": 10000
     },
     "inputWidgets": {},
     "nuid": "7c57fe56-fb4a-446e-aca4-8801a1f7bb3d",
     "showTitle": false,
     "tableResultSettingsMap": {},
     "title": ""
    }
   },
   "outputs": [
    {
     "output_type": "stream",
     "name": "stdout",
     "output_type": "stream",
     "text": [
      "+--------------------+-----------+\n|         ProdutoNome|TotalVendas|\n+--------------------+-----------+\n|           Tia Maria| 993.120,99|\n|Puree - Passion F...| 961.500,84|\n|  Bread - Multigrain| 931.051,22|\n| Beer - Rickards Red| 900.530,87|\n|Pork - Hock And F...| 895.106,43|\n|Soup Knorr Chili ...| 883.830,80|\n|Bread - Calabrese...| 881.217,84|\n|       Vanilla Beans| 880.190,34|\n| Beef - Inside Round| 872.808,08|\n| Tuna - Salad Premix| 868.599,36|\n+--------------------+-----------+\nonly showing top 10 rows\n\n"
     ]
    }
   ],
   "source": [
    "# Exibindo top 10 com valores monetarios em formato BR\n",
    "print(\"Top 10 produtos com maior Valor de vendas (R$) em Fev/2018:\")\n",
    "fev18_vendas.groupBy(\"ProdutoNome\")\\\n",
    "    .agg(sum(\"PrecoTotal\").alias(\"TotalVendas\"))\\\n",
    "    .orderBy(desc(\"TotalVendas\"))\\\n",
    "    .withColumn(\"TotalVendas\", format_number(col(\"TotalVendas\"), 2))\\\n",
    "    .withColumn(\"TotalVendas\", regexp_replace(col(\"TotalVendas\"), \",\", \"x\"))\\\n",
    "    .withColumn(\"TotalVendas\", regexp_replace(col(\"TotalVendas\"), \"\\\\.\", \",\"))\\\n",
    "    .withColumn(\"TotalVendas\", regexp_replace(col(\"TotalVendas\"), \"x\", \".\"))\\\n",
    "    .show(10)"
   ]
  },
  {
   "cell_type": "markdown",
   "metadata": {
    "application/vnd.databricks.v1+cell": {
     "cellMetadata": {},
     "inputWidgets": {},
     "nuid": "0760b24f-27d8-40eb-80a3-4525c741eb29",
     "showTitle": false,
     "tableResultSettingsMap": {},
     "title": ""
    }
   },
   "source": [
    "### 9 - Retorne o % (Share*) de Total de vendas (R$), por Categoria em Fev/2018?"
   ]
  },
  {
   "cell_type": "code",
   "execution_count": 0,
   "metadata": {
    "application/vnd.databricks.v1+cell": {
     "cellMetadata": {
      "byteLimit": 2048000,
      "rowLimit": 10000
     },
     "inputWidgets": {},
     "nuid": "ce0622e0-f58c-47a8-ada1-01abdb2240ea",
     "showTitle": false,
     "tableResultSettingsMap": {},
     "title": ""
    }
   },
   "outputs": [
    {
     "output_type": "stream",
     "name": "stdout",
     "output_type": "stream",
     "text": [
      "% (Share*) de Total de vendas (R$), por Categoria em Fev/2018:\n+-------------+-------------+--------+\n|NomeCategoria|  TotalVendas|Share(%)|\n+-------------+-------------+--------+\n|  Confections|26.624.685,47|   12.89|\n|         Meat|23.509.827,64|   11.38|\n|      Poultry|21.095.595,21|   10.21|\n|      Cereals|20.080.823,41|    9.72|\n|       Snails|17.908.210,32|    8.67|\n|    Beverages|17.559.163,88|    8.50|\n|      Produce|17.419.229,59|    8.43|\n|        Dairy|16.870.060,99|    8.17|\n|      Seafood|15.741.556,97|    7.62|\n|        Grain|15.543.903,02|    7.52|\n|   Shell fish|14.254.486,92|    6.90|\n+-------------+-------------+--------+\n\nOut[124]: 13320"
     ]
    }
   ],
   "source": [
    "# Consultando o valor total de vendas de Fev/18\n",
    "total_vendas = fev18_vendas.agg(sum(\"PrecoTotal\")).collect()[0][0]\n",
    "\n",
    "# Agrupando o Share por Categoria com base no total de vendas\n",
    "share_vendas18 = fev18_vendas.groupBy(\"NomeCategoria\")\\\n",
    "    .agg(sum(\"PrecoTotal\").alias(\"TotalVendas\"))\\\n",
    "    .withColumn(\"Share(%)\", (((col(\"TotalVendas\")) / total_vendas)) * 100)\\\n",
    "    .orderBy(desc(\"Share(%)\"))\\\n",
    "    .withColumn(\"Share(%)\", format_string(\"%.2f\", col(\"Share(%)\")))\n",
    "\n",
    "# Exibindo o resultado com o formato monetario BR\n",
    "print(\"% (Share*) de Total de vendas (R$), por Categoria em Fev/2018:\")\n",
    "share_vendas18.withColumn(\"TotalVendas\", format_number(col(\"TotalVendas\"), 2))\\\n",
    "    .withColumn(\"TotalVendas\", regexp_replace(col(\"TotalVendas\"), \",\", \"x\"))\\\n",
    "    .withColumn(\"TotalVendas\", regexp_replace(col(\"TotalVendas\"), \"\\\\.\", \",\"))\\\n",
    "    .withColumn(\"TotalVendas\", regexp_replace(col(\"TotalVendas\"), \"x\", \".\"))\\\n",
    "    .show()\n",
    "\n",
    "share_vendas18.unpersist()\n",
    "del share_vendas18\n",
    "gc.collect()"
   ]
  },
  {
   "cell_type": "markdown",
   "metadata": {
    "application/vnd.databricks.v1+cell": {
     "cellMetadata": {},
     "inputWidgets": {},
     "nuid": "6ec27f01-686b-4b35-9a3b-5dde3d4bcc17",
     "showTitle": false,
     "tableResultSettingsMap": {},
     "title": ""
    }
   },
   "source": [
    "### 10 - Retorne o Ticket médio de Total de Vendas por categoria no ano de Jan/2018?"
   ]
  },
  {
   "cell_type": "code",
   "execution_count": 0,
   "metadata": {
    "application/vnd.databricks.v1+cell": {
     "cellMetadata": {
      "byteLimit": 2048000,
      "rowLimit": 10000
     },
     "inputWidgets": {},
     "nuid": "ec844752-e3a2-4810-b396-667f25112304",
     "showTitle": false,
     "tableResultSettingsMap": {},
     "title": ""
    }
   },
   "outputs": [
    {
     "output_type": "stream",
     "name": "stdout",
     "output_type": "stream",
     "text": [
      "Ticket médio de Total de Vendas por categoria no ano de Jan/2018:\n+-------------+-------------+-----------+\n|NomeCategoria|  TotalVendas|TicketMedio|\n+-------------+-------------+-----------+\n|    Beverages|17.521.891,00|     645,90|\n|      Cereals|20.375.501,84|     635,88|\n|  Confections|26.694.946,97|     657,67|\n|        Dairy|16.626.946,66|     673,67|\n|        Grain|15.457.952,32|     774,56|\n|         Meat|23.684.096,25|     664,16|\n|      Poultry|20.761.846,14|     622,15|\n|      Produce|17.467.967,81|     569,82|\n|      Seafood|15.974.324,46|     617,60|\n|   Shell fish|14.344.095,02|     557,29|\n|       Snails|17.633.355,13|     674,94|\n+-------------+-------------+-----------+\n\nOut[127]: 50394"
     ]
    }
   ],
   "source": [
    "# Trazendo a quantidade de vendas por categoria de Jan/18\n",
    "jan18_vendas_quantidade = vendas_2018.filter(\"MES = 01\")\\\n",
    "    .groupBy(\"NomeCategoria\").agg(count(\"VendasID\").alias(\"Quantidade\"))\n",
    "\n",
    "# Unindo a quantidade de vendas ao total de vendas para calcular o Ticket Medio\n",
    "ticket_jan18 =  vendas_2018.filter(\"MES = 01\")\\\n",
    "    .groupBy(\"NomeCategoria\").agg(sum(\"PrecoTotal\").alias(\"TotalVendas\"))\\\n",
    "    .join(jan18_vendas_quantidade, \"NomeCategoria\", \"inner\")\\\n",
    "    .withColumn(\"TicketMedio\", (col(\"TotalVendas\") / col(\"Quantidade\")))\n",
    "\n",
    "# Exibição do resultado no formato monetario BR\n",
    "print(\"Ticket médio de Total de Vendas por categoria no ano de Jan/2018:\")\n",
    "ticket_jan18.orderBy(asc(\"NomeCategoria\"))\\\n",
    "    .withColumn(\"TotalVendas\", format_number(col(\"TotalVendas\"), 2))\\\n",
    "    .withColumn(\"TotalVendas\", regexp_replace(col(\"TotalVendas\"), \",\", \"x\"))\\\n",
    "    .withColumn(\"TotalVendas\", regexp_replace(col(\"TotalVendas\"), \"\\\\.\", \",\"))\\\n",
    "    .withColumn(\"TotalVendas\", regexp_replace(col(\"TotalVendas\"), \"x\", \".\"))\\\n",
    "    .withColumn(\"TicketMedio\", format_number(col(\"TicketMedio\"), 2))\\\n",
    "    .withColumn(\"TicketMedio\", regexp_replace(col(\"TicketMedio\"), \",\", \"x\"))\\\n",
    "    .withColumn(\"TicketMedio\", regexp_replace(col(\"TicketMedio\"), \"\\\\.\", \",\"))\\\n",
    "    .withColumn(\"TicketMedio\", regexp_replace(col(\"TicketMedio\"), \"x\", \".\"))\\\n",
    "    .select(\"NomeCategoria\", \"TotalVendas\", \"TicketMedio\").show()\n",
    "\n",
    "jan18_vendas_quantidade.unpersist()\n",
    "ticket_jan18.unpersist()\n",
    "del jan18_vendas_quantidade, ticket_jan18\n",
    "gc.collect()\n"
   ]
  },
  {
   "cell_type": "markdown",
   "metadata": {
    "application/vnd.databricks.v1+cell": {
     "cellMetadata": {},
     "inputWidgets": {},
     "nuid": "553bf136-9811-41a5-9e49-d4a0d3792d00",
     "showTitle": false,
     "tableResultSettingsMap": {},
     "title": ""
    }
   },
   "source": [
    "### Fim Análise - Eliminando cache e memória "
   ]
  },
  {
   "cell_type": "code",
   "execution_count": 0,
   "metadata": {
    "application/vnd.databricks.v1+cell": {
     "cellMetadata": {
      "byteLimit": 2048000,
      "rowLimit": 10000
     },
     "inputWidgets": {},
     "nuid": "a17a162c-19f5-414a-b333-babc45101560",
     "showTitle": false,
     "tableResultSettingsMap": {},
     "title": ""
    }
   },
   "outputs": [
    {
     "output_type": "stream",
     "name": "stdout",
     "output_type": "stream",
     "text": [
      "Out[128]: 39479"
     ]
    }
   ],
   "source": [
    "dim_categoria.unpersist()\n",
    "dim_produto.unpersist()\n",
    "dim_vendedor.unpersist()\n",
    "dim_cidade.unpersist()\n",
    "dim_pais.unpersist()\n",
    "dim_cliente.unpersist()\n",
    "\n",
    "vendas_2018.unpersist()\n",
    "fev18_vendas.unpersist()\n",
    "mar18_vendas.unpersist()\n",
    "\n",
    "del dim_categoria, dim_produto, dim_vendedor, dim_cidade, dim_pais, dim_cliente\n",
    "del vendas_2018, fev18_vendas, mar18_vendas\n",
    "\n",
    "gc.collect()"
   ]
  }
 ],
 "metadata": {
  "application/vnd.databricks.v1+notebook": {
   "computePreferences": null,
   "dashboards": [],
   "environmentMetadata": {
    "base_environment": "",
    "client": "1"
   },
   "language": "python",
   "notebookMetadata": {
    "pythonIndentUnit": 4
   },
   "notebookName": "005 - Manipulação de dados com Pyspark",
   "widgets": {}
  }
 },
 "nbformat": 4,
 "nbformat_minor": 0
}
