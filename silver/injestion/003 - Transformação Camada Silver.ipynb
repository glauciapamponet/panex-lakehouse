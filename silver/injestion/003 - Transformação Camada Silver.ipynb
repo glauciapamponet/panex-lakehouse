{
 "cells": [
  {
   "cell_type": "markdown",
   "metadata": {
    "application/vnd.databricks.v1+cell": {
     "cellMetadata": {
      "byteLimit": 2048000,
      "rowLimit": 10000
     },
     "inputWidgets": {},
     "nuid": "d8ecbcdb-1a8a-461b-8a03-0a1c215ff3b5",
     "showTitle": false,
     "tableResultSettingsMap": {},
     "title": ""
    }
   },
   "source": [
    "## Desafio DWE 2025 - Transformação Camada Silver\n",
    "**Aqui serão feitas as transformações de modelagem dimensional e de dados, como:**\n",
    "- Transformar tabelas e transferir dados para que as relações fiquem de acordo com o esquema conceitual\n",
    "- Transformações de colunas com dados que atendam a estrutura de negócio e do modelo\n",
    "- Salvamento de arquivos atendendo o tipo de carga (completa ou incremental)"
   ]
  },
  {
   "cell_type": "code",
   "execution_count": 0,
   "metadata": {
    "application/vnd.databricks.v1+cell": {
     "cellMetadata": {
      "byteLimit": 2048000,
      "rowLimit": 10000
     },
     "inputWidgets": {},
     "nuid": "4af75482-5289-4bcb-81fb-5e85c1ca8e38",
     "showTitle": false,
     "tableResultSettingsMap": {},
     "title": ""
    }
   },
   "outputs": [],
   "source": [
    "import gc\n",
    "from pyspark.sql import SparkSession\n",
    "from pyspark.sql.functions import *\n",
    "from pyspark.sql.types import *\n",
    "\n",
    "spark = SparkSession.builder \\\n",
    "    .appName(\"Carga e Transformação Silver\") \\\n",
    "    .config(\"spark.sql.shuffle.partitions\", \"200\")  \\\n",
    "    .config(\"spark.sql.files.maxPartitionBytes\", \"128MB\") \\\n",
    "    .config(\"spark.sql.parquet.compression.codec\", \"snappy\") \\\n",
    "    .config(\"spark.sql.adaptive.enabled\", \"true\") \\\n",
    "    .getOrCreate()\n",
    "\n",
    "\n",
    "# Diretórios de trabalho \n",
    "br_dim_path = '/mnt/desafio-dwe-25/lhdw/bronze/dim'\n",
    "br_fato_path = '/mnt/desafio-dwe-25/lhdw/bronze/fato'\n",
    "\n",
    "sv_dim_path = '/mnt/desafio-dwe-25/lhdw/silver/dim'\n",
    "sv_fato_path = '/mnt/desafio-dwe-25/lhdw/silver/fato'"
   ]
  },
  {
   "cell_type": "markdown",
   "metadata": {
    "application/vnd.databricks.v1+cell": {
     "cellMetadata": {
      "byteLimit": 2048000,
      "rowLimit": 10000
     },
     "inputWidgets": {},
     "nuid": "232b3539-292e-4bd1-b74e-018664d16c7a",
     "showTitle": false,
     "tableResultSettingsMap": {},
     "title": ""
    }
   },
   "source": [
    "### Dimensão - Categoria"
   ]
  },
  {
   "cell_type": "code",
   "execution_count": 0,
   "metadata": {
    "application/vnd.databricks.v1+cell": {
     "cellMetadata": {
      "byteLimit": 2048000,
      "rowLimit": 10000
     },
     "inputWidgets": {},
     "nuid": "4db58ff2-bf2b-42e7-a108-69d0276129c6",
     "showTitle": false,
     "tableResultSettingsMap": {},
     "title": ""
    }
   },
   "outputs": [
    {
     "output_type": "stream",
     "name": "stdout",
     "output_type": "stream",
     "text": [
      "+-----------+-------------+\n|CategoriaID|NomeCategoria|\n+-----------+-------------+\n|          1|  Confections|\n|          2|   Shell fish|\n|          3|      Cereals|\n|          4|        Dairy|\n|          5|    Beverages|\n+-----------+-------------+\nonly showing top 5 rows\n\nroot\n |-- CategoriaID: integer (nullable = true)\n |-- NomeCategoria: string (nullable = true)\n\n"
     ]
    }
   ],
   "source": [
    "br_file = f'{br_dim_path}/CATEGORIA'\n",
    "\n",
    "# Carregamento de Categoria na Camada Bronze\n",
    "df_categoria = spark.read.format(\"delta\").load(br_file)\n",
    "\n",
    "# Checagem de dados e tipagem das colunas\n",
    "df_categoria.show(5)\n",
    "df_categoria.printSchema()"
   ]
  },
  {
   "cell_type": "code",
   "execution_count": 0,
   "metadata": {
    "application/vnd.databricks.v1+cell": {
     "cellMetadata": {
      "byteLimit": 2048000,
      "rowLimit": 10000
     },
     "inputWidgets": {},
     "nuid": "5ea7a3c4-36b6-475a-8d7b-2bca819eb84f",
     "showTitle": false,
     "tableResultSettingsMap": {},
     "title": ""
    }
   },
   "outputs": [
    {
     "output_type": "stream",
     "name": "stdout",
     "output_type": "stream",
     "text": [
      "+-----------+-------------+--------------------+\n|CategoriaID|NomeCategoria|    DATA_ATUALIZACAO|\n+-----------+-------------+--------------------+\n|          1|  Confections|2025-02-21 18:30:...|\n|          2|   Shell fish|2025-02-21 18:30:...|\n|          3|      Cereals|2025-02-21 18:30:...|\n|          4|        Dairy|2025-02-21 18:30:...|\n|          5|    Beverages|2025-02-21 18:30:...|\n+-----------+-------------+--------------------+\nonly showing top 5 rows\n\nroot\n |-- CategoriaID: integer (nullable = true)\n |-- NomeCategoria: string (nullable = true)\n |-- DATA_ATUALIZACAO: timestamp (nullable = false)\n\n\n Tabela Salva em /mnt/desafio-dwe-25/lhdw/silver/dim/CATEGORIA:\n+-----------+-------------+--------------------+\n|CategoriaID|NomeCategoria|    DATA_ATUALIZACAO|\n+-----------+-------------+--------------------+\n|          1|  Confections|2025-02-21 18:31:...|\n|          2|   Shell fish|2025-02-21 18:31:...|\n|          3|      Cereals|2025-02-21 18:31:...|\n|          4|        Dairy|2025-02-21 18:31:...|\n|          5|    Beverages|2025-02-21 18:31:...|\n+-----------+-------------+--------------------+\nonly showing top 5 rows\n\n"
     ]
    }
   ],
   "source": [
    "silver_path = f'{sv_dim_path}/CATEGORIA'\n",
    "\n",
    "# Inserção da coluna de atualização do dado\n",
    "df_categoria_silver = df_categoria \\\n",
    "    .withColumn(\"DATA_ATUALIZACAO\", current_timestamp())\n",
    "\n",
    "df_categoria_silver.show(5)\n",
    "df_categoria_silver.printSchema()\n",
    "\n",
    "# Salvando a tabela na camada Silver\n",
    "df_categoria_silver.write \\\n",
    "    .format(\"delta\") \\\n",
    "    .mode(\"overwrite\") \\\n",
    "    .option(\"overwriteSchema\", \"true\") \\\n",
    "    .save(silver_path)\n",
    "\n",
    "# Conferindo o diretório Silver da tabela\n",
    "print(f\"\\n Tabela Salva em {silver_path}:\")\n",
    "spark.read.format(\"delta\").option(\"header\", \"true\").load(silver_path).show(5)\n"
   ]
  },
  {
   "cell_type": "code",
   "execution_count": 0,
   "metadata": {
    "application/vnd.databricks.v1+cell": {
     "cellMetadata": {
      "byteLimit": 2048000,
      "rowLimit": 10000
     },
     "inputWidgets": {},
     "nuid": "8eb590ce-43d1-4972-9729-40358bf2ca01",
     "showTitle": false,
     "tableResultSettingsMap": {},
     "title": ""
    }
   },
   "outputs": [
    {
     "output_type": "stream",
     "name": "stdout",
     "output_type": "stream",
     "text": [
      "Out[5]: DataFrame[CategoriaID: int, NomeCategoria: string, DATA_ATUALIZACAO: timestamp]"
     ]
    }
   ],
   "source": [
    "# Limpeza de cache\n",
    "df_categoria.unpersist()\n",
    "df_categoria_silver.unpersist()"
   ]
  },
  {
   "cell_type": "markdown",
   "metadata": {
    "application/vnd.databricks.v1+cell": {
     "cellMetadata": {
      "byteLimit": 2048000,
      "rowLimit": 10000
     },
     "inputWidgets": {},
     "nuid": "09ae59d9-3732-40f7-8a9e-27b5013c60d2",
     "showTitle": false,
     "tableResultSettingsMap": {},
     "title": ""
    }
   },
   "source": [
    "### Dimensão - Produto"
   ]
  },
  {
   "cell_type": "code",
   "execution_count": 0,
   "metadata": {
    "application/vnd.databricks.v1+cell": {
     "cellMetadata": {
      "byteLimit": 2048000,
      "rowLimit": 10000
     },
     "inputWidgets": {},
     "nuid": "95539496-6e4e-4516-98ee-919b4f5afea7",
     "showTitle": false,
     "tableResultSettingsMap": {},
     "title": ""
    }
   },
   "outputs": [
    {
     "output_type": "stream",
     "name": "stdout",
     "output_type": "stream",
     "text": [
      "+---------+--------------------+-------+-----------+------+--------------------+-----------+---------+------------+\n|ProdutoID|         ProdutoNome|  Preco|CategoriaID|Classe|        DataCadastro|Resistencia|EAlergico|ValidadeDias|\n+---------+--------------------+-------+-----------+------+--------------------+-----------+---------+------------+\n|        1| Flour - Whole Wheat|74.2988|          3|Medium|2018-02-16 08:21:...|    Durable|  Unknown|         0.0|\n|        2|Cookie Chocolate ...|91.2329|          3|Medium|2017-02-12 11:39:...|    Unknown|  Unknown|         0.0|\n|        3|  Onions - Cippolini| 9.1379|          9|Medium|2018-03-15 08:11:...|       Weak|    False|       111.0|\n|        4|Sauce - Gravy, Au...|54.3055|          9|Medium|2017-07-16 00:46:...|    Durable|  Unknown|         0.0|\n|        5|Artichokes - Jeru...|65.4771|          2|   Low|2017-08-16 14:13:...|    Durable|     True|        27.0|\n+---------+--------------------+-------+-----------+------+--------------------+-----------+---------+------------+\nonly showing top 5 rows\n\nroot\n |-- ProdutoID: integer (nullable = true)\n |-- ProdutoNome: string (nullable = true)\n |-- Preco: double (nullable = true)\n |-- CategoriaID: integer (nullable = true)\n |-- Classe: string (nullable = true)\n |-- DataCadastro: string (nullable = true)\n |-- Resistencia: string (nullable = true)\n |-- EAlergico: string (nullable = true)\n |-- ValidadeDias: double (nullable = true)\n\n"
     ]
    }
   ],
   "source": [
    "br_file = f'{br_dim_path}/PRODUTO'\n",
    "\n",
    "# Carregamento de Produto da Camada Bronze\n",
    "df_produto = spark.read.format(\"delta\").load(br_file)\n",
    "\n",
    "# Checagem de dados e tipagem das colunas\n",
    "df_produto.show(5)\n",
    "df_produto.printSchema()"
   ]
  },
  {
   "cell_type": "code",
   "execution_count": 0,
   "metadata": {
    "application/vnd.databricks.v1+cell": {
     "cellMetadata": {
      "byteLimit": 2048000,
      "rowLimit": 10000
     },
     "inputWidgets": {},
     "nuid": "63f672ec-ce5c-4782-bb3a-a54980c3621d",
     "showTitle": false,
     "tableResultSettingsMap": {},
     "title": ""
    }
   },
   "outputs": [
    {
     "output_type": "stream",
     "name": "stdout",
     "output_type": "stream",
     "text": [
      "+---------+--------------------+-------+-----------+------+--------------------+-----------+---------+------------+--------------------+\n|ProdutoID|         ProdutoNome|  Preco|CategoriaID|Classe|        DataCadastro|Resistencia|EAlergico|ValidadeDias|    DATA_ATUALIZACAO|\n+---------+--------------------+-------+-----------+------+--------------------+-----------+---------+------------+--------------------+\n|        1| Flour - Whole Wheat|74.2988|          3|Medium|2018-02-16 08:21:...|    Durable|  Unknown|         0.0|2025-02-21 18:31:...|\n|        2|Cookie Chocolate ...|91.2329|          3|Medium|2017-02-12 11:39:...|    Unknown|  Unknown|         0.0|2025-02-21 18:31:...|\n|        3|  Onions - Cippolini| 9.1379|          9|Medium|2018-03-15 08:11:...|       Weak|    False|       111.0|2025-02-21 18:31:...|\n|        4|Sauce - Gravy, Au...|54.3055|          9|Medium|2017-07-16 00:46:...|    Durable|  Unknown|         0.0|2025-02-21 18:31:...|\n|        5|Artichokes - Jeru...|65.4771|          2|   Low|2017-08-16 14:13:...|    Durable|     True|        27.0|2025-02-21 18:31:...|\n+---------+--------------------+-------+-----------+------+--------------------+-----------+---------+------------+--------------------+\nonly showing top 5 rows\n\nroot\n |-- ProdutoID: integer (nullable = true)\n |-- ProdutoNome: string (nullable = true)\n |-- Preco: double (nullable = true)\n |-- CategoriaID: integer (nullable = true)\n |-- Classe: string (nullable = true)\n |-- DataCadastro: string (nullable = true)\n |-- Resistencia: string (nullable = true)\n |-- EAlergico: string (nullable = true)\n |-- ValidadeDias: double (nullable = true)\n |-- DATA_ATUALIZACAO: timestamp (nullable = false)\n\n\n Tabela Salva em /mnt/desafio-dwe-25/lhdw/silver/dim/PRODUTO:\n+---------+--------------------+-------+-----------+------+--------------------+-----------+---------+------------+--------------------+\n|ProdutoID|         ProdutoNome|  Preco|CategoriaID|Classe|        DataCadastro|Resistencia|EAlergico|ValidadeDias|    DATA_ATUALIZACAO|\n+---------+--------------------+-------+-----------+------+--------------------+-----------+---------+------------+--------------------+\n|        1| Flour - Whole Wheat|74.2988|          3|Medium|2018-02-16 08:21:...|    Durable|  Unknown|         0.0|2025-02-21 18:31:...|\n|        2|Cookie Chocolate ...|91.2329|          3|Medium|2017-02-12 11:39:...|    Unknown|  Unknown|         0.0|2025-02-21 18:31:...|\n|        3|  Onions - Cippolini| 9.1379|          9|Medium|2018-03-15 08:11:...|       Weak|    False|       111.0|2025-02-21 18:31:...|\n|        4|Sauce - Gravy, Au...|54.3055|          9|Medium|2017-07-16 00:46:...|    Durable|  Unknown|         0.0|2025-02-21 18:31:...|\n|        5|Artichokes - Jeru...|65.4771|          2|   Low|2017-08-16 14:13:...|    Durable|     True|        27.0|2025-02-21 18:31:...|\n+---------+--------------------+-------+-----------+------+--------------------+-----------+---------+------------+--------------------+\nonly showing top 5 rows\n\n"
     ]
    }
   ],
   "source": [
    "silver_path = f'{sv_dim_path}/PRODUTO'\n",
    "\n",
    "# Inserção da coluna de atualização do dado\n",
    "df_produto_silver = df_produto \\\n",
    "    .withColumn(\"DATA_ATUALIZACAO\", current_timestamp())\n",
    "\n",
    "df_produto_silver.show(5)\n",
    "df_produto_silver.printSchema()\n",
    "\n",
    "# Salvando a tabela na camada Silver\n",
    "df_produto_silver.write \\\n",
    "    .format(\"delta\") \\\n",
    "    .mode(\"overwrite\") \\\n",
    "    .option(\"overwriteSchema\", \"true\") \\\n",
    "    .save(silver_path)\n",
    "\n",
    "# Conferindo o diretório Silver da tabela\n",
    "print(f\"\\n Tabela Salva em {silver_path}:\")\n",
    "spark.read.format(\"delta\").option(\"header\", \"true\").load(silver_path).show(5)"
   ]
  },
  {
   "cell_type": "code",
   "execution_count": 0,
   "metadata": {
    "application/vnd.databricks.v1+cell": {
     "cellMetadata": {
      "byteLimit": 2048000,
      "rowLimit": 10000
     },
     "inputWidgets": {},
     "nuid": "b5de5cf4-8010-4b76-b19a-75ea0c8583d3",
     "showTitle": false,
     "tableResultSettingsMap": {},
     "title": ""
    }
   },
   "outputs": [
    {
     "output_type": "stream",
     "name": "stdout",
     "output_type": "stream",
     "text": [
      "Out[8]: DataFrame[ProdutoID: int, ProdutoNome: string, Preco: double, CategoriaID: int, Classe: string, DataCadastro: string, Resistencia: string, EAlergico: string, ValidadeDias: double, DATA_ATUALIZACAO: timestamp]"
     ]
    }
   ],
   "source": [
    "# Liberação de cache\n",
    "df_produto.unpersist()\n",
    "df_produto_silver.unpersist()"
   ]
  },
  {
   "cell_type": "markdown",
   "metadata": {
    "application/vnd.databricks.v1+cell": {
     "cellMetadata": {
      "byteLimit": 2048000,
      "rowLimit": 10000
     },
     "inputWidgets": {},
     "nuid": "b0ad5de0-4280-4af1-9dee-172c71d935e3",
     "showTitle": false,
     "tableResultSettingsMap": {},
     "title": ""
    }
   },
   "source": [
    "### Dimensão - Vendedor"
   ]
  },
  {
   "cell_type": "code",
   "execution_count": 0,
   "metadata": {
    "application/vnd.databricks.v1+cell": {
     "cellMetadata": {
      "byteLimit": 2048000,
      "rowLimit": 10000
     },
     "inputWidgets": {},
     "nuid": "b8f7419c-22d1-4140-aeee-fbf25c1b6b77",
     "showTitle": false,
     "tableResultSettingsMap": {},
     "title": ""
    }
   },
   "outputs": [
    {
     "output_type": "stream",
     "name": "stdout",
     "output_type": "stream",
     "text": [
      "+----------+------------+----------+----------+--------------+------+--------+------------+\n|VendedorID|PrimeiroNome|NomeDoMeio|UltimoNome|DataNascimento|Genero|CidadeID|DataAdmissao|\n+----------+------------+----------+----------+--------------+------+--------+------------+\n|         1|      Nicole|         T|    Fuller|    1981-03-07|     F|      80|  2011-06-20|\n|         2|   Christine|         W|    Palmer|    1968-01-25|     F|       4|  2011-04-27|\n|         3|       Pablo|         Y|     Cline|    1963-02-09|     M|      70|  2012-03-30|\n|         4|     Darnell|         O|   Nielsen|    1989-02-06|     M|      39|  2014-03-06|\n|         5|     Desiree|         L|    Stuart|    1963-05-03|     F|      23|  2014-11-16|\n+----------+------------+----------+----------+--------------+------+--------+------------+\nonly showing top 5 rows\n\nroot\n |-- VendedorID: integer (nullable = true)\n |-- PrimeiroNome: string (nullable = true)\n |-- NomeDoMeio: string (nullable = true)\n |-- UltimoNome: string (nullable = true)\n |-- DataNascimento: date (nullable = true)\n |-- Genero: string (nullable = true)\n |-- CidadeID: integer (nullable = true)\n |-- DataAdmissao: date (nullable = true)\n\n"
     ]
    }
   ],
   "source": [
    "br_file = f'{br_dim_path}/VENDEDOR'\n",
    "\n",
    "# Carregamento de Vendedor da Camada Bronze\n",
    "df_vendedor = spark.read.format(\"delta\").load(br_file)\n",
    "\n",
    "# Checagem de dados e tipagem das colunas\n",
    "df_vendedor.show(5)\n",
    "df_vendedor.printSchema()"
   ]
  },
  {
   "cell_type": "code",
   "execution_count": 0,
   "metadata": {
    "application/vnd.databricks.v1+cell": {
     "cellMetadata": {
      "byteLimit": 2048000,
      "rowLimit": 10000
     },
     "inputWidgets": {},
     "nuid": "25e7170f-9194-4ab0-b0e6-ae9b7ad4ef72",
     "showTitle": false,
     "tableResultSettingsMap": {},
     "title": ""
    }
   },
   "outputs": [
    {
     "output_type": "stream",
     "name": "stdout",
     "output_type": "stream",
     "text": [
      "+----------+------------------+--------------+------+--------+------------+--------------------+\n|VendedorID|      NomeVendedor|DataNascimento|Genero|CidadeID|DataAdmissao|    DATA_ATUALIZACAO|\n+----------+------------------+--------------+------+--------+------------+--------------------+\n|         1|   Nicole T Fuller|    1981-03-07|     F|      80|  2011-06-20|2025-02-21 18:43:...|\n|         2|Christine W Palmer|    1968-01-25|     F|       4|  2011-04-27|2025-02-21 18:43:...|\n|         3|     Pablo Y Cline|    1963-02-09|     M|      70|  2012-03-30|2025-02-21 18:43:...|\n|         4| Darnell O Nielsen|    1989-02-06|     M|      39|  2014-03-06|2025-02-21 18:43:...|\n|         5|  Desiree L Stuart|    1963-05-03|     F|      23|  2014-11-16|2025-02-21 18:43:...|\n+----------+------------------+--------------+------+--------+------------+--------------------+\nonly showing top 5 rows\n\nroot\n |-- VendedorID: integer (nullable = true)\n |-- NomeVendedor: string (nullable = false)\n |-- DataNascimento: date (nullable = true)\n |-- Genero: string (nullable = true)\n |-- CidadeID: integer (nullable = true)\n |-- DataAdmissao: date (nullable = true)\n |-- DATA_ATUALIZACAO: timestamp (nullable = false)\n\n\n Tabela Salva em /mnt/desafio-dwe-25/lhdw/silver/dim/VENDEDOR:\n+----------+------------------+--------------+------+--------+------------+--------------------+\n|VendedorID|      NomeVendedor|DataNascimento|Genero|CidadeID|DataAdmissao|    DATA_ATUALIZACAO|\n+----------+------------------+--------------+------+--------+------------+--------------------+\n|         1|   Nicole T Fuller|    1981-03-07|     F|      80|  2011-06-20|2025-02-21 18:43:...|\n|         2|Christine W Palmer|    1968-01-25|     F|       4|  2011-04-27|2025-02-21 18:43:...|\n|         3|     Pablo Y Cline|    1963-02-09|     M|      70|  2012-03-30|2025-02-21 18:43:...|\n|         4| Darnell O Nielsen|    1989-02-06|     M|      39|  2014-03-06|2025-02-21 18:43:...|\n|         5|  Desiree L Stuart|    1963-05-03|     F|      23|  2014-11-16|2025-02-21 18:43:...|\n+----------+------------------+--------------+------+--------+------------+--------------------+\nonly showing top 5 rows\n\n"
     ]
    }
   ],
   "source": [
    "silver_path = f'{sv_dim_path}/VENDEDOR'\n",
    "\n",
    "# Inserção da coluna de atualização do dado e concatenação do nome do Vendedor\n",
    "df_vendedor_silver = df_vendedor \\\n",
    "    .withColumn(\"DATA_ATUALIZACAO\", current_timestamp()) \\\n",
    "    .withColumn(\"PrimeiroNome\", concat_ws(\" \", col(\"PrimeiroNome\"), col(\"NomeDoMeio\"), col(\"UltimoNome\"))) \\\n",
    "    .withColumnRenamed(\"PrimeiroNome\", \"NomeVendedor\") \\\n",
    "    .drop(\"NomeDoMeio\", \"UltimoNome\")\n",
    "\n",
    "df_vendedor_silver.show(5)\n",
    "df_vendedor_silver.printSchema()\n",
    "\n",
    "# Salvando a tabela na camada Silver\n",
    "df_vendedor_silver.write \\\n",
    "    .format(\"delta\") \\\n",
    "    .mode(\"overwrite\") \\\n",
    "    .option(\"overwriteSchema\", \"true\") \\\n",
    "    .save(silver_path)\n",
    "\n",
    "# Conferindo o diretório Silver da tabela\n",
    "print(f\"\\n Tabela Salva em {silver_path}:\")\n",
    "spark.read.format(\"delta\").option(\"header\", \"true\").load(silver_path).show(5)"
   ]
  },
  {
   "cell_type": "code",
   "execution_count": 0,
   "metadata": {
    "application/vnd.databricks.v1+cell": {
     "cellMetadata": {
      "byteLimit": 2048000,
      "rowLimit": 10000
     },
     "inputWidgets": {},
     "nuid": "10d47d15-5903-45ed-a6b3-e48ccfa99efe",
     "showTitle": false,
     "tableResultSettingsMap": {},
     "title": ""
    }
   },
   "outputs": [
    {
     "output_type": "stream",
     "name": "stdout",
     "output_type": "stream",
     "text": [
      "Out[18]: DataFrame[VendedorID: int, NomeVendedor: string, DataNascimento: date, Genero: string, CidadeID: int, DataAdmissao: date, DATA_ATUALIZACAO: timestamp]"
     ]
    }
   ],
   "source": [
    "# Liberação de cache\n",
    "df_vendedor.unpersist()\n",
    "df_vendedor_silver.unpersist()"
   ]
  },
  {
   "cell_type": "markdown",
   "metadata": {
    "application/vnd.databricks.v1+cell": {
     "cellMetadata": {
      "byteLimit": 2048000,
      "rowLimit": 10000
     },
     "inputWidgets": {},
     "nuid": "1e77ad07-84c3-432c-abef-58788807942e",
     "showTitle": false,
     "tableResultSettingsMap": {},
     "title": ""
    }
   },
   "source": [
    "### Dimensão - Pais"
   ]
  },
  {
   "cell_type": "code",
   "execution_count": 0,
   "metadata": {
    "application/vnd.databricks.v1+cell": {
     "cellMetadata": {
      "byteLimit": 2048000,
      "rowLimit": 10000
     },
     "inputWidgets": {},
     "nuid": "614500e8-bd37-42fb-8502-e4c93867c591",
     "showTitle": false,
     "tableResultSettingsMap": {},
     "title": ""
    }
   },
   "outputs": [
    {
     "output_type": "stream",
     "name": "stdout",
     "output_type": "stream",
     "text": [
      "+------+--------+---------+\n|PaisID|PaisNome|SiglaPais|\n+------+--------+---------+\n|     1| Armenia|       AN|\n|     2|  Canada|       FO|\n|     3|  Belize|       MK|\n|     4|  Uganda|       LV|\n|     5|Thailand|       VI|\n+------+--------+---------+\nonly showing top 5 rows\n\nroot\n |-- PaisID: integer (nullable = true)\n |-- PaisNome: string (nullable = true)\n |-- SiglaPais: string (nullable = true)\n\n"
     ]
    }
   ],
   "source": [
    "br_file = f'{br_dim_path}/PAIS'\n",
    "\n",
    "# Carregamento de País da Camada Bronze\n",
    "df_pais = spark.read.format(\"delta\").load(br_file)\n",
    "\n",
    "# Checagem de dados e tipagem das colunas\n",
    "df_pais.show(5)\n",
    "df_pais.printSchema()"
   ]
  },
  {
   "cell_type": "code",
   "execution_count": 0,
   "metadata": {
    "application/vnd.databricks.v1+cell": {
     "cellMetadata": {
      "byteLimit": 2048000,
      "rowLimit": 10000
     },
     "inputWidgets": {},
     "nuid": "547f44ce-f5f1-4197-a9b0-77f2e112363f",
     "showTitle": false,
     "tableResultSettingsMap": {},
     "title": ""
    }
   },
   "outputs": [
    {
     "output_type": "stream",
     "name": "stdout",
     "output_type": "stream",
     "text": [
      "+------+--------+---------+--------------------+\n|PaisID|PaisNome|SiglaPais|    DATA_ATUALIZACAO|\n+------+--------+---------+--------------------+\n|     1| Armenia|       AN|2025-02-21 18:43:...|\n|     2|  Canada|       FO|2025-02-21 18:43:...|\n|     3|  Belize|       MK|2025-02-21 18:43:...|\n|     4|  Uganda|       LV|2025-02-21 18:43:...|\n|     5|Thailand|       VI|2025-02-21 18:43:...|\n+------+--------+---------+--------------------+\nonly showing top 5 rows\n\nroot\n |-- PaisID: integer (nullable = true)\n |-- PaisNome: string (nullable = true)\n |-- SiglaPais: string (nullable = true)\n |-- DATA_ATUALIZACAO: timestamp (nullable = false)\n\n\n Tabela Salva em /mnt/desafio-dwe-25/lhdw/silver/dim/PAIS:\n+------+--------+---------+--------------------+\n|PaisID|PaisNome|SiglaPais|    DATA_ATUALIZACAO|\n+------+--------+---------+--------------------+\n|     1| Armenia|       AN|2025-02-21 18:43:...|\n|     2|  Canada|       FO|2025-02-21 18:43:...|\n|     3|  Belize|       MK|2025-02-21 18:43:...|\n|     4|  Uganda|       LV|2025-02-21 18:43:...|\n|     5|Thailand|       VI|2025-02-21 18:43:...|\n+------+--------+---------+--------------------+\nonly showing top 5 rows\n\n"
     ]
    }
   ],
   "source": [
    "silver_path = f'{sv_dim_path}/PAIS'\n",
    "\n",
    "# Inserção da coluna de atualização do dado\n",
    "df_pais_silver = df_pais \\\n",
    "    .withColumn(\"DATA_ATUALIZACAO\", current_timestamp())\n",
    "\n",
    "df_pais_silver.show(5)\n",
    "df_pais_silver.printSchema()\n",
    "\n",
    "# Salvando a tabela na camada Silver\n",
    "df_pais_silver.write \\\n",
    "    .format(\"delta\") \\\n",
    "    .mode(\"overwrite\") \\\n",
    "    .option(\"overwriteSchema\", \"true\") \\\n",
    "    .save(silver_path)\n",
    "\n",
    "# Conferindo o diretório Silver da tabela\n",
    "print(f\"\\n Tabela Salva em {silver_path}:\")\n",
    "spark.read.format(\"delta\").option(\"header\", \"true\").load(silver_path).show(5)"
   ]
  },
  {
   "cell_type": "code",
   "execution_count": 0,
   "metadata": {
    "application/vnd.databricks.v1+cell": {
     "cellMetadata": {
      "byteLimit": 2048000,
      "rowLimit": 10000
     },
     "inputWidgets": {},
     "nuid": "7e4e9985-6a35-4c6d-bb03-10c35396b972",
     "showTitle": false,
     "tableResultSettingsMap": {},
     "title": ""
    }
   },
   "outputs": [
    {
     "output_type": "stream",
     "name": "stdout",
     "output_type": "stream",
     "text": [
      "Out[26]: DataFrame[PaisID: int, PaisNome: string, SiglaPais: string, DATA_ATUALIZACAO: timestamp]"
     ]
    }
   ],
   "source": [
    "# Liberação de cache\n",
    "df_pais.unpersist()\n",
    "df_pais_silver.unpersist()"
   ]
  },
  {
   "cell_type": "markdown",
   "metadata": {
    "application/vnd.databricks.v1+cell": {
     "cellMetadata": {
      "byteLimit": 2048000,
      "rowLimit": 10000
     },
     "inputWidgets": {},
     "nuid": "2c582c32-bf7d-492c-9aea-6d4f88bd215f",
     "showTitle": false,
     "tableResultSettingsMap": {},
     "title": ""
    }
   },
   "source": [
    "### Dimensão - Cidade"
   ]
  },
  {
   "cell_type": "code",
   "execution_count": 0,
   "metadata": {
    "application/vnd.databricks.v1+cell": {
     "cellMetadata": {
      "byteLimit": 2048000,
      "rowLimit": 10000
     },
     "inputWidgets": {},
     "nuid": "28cad1ec-a045-45c8-940d-f555841d7f46",
     "showTitle": false,
     "tableResultSettingsMap": {},
     "title": ""
    }
   },
   "outputs": [
    {
     "output_type": "stream",
     "name": "stdout",
     "output_type": "stream",
     "text": [
      "+--------+--------------+-----+------+\n|CidadeID|    NomeCidade|  Cep|PaisID|\n+--------+--------------+-----+------+\n|       1|        Dayton|80563|    32|\n|       2|       Buffalo|17420|    32|\n|       3|       Chicago|44751|    32|\n|       4|       Fremont|20641|    32|\n|       5|Virginia Beach|62389|    32|\n+--------+--------------+-----+------+\nonly showing top 5 rows\n\nroot\n |-- CidadeID: integer (nullable = true)\n |-- NomeCidade: string (nullable = true)\n |-- Cep: string (nullable = true)\n |-- PaisID: string (nullable = true)\n\n"
     ]
    }
   ],
   "source": [
    "br_file = f'{br_dim_path}/CIDADE'\n",
    "\n",
    "# Carregamento de Cidade na Camada Bronze\n",
    "df_cidade = spark.read.format(\"delta\").load(br_file)\n",
    "\n",
    "# Checagem de dados e tipagem das colunas\n",
    "df_cidade.show(5)\n",
    "df_cidade.printSchema()"
   ]
  },
  {
   "cell_type": "code",
   "execution_count": 0,
   "metadata": {
    "application/vnd.databricks.v1+cell": {
     "cellMetadata": {
      "byteLimit": 2048000,
      "rowLimit": 10000
     },
     "inputWidgets": {},
     "nuid": "36d3fa13-c51f-477c-94ec-f8c1286090f5",
     "showTitle": false,
     "tableResultSettingsMap": {},
     "title": ""
    }
   },
   "outputs": [
    {
     "output_type": "stream",
     "name": "stdout",
     "output_type": "stream",
     "text": [
      "+--------+--------------+-----+------+--------------------+\n|CidadeID|    NomeCidade|  Cep|PaisID|    DATA_ATUALIZACAO|\n+--------+--------------+-----+------+--------------------+\n|       1|        Dayton|80563|    32|2025-02-21 18:45:...|\n|       2|       Buffalo|17420|    32|2025-02-21 18:45:...|\n|       3|       Chicago|44751|    32|2025-02-21 18:45:...|\n|       4|       Fremont|20641|    32|2025-02-21 18:45:...|\n|       5|Virginia Beach|62389|    32|2025-02-21 18:45:...|\n+--------+--------------+-----+------+--------------------+\nonly showing top 5 rows\n\nroot\n |-- CidadeID: integer (nullable = true)\n |-- NomeCidade: string (nullable = true)\n |-- Cep: string (nullable = true)\n |-- PaisID: string (nullable = true)\n |-- DATA_ATUALIZACAO: timestamp (nullable = false)\n\n\n Tabela Salva em /mnt/desafio-dwe-25/lhdw/silver/dim/CIDADE:\n+--------+--------------+-----+------+--------------------+\n|CidadeID|    NomeCidade|  Cep|PaisID|    DATA_ATUALIZACAO|\n+--------+--------------+-----+------+--------------------+\n|       1|        Dayton|80563|    32|2025-02-21 18:45:...|\n|       2|       Buffalo|17420|    32|2025-02-21 18:45:...|\n|       3|       Chicago|44751|    32|2025-02-21 18:45:...|\n|       4|       Fremont|20641|    32|2025-02-21 18:45:...|\n|       5|Virginia Beach|62389|    32|2025-02-21 18:45:...|\n+--------+--------------+-----+------+--------------------+\nonly showing top 5 rows\n\n"
     ]
    }
   ],
   "source": [
    "silver_path = f'{sv_dim_path}/CIDADE'\n",
    "\n",
    "# Inserção da coluna de atualização do dado\n",
    "df_cidade_silver = df_cidade \\\n",
    "    .withColumn(\"DATA_ATUALIZACAO\", current_timestamp())\n",
    "\n",
    "df_cidade_silver.show(5)\n",
    "df_cidade_silver.printSchema()\n",
    "\n",
    "# Salvando a tabela na camada Silver\n",
    "df_cidade_silver.write \\\n",
    "    .format(\"delta\") \\\n",
    "    .mode(\"overwrite\") \\\n",
    "    .option(\"overwriteSchema\", \"true\") \\\n",
    "    .save(silver_path)\n",
    "\n",
    "# Conferindo o diretório Silver da tabela\n",
    "print(f\"\\n Tabela Salva em {silver_path}:\")\n",
    "spark.read.format(\"delta\").option(\"header\", \"true\").load(silver_path).show(5)"
   ]
  },
  {
   "cell_type": "code",
   "execution_count": 0,
   "metadata": {
    "application/vnd.databricks.v1+cell": {
     "cellMetadata": {
      "byteLimit": 2048000,
      "rowLimit": 10000
     },
     "inputWidgets": {},
     "nuid": "10d1fe2d-bcf1-429f-b6c6-9b79c8ce29aa",
     "showTitle": false,
     "tableResultSettingsMap": {},
     "title": ""
    }
   },
   "outputs": [
    {
     "output_type": "stream",
     "name": "stdout",
     "output_type": "stream",
     "text": [
      "Out[29]: DataFrame[CidadeID: int, NomeCidade: string, Cep: string, PaisID: string, DATA_ATUALIZACAO: timestamp]"
     ]
    }
   ],
   "source": [
    "# Liberação de cache\n",
    "df_cidade.unpersist()\n",
    "df_cidade_silver.unpersist()"
   ]
  },
  {
   "cell_type": "markdown",
   "metadata": {
    "application/vnd.databricks.v1+cell": {
     "cellMetadata": {
      "byteLimit": 2048000,
      "rowLimit": 10000
     },
     "inputWidgets": {},
     "nuid": "7e3df55b-5049-4f29-99f5-918b63285e2f",
     "showTitle": false,
     "tableResultSettingsMap": {},
     "title": ""
    }
   },
   "source": [
    "### Dimensão - Cliente"
   ]
  },
  {
   "cell_type": "code",
   "execution_count": 0,
   "metadata": {
    "application/vnd.databricks.v1+cell": {
     "cellMetadata": {
      "byteLimit": 2048000,
      "rowLimit": 10000
     },
     "inputWidgets": {},
     "nuid": "ba84333c-1245-4433-b57f-a62521bcc21b",
     "showTitle": false,
     "tableResultSettingsMap": {},
     "title": ""
    }
   },
   "outputs": [
    {
     "output_type": "stream",
     "name": "stdout",
     "output_type": "stream",
     "text": [
      "+---------+------------+----------+----------+--------+--------------------+\n|ClienteID|PrimeiroNome|NomeDoMeio|UltimoNome|CidadeID|            Endereco|\n+---------+------------+----------+----------+--------+--------------------+\n|        1|    Stefanie|         Y|      Frye|      79|       97 Oak Avenue|\n|        2|       Sandy|         T|     Kirby|      96|52 White First Fr...|\n|        3|         Lee|         T|     Zhang|      55|921 White Fabien ...|\n|        4|      Regina|         S|     Avery|      40|       75 Old Avenue|\n|        5|      Daniel|         S|    Mccann|       2|283 South Green H...|\n+---------+------------+----------+----------+--------+--------------------+\nonly showing top 5 rows\n\nroot\n |-- ClienteID: integer (nullable = true)\n |-- PrimeiroNome: string (nullable = true)\n |-- NomeDoMeio: string (nullable = true)\n |-- UltimoNome: string (nullable = true)\n |-- CidadeID: integer (nullable = true)\n |-- Endereco: string (nullable = true)\n\n"
     ]
    }
   ],
   "source": [
    "br_file = f'{br_dim_path}/CLIENTE'\n",
    "\n",
    "# Carregamento de Cliente na Camada Bronze\n",
    "df_cliente = spark.read.format(\"delta\").load(br_file)\n",
    "\n",
    "# Checagem de dados e tipagem das colunas\n",
    "df_cliente.show(5)\n",
    "df_cliente.printSchema()"
   ]
  },
  {
   "cell_type": "code",
   "execution_count": 0,
   "metadata": {
    "application/vnd.databricks.v1+cell": {
     "cellMetadata": {
      "byteLimit": 2048000,
      "rowLimit": 10000
     },
     "inputWidgets": {},
     "nuid": "5f9d587e-27d2-449a-918b-59508d100fe0",
     "showTitle": false,
     "tableResultSettingsMap": {},
     "title": ""
    }
   },
   "outputs": [
    {
     "output_type": "stream",
     "name": "stdout",
     "output_type": "stream",
     "text": [
      "+---------+---------------+--------+--------------------+--------------------+\n|ClienteID|    NomeCliente|CidadeID|            Endereco|    DATA_ATUALIZACAO|\n+---------+---------------+--------+--------------------+--------------------+\n|        1|Stefanie Y Frye|      79|       97 Oak Avenue|2025-02-21 18:46:...|\n|        2|  Sandy T Kirby|      96|52 White First Fr...|2025-02-21 18:46:...|\n|        3|    Lee T Zhang|      55|921 White Fabien ...|2025-02-21 18:46:...|\n|        4| Regina S Avery|      40|       75 Old Avenue|2025-02-21 18:46:...|\n|        5|Daniel S Mccann|       2|283 South Green H...|2025-02-21 18:46:...|\n+---------+---------------+--------+--------------------+--------------------+\nonly showing top 5 rows\n\nroot\n |-- ClienteID: integer (nullable = true)\n |-- NomeCliente: string (nullable = false)\n |-- CidadeID: integer (nullable = true)\n |-- Endereco: string (nullable = true)\n |-- DATA_ATUALIZACAO: timestamp (nullable = false)\n\n\n Tabela Salva em /mnt/desafio-dwe-25/lhdw/silver/dim/CLIENTE:\n+---------+---------------+--------+--------------------+--------------------+\n|ClienteID|    NomeCliente|CidadeID|            Endereco|    DATA_ATUALIZACAO|\n+---------+---------------+--------+--------------------+--------------------+\n|        1|Stefanie Y Frye|      79|       97 Oak Avenue|2025-02-21 18:46:...|\n|        2|  Sandy T Kirby|      96|52 White First Fr...|2025-02-21 18:46:...|\n|        3|    Lee T Zhang|      55|921 White Fabien ...|2025-02-21 18:46:...|\n|        4| Regina S Avery|      40|       75 Old Avenue|2025-02-21 18:46:...|\n|        5|Daniel S Mccann|       2|283 South Green H...|2025-02-21 18:46:...|\n+---------+---------------+--------+--------------------+--------------------+\nonly showing top 5 rows\n\n"
     ]
    }
   ],
   "source": [
    "silver_path = f'{sv_dim_path}/CLIENTE'\n",
    "\n",
    "# Inserção da coluna de atualização do dado e concatenação do nome do cliente \n",
    "df_cliente_silver = df_cliente \\\n",
    "    .withColumn(\"DATA_ATUALIZACAO\", current_timestamp()) \\\n",
    "    .withColumn(\"PrimeiroNome\", concat_ws(\" \", col(\"PrimeiroNome\"), col(\"NomeDoMeio\"), col(\"UltimoNome\"))) \\\n",
    "    .withColumnRenamed(\"PrimeiroNome\", \"NomeCliente\") \\\n",
    "    .drop(\"NomeDoMeio\", \"UltimoNome\")\n",
    "\n",
    "df_cliente_silver.show(5)\n",
    "df_cliente_silver.printSchema()\n",
    "\n",
    "# Salvando a tabela na camada Silver\n",
    "df_cliente_silver.write \\\n",
    "    .format(\"delta\") \\\n",
    "    .mode(\"overwrite\") \\\n",
    "    .option(\"overwriteSchema\", \"true\") \\\n",
    "    .save(silver_path)\n",
    "\n",
    "# Conferindo o diretório Silver da tabela\n",
    "print(f\"\\n Tabela Salva em {silver_path}:\")\n",
    "spark.read.format(\"delta\").option(\"header\", \"true\").load(silver_path).show(5)"
   ]
  },
  {
   "cell_type": "code",
   "execution_count": 0,
   "metadata": {
    "application/vnd.databricks.v1+cell": {
     "cellMetadata": {
      "byteLimit": 2048000,
      "rowLimit": 10000
     },
     "inputWidgets": {},
     "nuid": "9b9dda3c-04b8-4e4d-b25b-2fdffd0755a2",
     "showTitle": false,
     "tableResultSettingsMap": {},
     "title": ""
    }
   },
   "outputs": [
    {
     "output_type": "stream",
     "name": "stdout",
     "output_type": "stream",
     "text": [
      "Out[33]: DataFrame[ClienteID: int, NomeCliente: string, CidadeID: int, Endereco: string, DATA_ATUALIZACAO: timestamp]"
     ]
    }
   ],
   "source": [
    "# Liberação de cache\n",
    "df_cliente.unpersist()\n",
    "df_cliente_silver.unpersist()"
   ]
  },
  {
   "cell_type": "markdown",
   "metadata": {
    "application/vnd.databricks.v1+cell": {
     "cellMetadata": {
      "byteLimit": 2048000,
      "rowLimit": 10000
     },
     "inputWidgets": {},
     "nuid": "94a6d09b-6b23-4761-b388-b8db950a5d41",
     "showTitle": false,
     "tableResultSettingsMap": {},
     "title": ""
    }
   },
   "source": [
    "### Fato - Vendas"
   ]
  },
  {
   "cell_type": "code",
   "execution_count": 0,
   "metadata": {
    "application/vnd.databricks.v1+cell": {
     "cellMetadata": {
      "byteLimit": 2048000,
      "rowLimit": 10000
     },
     "inputWidgets": {},
     "nuid": "22302ad3-caa6-44f2-a1b5-38a732f3d905",
     "showTitle": false,
     "tableResultSettingsMap": {},
     "title": ""
    }
   },
   "outputs": [
    {
     "output_type": "stream",
     "name": "stdout",
     "output_type": "stream",
     "text": [
      "+--------+----------+---------+---------+----------+--------+----------+----------+--------------------+\n|VendasID|VendedorID|ClienteID|ProdutoID|Quantidade|Desconto|PrecoTotal| DataVenda|     NumeroTransacao|\n+--------+----------+---------+---------+----------+--------+----------+----------+--------------------+\n| 6207624|        16|     1401|        7|         1|     0.1|       0.0|2018-01-01|JMAICVALK5QLQPFJZMPQ|\n| 2266176|         1|    28628|       79|         8|     0.1|       0.0|2018-01-01|XJ2AASIGXZFUOKQ1HMLJ|\n| 6510351|        12|    64721|      411|        17|     0.0|       0.0|2018-01-01|AISH11C7JF8C4YRZ7PLQ|\n| 1972817|         3|    84022|      425|        22|     0.0|       0.0|2018-01-01|SQQ4UEB0ML0QPNLTNLG9|\n| 5564470|        17|    10737|      101|         3|     0.0|       0.0|2018-01-01|1AVUBWY1L2JL8ZXG5KE2|\n+--------+----------+---------+---------+----------+--------+----------+----------+--------------------+\nonly showing top 5 rows\n\nroot\n |-- VendasID: integer (nullable = true)\n |-- VendedorID: integer (nullable = true)\n |-- ClienteID: integer (nullable = true)\n |-- ProdutoID: integer (nullable = true)\n |-- Quantidade: integer (nullable = true)\n |-- Desconto: double (nullable = true)\n |-- PrecoTotal: double (nullable = true)\n |-- DataVenda: date (nullable = true)\n |-- NumeroTransacao: string (nullable = true)\n\n"
     ]
    }
   ],
   "source": [
    "br_file = f'{br_fato_path}/VENDAS'\n",
    "silver_path = f'{sv_fato_path}/VENDAS'\n",
    "\n",
    "# Caso já existem registros de Vendas na Silver, selecionamos os registros novos da Bronze\n",
    "# Caso contrário, usamos todos os registros da Bronze\n",
    "try: \n",
    "    df_vendas_silver = spark.read.format(\"delta\").load(silver_path) \n",
    "    ultimo_id_venda = df_vendas_silver.agg(max(col(\"VendasID\"))).collect()[0][0]\n",
    "\n",
    "    df_vendas = spark.read.format(\"delta\").load(br_file) \\\n",
    "        .filter(col(\"VendasID\") > ultimo_num_venda) \n",
    "except:\n",
    "    df_vendas = spark.read.format(\"delta\").load(br_file)\n",
    "\n",
    "# Checagem de dados e tipagem das colunas\n",
    "df_vendas.show(5)\n",
    "df_vendas.printSchema()"
   ]
  },
  {
   "cell_type": "code",
   "execution_count": 0,
   "metadata": {
    "application/vnd.databricks.v1+cell": {
     "cellMetadata": {
      "byteLimit": 2048000,
      "rowLimit": 10000
     },
     "inputWidgets": {},
     "nuid": "bd7b5f0b-89f8-4b3d-bc5a-6241a38e6723",
     "showTitle": false,
     "tableResultSettingsMap": {},
     "title": ""
    }
   },
   "outputs": [
    {
     "output_type": "stream",
     "name": "stdout",
     "output_type": "stream",
     "text": [
      "+---------+--------+----------+---------+----------+--------+----------+----------+--------------------+----+---+\n|ProdutoID|VendasID|VendedorID|ClienteID|Quantidade|Desconto|PrecoTotal| DataVenda|    DATA_ATUALIZACAO| ANO|MES|\n+---------+--------+----------+---------+----------+--------+----------+----------+--------------------+----+---+\n|      200| 4387325|         2|    41633|        11|     0.2|   97.9396|2018-03-16|2025-02-21 18:48:...|2018|  3|\n|      384| 3158417|         5|     6322|         2|     0.2|  90.43152|2018-03-16|2025-02-21 18:48:...|2018|  3|\n|      371| 3452246|        22|    48982|        13|     0.0| 1071.2286|2018-03-16|2025-02-21 18:48:...|2018|  3|\n|      344| 1141829|         1|    32265|         9|     0.0|  571.8501|2018-03-16|2025-02-21 18:48:...|2018|  3|\n|      399|  617495|        23|    53593|        14|     0.2| 570.20768|2018-03-16|2025-02-21 18:48:...|2018|  3|\n+---------+--------+----------+---------+----------+--------+----------+----------+--------------------+----+---+\nonly showing top 5 rows\n\nroot\n |-- ProdutoID: integer (nullable = true)\n |-- VendasID: integer (nullable = true)\n |-- VendedorID: integer (nullable = true)\n |-- ClienteID: integer (nullable = true)\n |-- Quantidade: integer (nullable = true)\n |-- Desconto: double (nullable = true)\n |-- PrecoTotal: double (nullable = true)\n |-- DataVenda: date (nullable = true)\n |-- DATA_ATUALIZACAO: timestamp (nullable = false)\n |-- ANO: integer (nullable = true)\n |-- MES: integer (nullable = true)\n\n\n Tabela Salva em /mnt/desafio-dwe-25/lhdw/silver/fato/VENDAS:\n+---------+--------+----------+---------+----------+--------+----------+----------+--------------------+----+---+\n|ProdutoID|VendasID|VendedorID|ClienteID|Quantidade|Desconto|PrecoTotal| DataVenda|    DATA_ATUALIZACAO| ANO|MES|\n+---------+--------+----------+---------+----------+--------+----------+----------+--------------------+----+---+\n|      200| 4387325|         2|    41633|        11|     0.2|   97.9396|2018-03-16|2025-02-21 18:48:...|2018|  3|\n|      384| 3158417|         5|     6322|         2|     0.2|  90.43152|2018-03-16|2025-02-21 18:48:...|2018|  3|\n|      371| 3452246|        22|    48982|        13|     0.0| 1071.2286|2018-03-16|2025-02-21 18:48:...|2018|  3|\n|      344| 1141829|         1|    32265|         9|     0.0|  571.8501|2018-03-16|2025-02-21 18:48:...|2018|  3|\n|      399|  617495|        23|    53593|        14|     0.2| 570.20768|2018-03-16|2025-02-21 18:48:...|2018|  3|\n+---------+--------+----------+---------+----------+--------+----------+----------+--------------------+----+---+\nonly showing top 5 rows\n\n"
     ]
    }
   ],
   "source": [
    "produto_path = f'{sv_dim_path}/PRODUTO'\n",
    "\n",
    "# Resgatando a coluna Preco da tabela Produto em Silver\n",
    "df_produto_silver = spark.read.format(\"delta\") \\\n",
    "    .load(produto_path) \\\n",
    "    .select(\"ProdutoID\", \"Preco\")\n",
    "\n",
    "# Fazendo inner join entre Vendas e Produto para ter acesso ao Preco\n",
    "df_vendas_preco = df_vendas.join(df_produto_silver, on=\"ProdutoID\", how=\"inner\")\n",
    "\n",
    "# Calculando o PrecoTotal para cada registro de venda considerando o Preco unitário,\n",
    "# a Quantidade e o desconto aplicado de acordo com a tabela Vendas\n",
    "df_vendas_preco = df_vendas_preco \\\n",
    "    .withColumn(\"PrecoTotal\", col(\"Preco\") * col(\"Quantidade\") * (1 - col(\"Desconto\")))\n",
    "\n",
    "# Limpeza das colunas de join, inserção de Data de Atualização, colunas de partição\n",
    "# e exclusão da tabela NumeroTransacao\n",
    "df_vendas_silver = df_vendas_preco.drop(\"Preco\") \\\n",
    "    .withColumn(\"DATA_ATUALIZACAO\", current_timestamp()) \\\n",
    "    .withColumn(\"ANO\", year(col(\"DataVenda\"))) \\\n",
    "    .withColumn(\"MES\", month(col(\"DataVenda\"))) \\\n",
    "    .drop(\"NumeroTransacao\")\n",
    "\n",
    "# Conferindo dados e schema\n",
    "df_vendas_silver.show(5)\n",
    "df_vendas_silver.printSchema()\n",
    "\n",
    "# Salvando a tabela na camada Silver\n",
    "df_vendas_silver.write \\\n",
    "    .format(\"delta\") \\\n",
    "    .mode(\"append\") \\\n",
    "    .partitionBy(\"ANO\", \"MES\") \\\n",
    "    .option(\"mergeSchema\", \"true\") \\\n",
    "    .save(silver_path)\n",
    "\n",
    "# Conferindo o diretório Silver da tabela\n",
    "print(f\"\\n Tabela Salva em {silver_path}:\")\n",
    "spark.read.format(\"delta\").option(\"header\", \"true\").load(silver_path).show(5)"
   ]
  },
  {
   "cell_type": "code",
   "execution_count": 0,
   "metadata": {
    "application/vnd.databricks.v1+cell": {
     "cellMetadata": {
      "byteLimit": 2048000,
      "rowLimit": 10000
     },
     "inputWidgets": {},
     "nuid": "df4d562b-280c-41a6-a8fd-a29994be3ee1",
     "showTitle": false,
     "tableResultSettingsMap": {},
     "title": ""
    }
   },
   "outputs": [
    {
     "output_type": "stream",
     "name": "stdout",
     "output_type": "stream",
     "text": [
      "Out[37]: DataFrame[ProdutoID: int, Preco: double]"
     ]
    }
   ],
   "source": [
    "# Liberação do cache\n",
    "df_vendas.unpersist()\n",
    "df_vendas_silver.unpersist()\n",
    "df_vendas_preco.unpersist()\n",
    "df_produto_silver.unpersist()\n",
    "gc.collect()"
   ]
  }
 ],
 "metadata": {
  "application/vnd.databricks.v1+notebook": {
   "computePreferences": null,
   "dashboards": [],
   "environmentMetadata": {
    "base_environment": "",
    "client": "1"
   },
   "language": "python",
   "notebookMetadata": {
    "pythonIndentUnit": 4
   },
   "notebookName": "003 - Transformação Camada Silver",
   "widgets": {}
  }
 },
 "nbformat": 4,
 "nbformat_minor": 0
}
